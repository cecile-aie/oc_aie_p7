{
 "cells": [
  {
   "cell_type": "markdown",
   "id": "37e30cf8-3ed5-45fa-a5ed-b909545cd71b",
   "metadata": {},
   "source": [
    "Attention: ce notebook nécessite un OS Linux.<br>\n",
    "Mise en oeuvre rapide sous Windows: wsl (avec environnement spécifique) généré via <br>\n",
    "<code> jupyter notebook --no-browser --port=8888 </code> <br>\n",
    "La session MLFLOW doit également être exécutée sous environnement WSL"
   ]
  },
  {
   "cell_type": "code",
   "execution_count": 1,
   "id": "7ef07509-e19e-4cde-9978-56cee89fd2e3",
   "metadata": {},
   "outputs": [],
   "source": [
    "import pandas as pd\n",
    "import autosklearn.classification\n",
    "import mlflow\n",
    "import mlflow.sklearn\n",
    "import matplotlib.pyplot as plt\n",
    "import seaborn as sns\n",
    "from sklearn.metrics import accuracy_score, classification_report, confusion_matrix\n",
    "from sklearn.pipeline import make_pipeline\n",
    "from sklearn.model_selection import train_test_split\n",
    "from sklearn.feature_extraction.text import CountVectorizer, TfidfVectorizer\n",
    "from sklearn.preprocessing import FunctionTransformer\n",
    "from sklearn.base import BaseEstimator, TransformerMixin\n",
    "import re"
   ]
  },
  {
   "cell_type": "code",
   "execution_count": 2,
   "id": "a6b6f71c-5ea6-4e60-8e2e-e001de1588dd",
   "metadata": {},
   "outputs": [
    {
     "data": {
      "text/plain": [
       "<Experiment: artifact_location='mlflow-artifacts:/374735653194037029', creation_time=1729108772155, experiment_id='374735653194037029', last_update_time=1729108772155, lifecycle_stage='active', name='approche_classique', tags={}>"
      ]
     },
     "execution_count": 2,
     "metadata": {},
     "output_type": "execute_result"
    }
   ],
   "source": [
    "# Asignation du serveur de tracking MLFlow\n",
    "mlflow.set_tracking_uri(\"http://localhost:5000\")\n",
    "# Création de l'expérimentation \"approche classique\"\n",
    "mlflow.set_experiment(\"approche_classique\")"
   ]
  },
  {
   "cell_type": "code",
   "execution_count": 3,
   "id": "cc78e715-d246-4411-82b3-535010a80af7",
   "metadata": {},
   "outputs": [],
   "source": [
    "# Chargement des données\n",
    "train_df = pd.read_csv('./data/train_df.csv')\n",
    "val_df = pd.read_csv('./data/val_df.csv')\n",
    "test_df = pd.read_csv('./data/test_df.csv')"
   ]
  },
  {
   "cell_type": "code",
   "execution_count": 4,
   "id": "b88e95f2-b301-493e-9e05-4edc616c4e4e",
   "metadata": {},
   "outputs": [],
   "source": [
    "# Séparation des features (X) et des labels (y)\n",
    "X_train, y_train = train_df['preprocessed_text'], train_df['target']\n",
    "X_val, y_val = val_df['preprocessed_text'], val_df['target']\n",
    "X_test, y_test = test_df['preprocessed_text'], test_df['target']\n",
    "\n",
    "# Concatenation de train et val pour utiliser avec Auto-sklearn (val sera utilisé plus tard)\n",
    "X_train_combined = pd.concat([X_train, X_val])\n",
    "y_train_combined = pd.concat([y_train, y_val])"
   ]
  },
  {
   "cell_type": "code",
   "execution_count": 5,
   "id": "b0ffd85a-3cb4-4842-9bf4-27f62f3f0f1b",
   "metadata": {},
   "outputs": [],
   "source": [
    "# Création du pipeline avec vectorisation\n",
    "pipeline = make_pipeline(\n",
    "    TfidfVectorizer(ngram_range=(1, 2))  # Utilisation de bigrams pour simuler un contexte plus large\n",
    ")"
   ]
  },
  {
   "cell_type": "code",
   "execution_count": 6,
   "id": "754314dc-7e1c-42bb-9067-afd02110ef23",
   "metadata": {},
   "outputs": [],
   "source": [
    "# Transformation des données\n",
    "X_train_combined_preprocessed = pipeline.fit_transform(X_train_combined)\n",
    "X_test_preprocessed = pipeline.transform(X_test)"
   ]
  },
  {
   "cell_type": "code",
   "execution_count": 7,
   "id": "c67ac4a2-3f54-4110-b42c-6038c384a58f",
   "metadata": {},
   "outputs": [],
   "source": [
    "# Auto-sklearn - Configuration de l'analyse de sentiment\n",
    "automl = autosklearn.classification.AutoSklearnClassifier(\n",
    "    time_left_for_this_task=3600,  # Temps total en secondes\n",
    "    per_run_time_limit=300,        # Limite de temps par essai\n",
    "    metric=autosklearn.metrics.accuracy,\n",
    ")"
   ]
  },
  {
   "cell_type": "code",
   "execution_count": 8,
   "id": "83dc362f-3291-407e-9c47-99b2c38ccca3",
   "metadata": {},
   "outputs": [
    {
     "name": "stdout",
     "output_type": "stream",
     "text": [
      "Accuracy: 0.7047560222359481\n",
      "Classification Report:\n",
      "               precision    recall  f1-score   support\n",
      "\n",
      "           0       0.69      0.73      0.71       808\n",
      "           1       0.72      0.68      0.70       811\n",
      "\n",
      "    accuracy                           0.70      1619\n",
      "   macro avg       0.71      0.70      0.70      1619\n",
      "weighted avg       0.71      0.70      0.70      1619\n",
      "\n"
     ]
    },
    {
     "name": "stderr",
     "output_type": "stream",
     "text": [
      "2024/11/04 00:09:07 WARNING mlflow.models.model: Model logged without a signature and input example. Please set `input_example` parameter when logging the model to auto infer the model signature.\n"
     ]
    },
    {
     "data": {
      "image/png": "[encoded data removed]",
      "text/plain": [
       "<Figure size 800x600 with 2 Axes>"
      ]
     },
     "metadata": {},
     "output_type": "display_data"
    },
    {
     "name": "stderr",
     "output_type": "stream",
     "text": [
      "/tmp/ipykernel_1210/3107374885.py:52: FutureWarning: The frame.append method is deprecated and will be removed from pandas in a future version. Use pandas.concat instead.\n",
      "  model_info_df = model_info_df.append({'Model': str(model), 'Weight': weight, 'Params': params}, ignore_index=True)\n",
      "/tmp/ipykernel_1210/3107374885.py:52: FutureWarning: The frame.append method is deprecated and will be removed from pandas in a future version. Use pandas.concat instead.\n",
      "  model_info_df = model_info_df.append({'Model': str(model), 'Weight': weight, 'Params': params}, ignore_index=True)\n",
      "/tmp/ipykernel_1210/3107374885.py:52: FutureWarning: The frame.append method is deprecated and will be removed from pandas in a future version. Use pandas.concat instead.\n",
      "  model_info_df = model_info_df.append({'Model': str(model), 'Weight': weight, 'Params': params}, ignore_index=True)\n",
      "/tmp/ipykernel_1210/3107374885.py:52: FutureWarning: The frame.append method is deprecated and will be removed from pandas in a future version. Use pandas.concat instead.\n",
      "  model_info_df = model_info_df.append({'Model': str(model), 'Weight': weight, 'Params': params}, ignore_index=True)\n",
      "/tmp/ipykernel_1210/3107374885.py:52: FutureWarning: The frame.append method is deprecated and will be removed from pandas in a future version. Use pandas.concat instead.\n",
      "  model_info_df = model_info_df.append({'Model': str(model), 'Weight': weight, 'Params': params}, ignore_index=True)\n",
      "/tmp/ipykernel_1210/3107374885.py:52: FutureWarning: The frame.append method is deprecated and will be removed from pandas in a future version. Use pandas.concat instead.\n",
      "  model_info_df = model_info_df.append({'Model': str(model), 'Weight': weight, 'Params': params}, ignore_index=True)\n",
      "/tmp/ipykernel_1210/3107374885.py:52: FutureWarning: The frame.append method is deprecated and will be removed from pandas in a future version. Use pandas.concat instead.\n",
      "  model_info_df = model_info_df.append({'Model': str(model), 'Weight': weight, 'Params': params}, ignore_index=True)\n",
      "/tmp/ipykernel_1210/3107374885.py:52: FutureWarning: The frame.append method is deprecated and will be removed from pandas in a future version. Use pandas.concat instead.\n",
      "  model_info_df = model_info_df.append({'Model': str(model), 'Weight': weight, 'Params': params}, ignore_index=True)\n",
      "/tmp/ipykernel_1210/3107374885.py:52: FutureWarning: The frame.append method is deprecated and will be removed from pandas in a future version. Use pandas.concat instead.\n",
      "  model_info_df = model_info_df.append({'Model': str(model), 'Weight': weight, 'Params': params}, ignore_index=True)\n",
      "/tmp/ipykernel_1210/3107374885.py:52: FutureWarning: The frame.append method is deprecated and will be removed from pandas in a future version. Use pandas.concat instead.\n",
      "  model_info_df = model_info_df.append({'Model': str(model), 'Weight': weight, 'Params': params}, ignore_index=True)\n",
      "2024/11/04 00:09:12 INFO mlflow.tracking._tracking_service.client: 🏃 View run AutoSKLearn at: http://localhost:5000/#/experiments/374735653194037029/runs/118f50bbb21746318d18ce23ccd3e9b1.\n",
      "2024/11/04 00:09:12 INFO mlflow.tracking._tracking_service.client: 🧪 View experiment at: http://localhost:5000/#/experiments/374735653194037029.\n"
     ]
    }
   ],
   "source": [
    "import mlflow\n",
    "import mlflow.sklearn\n",
    "from sklearn.metrics import accuracy_score, classification_report, confusion_matrix\n",
    "import seaborn as sns\n",
    "import matplotlib.pyplot as plt\n",
    "import pandas as pd\n",
    "\n",
    "# Logger avec MLflow\n",
    "with mlflow.start_run(run_name=\"AutoSKLearn\"):\n",
    "    # Entraînement du modèle Auto-sklearn\n",
    "    automl.fit(X_train_combined_preprocessed, y_train_combined)\n",
    "\n",
    "    # Prédiction sur les données de test\n",
    "    y_pred = automl.predict(X_test_preprocessed)\n",
    "\n",
    "    # Calcul de l'exactitude\n",
    "    accuracy = accuracy_score(y_test, y_pred)\n",
    "    print(f\"Accuracy: {accuracy}\")\n",
    "\n",
    "    # Rapport de classification détaillé\n",
    "    report = classification_report(y_test, y_pred)\n",
    "    print(\"Classification Report:\\n\", report)\n",
    "\n",
    "    # Logging des paramètres et métriques du modèle principal\n",
    "    mlflow.log_param(\"time_left_for_this_task\", 3600)\n",
    "    mlflow.log_param(\"per_run_time_limit\", 300)\n",
    "    mlflow.log_metric(\"accuracy\", accuracy)\n",
    "\n",
    "    # Logging du modèle principal dans MLflow\n",
    "    mlflow.sklearn.log_model(automl, \"best_model\")\n",
    "\n",
    "    # Création de la matrice de confusion\n",
    "    cm = confusion_matrix(y_test, y_pred)\n",
    "\n",
    "    # Affichage de la matrice de confusion avec Seaborn\n",
    "    plt.figure(figsize=(8, 6))\n",
    "    sns.heatmap(cm, annot=True, fmt=\"d\", cmap=\"Blues\", xticklabels=['Classe 0', 'Classe 1'], yticklabels=['Classe 0', 'Classe 1'])\n",
    "    plt.xlabel(\"Prédictions\")\n",
    "    plt.ylabel(\"Vérité terrain\")\n",
    "    plt.title(\"Matrice de confusion\")\n",
    "    plt.show()\n",
    "\n",
    "    # Enregistrer tous les modèles testés et leurs hyperparamètres\n",
    "    models_with_weights = automl.get_models_with_weights()\n",
    "    \n",
    "    # Créer un DataFrame pour stocker les informations des modèles\n",
    "    model_info_df = pd.DataFrame(columns=['Model', 'Weight', 'Params'])\n",
    "\n",
    "    for weight, model in models_with_weights:\n",
    "        # Obtenir les hyperparamètres du modèle\n",
    "        params = model.get_params()\n",
    "        model_info_df = model_info_df.append({'Model': str(model), 'Weight': weight, 'Params': params}, ignore_index=True)\n",
    "\n",
    "    # Enregistrer le DataFrame dans MLflow en tant que artefact\n",
    "    model_info_df.to_csv('models_info.csv', index=False)\n",
    "    mlflow.log_artifact('models_info.csv')\n",
    "\n",
    "    # Logging du rapport de classification dans MLflow sous forme de texte\n",
    "    mlflow.log_text(report, \"classification_report.txt\")\n"
   ]
  },
  {
   "cell_type": "code",
   "execution_count": 12,
   "id": "ddc0872d-5374-40af-b784-2aa211e42ee9",
   "metadata": {},
   "outputs": [
    {
     "name": "stdout",
     "output_type": "stream",
     "text": [
      "{2: {'model_id': 2, 'rank': 1, 'cost': 0.2896379525593009, 'ensemble_weight': 0.02, 'data_preprocessor': <autosklearn.pipeline.components.data_preprocessing.DataPreprocessorChoice object at 0x7fa264b982b0>, 'balancing': Balancing(random_state=1), 'feature_preprocessor': <autosklearn.pipeline.components.feature_preprocessing.FeaturePreprocessorChoice object at 0x7fa263a49f70>, 'classifier': <autosklearn.pipeline.components.classification.ClassifierChoice object at 0x7fa263a49dc0>, 'sklearn_classifier': RandomForestClassifier(max_features=165, n_estimators=512, n_jobs=1,\n",
      "                       random_state=1, warm_start=True)}, 4: {'model_id': 4, 'rank': 2, 'cost': 0.32459425717852686, 'ensemble_weight': 0.02, 'data_preprocessor': <autosklearn.pipeline.components.data_preprocessing.DataPreprocessorChoice object at 0x7fa264b982e0>, 'balancing': Balancing(random_state=1, strategy='weighting'), 'feature_preprocessor': <autosklearn.pipeline.components.feature_preprocessing.FeaturePreprocessorChoice object at 0x7fa2637ecb80>, 'classifier': <autosklearn.pipeline.components.classification.ClassifierChoice object at 0x7fa26385b970>, 'sklearn_classifier': RandomForestClassifier(bootstrap=False, criterion='entropy', max_features=1780,\n",
      "                       min_samples_leaf=15, min_samples_split=6,\n",
      "                       n_estimators=512, n_jobs=1, random_state=1,\n",
      "                       warm_start=True)}, 8: {'model_id': 8, 'rank': 3, 'cost': 0.3539325842696629, 'ensemble_weight': 0.02, 'data_preprocessor': <autosklearn.pipeline.components.data_preprocessing.DataPreprocessorChoice object at 0x7fa264aca790>, 'balancing': Balancing(random_state=1), 'feature_preprocessor': <autosklearn.pipeline.components.feature_preprocessing.FeaturePreprocessorChoice object at 0x7fa2632845b0>, 'classifier': <autosklearn.pipeline.components.classification.ClassifierChoice object at 0x7fa263223730>, 'sklearn_classifier': RandomForestClassifier(criterion='entropy', max_features=129,\n",
      "                       min_samples_leaf=13, min_samples_split=15,\n",
      "                       n_estimators=512, n_jobs=1, random_state=1,\n",
      "                       warm_start=True)}, 12: {'model_id': 12, 'rank': 4, 'cost': 0.4332084893882646, 'ensemble_weight': 0.02, 'data_preprocessor': <autosklearn.pipeline.components.data_preprocessing.DataPreprocessorChoice object at 0x7fa263843c40>, 'balancing': Balancing(random_state=1), 'feature_preprocessor': <autosklearn.pipeline.components.feature_preprocessing.FeaturePreprocessorChoice object at 0x7fa263198310>, 'classifier': <autosklearn.pipeline.components.classification.ClassifierChoice object at 0x7fa262b749a0>, 'sklearn_classifier': KNeighborsClassifier(n_neighbors=6, p=1, weights='distance')}, 15: {'model_id': 15, 'rank': 5, 'cost': 0.2865168539325843, 'ensemble_weight': 0.44, 'data_preprocessor': <autosklearn.pipeline.components.data_preprocessing.DataPreprocessorChoice object at 0x7fa2636e1be0>, 'balancing': Balancing(random_state=1), 'feature_preprocessor': <autosklearn.pipeline.components.feature_preprocessing.FeaturePreprocessorChoice object at 0x7fa262b536d0>, 'classifier': <autosklearn.pipeline.components.classification.ClassifierChoice object at 0x7fa262b538b0>, 'sklearn_classifier': PassiveAggressiveClassifier(C=0.14268277711454813, max_iter=64, random_state=1,\n",
      "                            tol=0.0002600768160857831, warm_start=True)}, 20: {'model_id': 20, 'rank': 6, 'cost': 0.2833957553058677, 'ensemble_weight': 0.14, 'data_preprocessor': <autosklearn.pipeline.components.data_preprocessing.DataPreprocessorChoice object at 0x7fa263237760>, 'balancing': Balancing(random_state=1, strategy='weighting'), 'feature_preprocessor': <autosklearn.pipeline.components.feature_preprocessing.FeaturePreprocessorChoice object at 0x7fa262592610>, 'classifier': <autosklearn.pipeline.components.classification.ClassifierChoice object at 0x7fa2625929a0>, 'sklearn_classifier': SGDClassifier(alpha=5.886112392681687e-06, average=True,\n",
      "              epsilon=0.00011338529776810724, eta0=0.01508454851397274,\n",
      "              l1_ratio=3.459362323263004e-07, learning_rate='constant',\n",
      "              loss='modified_huber', max_iter=512, penalty='elasticnet',\n",
      "              random_state=1, tol=5.034234698496303e-05, warm_start=True)}, 22: {'model_id': 22, 'rank': 7, 'cost': 0.30149812734082393, 'ensemble_weight': 0.22, 'data_preprocessor': <autosklearn.pipeline.components.data_preprocessing.DataPreprocessorChoice object at 0x7fa2631037c0>, 'balancing': Balancing(random_state=1, strategy='weighting'), 'feature_preprocessor': <autosklearn.pipeline.components.feature_preprocessing.FeaturePreprocessorChoice object at 0x7fa2624c3d00>, 'classifier': <autosklearn.pipeline.components.classification.ClassifierChoice object at 0x7fa261919610>, 'sklearn_classifier': RandomForestClassifier(bootstrap=False, criterion='entropy', max_features=49,\n",
      "                       min_samples_leaf=8, min_samples_split=18,\n",
      "                       n_estimators=512, n_jobs=1, random_state=1,\n",
      "                       warm_start=True)}, 27: {'model_id': 27, 'rank': 8, 'cost': 0.37203495630461925, 'ensemble_weight': 0.08, 'data_preprocessor': <autosklearn.pipeline.components.data_preprocessing.DataPreprocessorChoice object at 0x7fa262b5bdc0>, 'balancing': Balancing(random_state=1), 'feature_preprocessor': <autosklearn.pipeline.components.feature_preprocessing.FeaturePreprocessorChoice object at 0x7fa25e1cb790>, 'classifier': <autosklearn.pipeline.components.classification.ClassifierChoice object at 0x7fa25e1cb940>, 'sklearn_classifier': MLPClassifier(activation='tanh', alpha=0.044186653555680654, beta_1=0.999,\n",
      "              beta_2=0.9, hidden_layer_sizes=(218, 218, 218),\n",
      "              learning_rate_init=0.00035642668190759383, max_iter=32,\n",
      "              n_iter_no_change=32, random_state=1, validation_fraction=0.0,\n",
      "              verbose=0, warm_start=True)}, 28: {'model_id': 28, 'rank': 9, 'cost': 0.30711610486891383, 'ensemble_weight': 0.02, 'data_preprocessor': <autosklearn.pipeline.components.data_preprocessing.DataPreprocessorChoice object at 0x7fa2625a4be0>, 'balancing': Balancing(random_state=1), 'feature_preprocessor': <autosklearn.pipeline.components.feature_preprocessing.FeaturePreprocessorChoice object at 0x7fa25dc210d0>, 'classifier': <autosklearn.pipeline.components.classification.ClassifierChoice object at 0x7fa25db9a2e0>, 'sklearn_classifier': RandomForestClassifier(criterion='entropy', max_features=95,\n",
      "                       min_samples_split=4, n_estimators=512, n_jobs=1,\n",
      "                       random_state=1, warm_start=True)}, 29: {'model_id': 29, 'rank': 10, 'cost': 0.30461922596754054, 'ensemble_weight': 0.02, 'data_preprocessor': <autosklearn.pipeline.components.data_preprocessing.DataPreprocessorChoice object at 0x7fa26247fcd0>, 'balancing': Balancing(random_state=1), 'feature_preprocessor': <autosklearn.pipeline.components.feature_preprocessing.FeaturePreprocessorChoice object at 0x7fa25db52940>, 'classifier': <autosklearn.pipeline.components.classification.ClassifierChoice object at 0x7fa25466a130>, 'sklearn_classifier': PassiveAggressiveClassifier(C=0.7038454694474945, max_iter=64, random_state=1,\n",
      "                            tol=0.0005601633097815354, warm_start=True)}}\n"
     ]
    }
   ],
   "source": [
    "# Afficher les modèles explorés et le meilleur modèle\n",
    "print(automl.show_models())"
   ]
  },
  {
   "cell_type": "code",
   "execution_count": 13,
   "id": "ca5c3ba9-ba44-4404-b6cf-50e1f7ef4f06",
   "metadata": {},
   "outputs": [
    {
     "name": "stdout",
     "output_type": "stream",
     "text": [
      "SimpleClassificationPipeline({'balancing:strategy': 'none', 'classifier:__choice__': 'passive_aggressive', 'data_preprocessor:__choice__': 'feature_type', 'feature_preprocessor:__choice__': 'no_preprocessing', 'classifier:passive_aggressive:C': 0.14268277711454813, 'classifier:passive_aggressive:average': 'False', 'classifier:passive_aggressive:fit_intercept': 'True', 'classifier:passive_aggressive:loss': 'hinge', 'classifier:passive_aggressive:tol': 0.0002600768160857831, 'data_preprocessor:feature_type:numerical_transformer:imputation:strategy': 'most_frequent', 'data_preprocessor:feature_type:numerical_transformer:rescaling:__choice__': 'none'},\n",
      "dataset_properties={\n",
      "  'task': 1,\n",
      "  'sparse': True,\n",
      "  'multilabel': False,\n",
      "  'multiclass': False,\n",
      "  'target_type': 'classification',\n",
      "  'signed': False})\n"
     ]
    }
   ],
   "source": [
    "best_model = automl.get_models_with_weights()[0][1]\n",
    "print(best_model)"
   ]
  },
  {
   "cell_type": "code",
   "execution_count": null,
   "id": "8371fc9a-6894-496c-af8a-45762d4f185a",
   "metadata": {},
   "outputs": [],
   "source": []
  }
 ],
 "metadata": {
  "kernelspec": {
   "display_name": "auto-sklearn-env",
   "language": "python",
   "name": "auto-sklearn-env"
  },
  "language_info": {
   "codemirror_mode": {
    "name": "ipython",
    "version": 3
   },
   "file_extension": ".py",
   "mimetype": "text/x-python",
   "name": "python",
   "nbconvert_exporter": "python",
   "pygments_lexer": "ipython3",
   "version": "3.8.20"
  }
 },
 "nbformat": 4,
 "nbformat_minor": 5
}
