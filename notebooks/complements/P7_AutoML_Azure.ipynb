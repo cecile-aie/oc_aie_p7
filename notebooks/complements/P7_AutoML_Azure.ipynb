{
 "cells": [
  {
   "attachments": {},
   "cell_type": "markdown",
   "id": "c02fe36e-8059-4244-a623-dd7a39a9029b",
   "metadata": {},
   "source": [
    "Notebook à exécuter depuis wsl"
   ]
  },
  {
   "cell_type": "code",
   "execution_count": 1,
   "id": "003d074b-4cad-4ed4-b0f8-c6a1a09d6b56",
   "metadata": {},
   "outputs": [
    {
     "name": "stdout",
     "output_type": "stream",
     "text": [
      "{'artifact_path': 'outputs/mlflow-model', 'flavors': {'python_function': {'env': {'conda': 'conda.yaml', 'virtualenv': 'python_env.yaml'}, 'loader_module': 'mlflow.sklearn', 'model_path': 'model.pkl', 'predict_fn': 'predict', 'python_version': '3.9.20'}, 'sklearn': {'code': None, 'pickled_model': 'model.pkl', 'serialization_format': 'pickle', 'sklearn_version': '1.5.1'}}, 'metadata': {'azureml.base_image': 'mcr.microsoft.com/azureml/curated/ai-ml-automl:7', 'azureml.engine': 'automl'}, 'mlflow_version': '2.9.2', 'model_size_bytes': 11743049, 'model_uuid': '4f2597a615a847a4a74544353bbb83fa', 'run_id': 'sweet_bridge_1rpqblh627_256', 'signature': {'inputs': '[{\"type\": \"string\", \"name\": \"Column2\"}, {\"type\": \"string\", \"name\": \"text\"}]', 'outputs': '[{\"type\": \"tensor\", \"tensor-spec\": {\"dtype\": \"int64\", \"shape\": [-1]}}]', 'params': None}, 'utc_time_created': '2024-10-24 01:06:45.421770'}\n"
     ]
    }
   ],
   "source": [
    "import yaml\n",
    "\n",
    "# Chemin du fichier MLmodel dans WSL\n",
    "model_path = \"/mnt/c/Users/cecil/Documents/oc_aiep7/models/Azure\"\n",
    "\n",
    "# Charger le fichier MLmodel\n",
    "with open(f\"{model_path}/MLmodel\", 'r') as f:\n",
    "    model_meta = yaml.safe_load(f)\n",
    "\n",
    "print(model_meta)\n"
   ]
  },
  {
   "cell_type": "code",
   "execution_count": 3,
   "id": "70d0a2ef-f1f2-475b-9248-96ec307d1eeb",
   "metadata": {},
   "outputs": [
    {
     "name": "stderr",
     "output_type": "stream",
     "text": [
      "2024/11/03 22:51:25 INFO mlflow.pyfunc: To install the dependencies that were used to train the model, run the following command: '%pip install -r /mnt/c/Users/cecil/Documents/oc_aiep7/models/Azure/requirements.txt'.\n"
     ]
    },
    {
     "name": "stdout",
     "output_type": "stream",
     "text": [
      "Dependencies file created at: /mnt/c/Users/cecil/Documents/oc_aiep7/models/Azure/requirements.txt\n"
     ]
    }
   ],
   "source": [
    "# Obtenir les dépendances du modèle\n",
    "# dependencies_file = mlflow.pyfunc.get_model_dependencies(model_path)\n",
    "# print(f\"Dependencies file created at: {dependencies_file}\")"
   ]
  },
  {
   "cell_type": "code",
   "execution_count": 5,
   "id": "be062343-e5d6-4205-90da-324fcde441de",
   "metadata": {},
   "outputs": [],
   "source": [
    "import mlflow.pyfunc\n",
    "\n",
    "# Charger le modèle avec mlflow\n",
    "model = mlflow.pyfunc.load_model(model_path)"
   ]
  },
  {
   "cell_type": "code",
   "execution_count": 6,
   "id": "97c18e7f-529b-480d-9546-575224bea273",
   "metadata": {},
   "outputs": [],
   "source": [
    "# Classe de modèle personnalisé\n",
    "class MyModelWrapper(mlflow.pyfunc.PythonModel):\n",
    "    def __init__(self, model):\n",
    "        self.model = model\n",
    "\n",
    "    def predict(self, context, model_input):\n",
    "        # Utiliser la méthode de prédiction du modèle chargé ici\n",
    "        return self.model.predict(model_input)"
   ]
  },
  {
   "cell_type": "code",
   "execution_count": 7,
   "id": "c829fbf0-17b3-4521-a8b2-aecc7f38fa7a",
   "metadata": {},
   "outputs": [
    {
     "data": {
      "text/plain": [
       "<Experiment: artifact_location='mlflow-artifacts:/374735653194037029', creation_time=1729108772155, experiment_id='374735653194037029', last_update_time=1729108772155, lifecycle_stage='active', name='approche_classique', tags={}>"
      ]
     },
     "execution_count": 7,
     "metadata": {},
     "output_type": "execute_result"
    }
   ],
   "source": [
    "# Définir l'URI de suivi MLflow\n",
    "mlflow.set_tracking_uri(\"http://localhost:5000\")  # Changez l'URI si nécessaire\n",
    "\n",
    "# Terminer tout run MLflow en cours\n",
    "if mlflow.active_run():\n",
    "    mlflow.end_run()\n",
    "\n",
    "# Démarrer un nouveau run dans l'expérience existante \"modèle_classique\"\n",
    "mlflow.set_experiment(\"approche_classique\")"
   ]
  },
  {
   "cell_type": "code",
   "execution_count": 8,
   "id": "b32129f4-4fff-45cf-bbba-65ea7d74b30c",
   "metadata": {},
   "outputs": [
    {
     "name": "stderr",
     "output_type": "stream",
     "text": [
      "2024/11/03 23:01:00 WARNING mlflow.utils.environment: Encountered an unexpected error while inferring pip requirements (model URI: /tmp/tmpwapcik8h/model, flavor: python_function). Fall back to return ['cloudpickle==2.2.1']. Set logging level to DEBUG to see the full traceback. \n",
      "2024/11/03 23:01:00 WARNING mlflow.models.model: Model logged without a signature and input example. Please set `input_example` parameter when logging the model to auto infer the model signature.\n",
      "2024/11/03 23:01:01 INFO mlflow.tracking._tracking_service.client: 🏃 View run AutoML at: http://localhost:5000/#/experiments/374735653194037029/runs/77e71ba904b64566bed9099f0fa2be0c.\n",
      "2024/11/03 23:01:01 INFO mlflow.tracking._tracking_service.client: 🧪 View experiment at: http://localhost:5000/#/experiments/374735653194037029.\n"
     ]
    }
   ],
   "source": [
    "import mlflow\n",
    "import mlflow.pyfunc\n",
    "import os\n",
    "import yaml\n",
    "\n",
    "# Classe de modèle personnalisé\n",
    "class MyModelWrapper(mlflow.pyfunc.PythonModel):\n",
    "    def __init__(self, model):\n",
    "        self.model = model\n",
    "\n",
    "    def predict(self, context, model_input):\n",
    "        # Utiliser la méthode de prédiction du modèle chargé ici\n",
    "        return self.model.predict(model_input)\n",
    "\n",
    "# Définir le chemin du modèle (le dossier contenant model.pkl et MLmodel)\n",
    "model_path = \"/mnt/c/Users/cecil/Documents/oc_aiep7/models/Azure\"\n",
    "\n",
    "# Charger le modèle avec MLflow (ex. modèle scikit-learn ou autre)\n",
    "model = mlflow.pyfunc.load_model(model_path)\n",
    "\n",
    "# Enregistrer le modèle dans MLflow avec une classe PythonModel\n",
    "mlflow.set_tracking_uri(\"http://localhost:5000\")  # Changez l'URI si nécessaire\n",
    "\n",
    "with mlflow.start_run(run_name=\"AutoML\"):\n",
    "    # Envelopper le modèle avec votre classe personnalisée MyModelWrapper\n",
    "    wrapped_model = MyModelWrapper(model)\n",
    "\n",
    "    # Logguer le modèle dans MLFlow\n",
    "    mlflow.pyfunc.log_model(\n",
    "        artifact_path=\"model\",\n",
    "        python_model=wrapped_model,  # Passer l'instance de la classe PythonModel ici\n",
    "    )\n"
   ]
  },
  {
   "cell_type": "markdown",
   "id": "c8d373a1-afa6-47cf-9f59-c0536db8c344",
   "metadata": {},
   "source": [
    "Le modèle ne contient pas de input_example, utilisation du code proposé dans artifacts <br>\n",
    "Problème: en utilisant le même dataframe que dans AutoML le schéma de données ne correspond pas !"
   ]
  },
  {
   "cell_type": "code",
   "execution_count": 9,
   "id": "4b306619-4ff0-43b0-bc89-d20a3a672d60",
   "metadata": {},
   "outputs": [
    {
     "data": {
      "text/html": [
       "<div>\n",
       "<style scoped>\n",
       "    .dataframe tbody tr th:only-of-type {\n",
       "        vertical-align: middle;\n",
       "    }\n",
       "\n",
       "    .dataframe tbody tr th {\n",
       "        vertical-align: top;\n",
       "    }\n",
       "\n",
       "    .dataframe thead th {\n",
       "        text-align: right;\n",
       "    }\n",
       "</style>\n",
       "<table border=\"1\" class=\"dataframe\">\n",
       "  <thead>\n",
       "    <tr style=\"text-align: right;\">\n",
       "      <th></th>\n",
       "      <th>text</th>\n",
       "      <th>target</th>\n",
       "    </tr>\n",
       "  </thead>\n",
       "  <tbody>\n",
       "    <tr>\n",
       "      <th>0</th>\n",
       "      <td>So my flight was supposed to leave at 10:45 th...</td>\n",
       "      <td>1</td>\n",
       "    </tr>\n",
       "    <tr>\n",
       "      <th>1</th>\n",
       "      <td>Right!  Im checking out the hotel and heading ...</td>\n",
       "      <td>0</td>\n",
       "    </tr>\n",
       "    <tr>\n",
       "      <th>2</th>\n",
       "      <td>packing baby... don't wanna keep the plane wai...</td>\n",
       "      <td>0</td>\n",
       "    </tr>\n",
       "    <tr>\n",
       "      <th>3</th>\n",
       "      <td>@AmberHarmon My need for the latest &amp;amp; grea...</td>\n",
       "      <td>1</td>\n",
       "    </tr>\n",
       "    <tr>\n",
       "      <th>4</th>\n",
       "      <td>is gettn ready to board this plane to LA...i m...</td>\n",
       "      <td>0</td>\n",
       "    </tr>\n",
       "  </tbody>\n",
       "</table>\n",
       "</div>"
      ],
      "text/plain": [
       "                                                text  target\n",
       "0  So my flight was supposed to leave at 10:45 th...       1\n",
       "1  Right!  Im checking out the hotel and heading ...       0\n",
       "2  packing baby... don't wanna keep the plane wai...       0\n",
       "3  @AmberHarmon My need for the latest &amp; grea...       1\n",
       "4  is gettn ready to board this plane to LA...i m...       0"
      ]
     },
     "execution_count": 9,
     "metadata": {},
     "output_type": "execute_result"
    }
   ],
   "source": [
    "import pandas as pd\n",
    "example_df = pd.read_csv(\"./data/test_data_autoML.csv\")\n",
    "example_df.head(5)"
   ]
  },
  {
   "cell_type": "code",
   "execution_count": 10,
   "id": "88341e70-708b-46ee-93b1-b59c9acc98dc",
   "metadata": {},
   "outputs": [
    {
     "name": "stderr",
     "output_type": "stream",
     "text": [
      "Downloading artifacts: 100%|██████████████████████████████████████████████████████████████| 5/5 [00:00<00:00, 14.34it/s]\n",
      "2024/11/03 23:01:23 WARNING mlflow.utils.requirements_utils: Detected one or more mismatches between the model's dependencies and the current Python environment:\n",
      " - mlflow (current: 2.17.0, required: mlflow==2.9.2)\n",
      "To fix the mismatches, call `mlflow.pyfunc.get_model_dependencies(model_uri)` to fetch the model's environment and install dependencies using the resulting environment file.\n"
     ]
    },
    {
     "name": "stdout",
     "output_type": "stream",
     "text": [
      "Erreur lors de la validation de l'exemple d'entrée :  'ColSpec' object has no attribute '_required'\n"
     ]
    }
   ],
   "source": [
    "import mlflow.pyfunc\n",
    "import pandas as pd\n",
    "\n",
    "# Modèle URI\n",
    "model_uri = 'runs:/22e60a8114ae48d788b585e66ad3bb58/model'\n",
    "\n",
    "# Charger le modèle\n",
    "model = mlflow.pyfunc.load_model(model_uri)\n",
    "\n",
    "# Exemple d'entrée - un DataFrame avec les colonnes 'text' et 'target'\n",
    "input_example = example_df\n",
    "\n",
    "# Essayer une prédiction\n",
    "try:\n",
    "    predictions = model.predict(input_example)\n",
    "    print(\"Prédictions : \", predictions)\n",
    "except Exception as e:\n",
    "    print(\"Erreur lors de la validation de l'exemple d'entrée : \", str(e))\n"
   ]
  },
  {
   "cell_type": "code",
   "execution_count": 12,
   "id": "35ed6892-7c89-42aa-9e63-34d8c87ecf44",
   "metadata": {},
   "outputs": [
    {
     "name": "stderr",
     "output_type": "stream",
     "text": [
      "Downloading artifacts: 100%|██████████████████████████████████████████████████████████████| 5/5 [00:00<00:00, 17.56it/s]\n",
      "2024/11/03 23:03:28 WARNING mlflow.utils.requirements_utils: Detected one or more mismatches between the model's dependencies and the current Python environment:\n",
      " - mlflow (current: 2.17.0, required: mlflow==2.9.2)\n",
      "To fix the mismatches, call `mlflow.pyfunc.get_model_dependencies(model_uri)` to fetch the model's environment and install dependencies using the resulting environment file.\n"
     ]
    },
    {
     "name": "stdout",
     "output_type": "stream",
     "text": [
      "Unexpected exception formatting exception. Falling back to standard exception\n"
     ]
    },
    {
     "name": "stderr",
     "output_type": "stream",
     "text": [
      "Traceback (most recent call last):\n",
      "  File \"/home/cecile_2301/miniconda3/envs/AutoML-env/lib/python3.9/site-packages/mlflow/pyfunc/__init__.py\", line 668, in _validate_prediction_input\n",
      "    _warn_potentially_incompatible_py_version_if_necessary(model_py_version=model_py_version)\n",
      "  File \"/home/cecile_2301/miniconda3/envs/AutoML-env/lib/python3.9/site-packages/mlflow/models/utils.py\", line 1149, in _enforce_schema\n",
      "  File \"/home/cecile_2301/miniconda3/envs/AutoML-env/lib/python3.9/site-packages/mlflow/types/schema.py\", line 990, in required_input_names\n",
      "  File \"/home/cecile_2301/miniconda3/envs/AutoML-env/lib/python3.9/site-packages/mlflow/types/schema.py\", line 990, in <listcomp>\n",
      "  File \"/home/cecile_2301/miniconda3/envs/AutoML-env/lib/python3.9/site-packages/mlflow/types/schema.py\", line 729, in required\n",
      "    param_names = [param_spec.name for param_spec in params]\n",
      "AttributeError: 'ColSpec' object has no attribute '_required'\n",
      "\n",
      "During handling of the above exception, another exception occurred:\n",
      "\n",
      "Traceback (most recent call last):\n",
      "  File \"/home/cecile_2301/miniconda3/envs/AutoML-env/lib/python3.9/site-packages/IPython/core/interactiveshell.py\", line 3550, in run_code\n",
      "    exec(code_obj, self.user_global_ns, self.user_ns)\n",
      "  File \"/tmp/ipykernel_892/2949514641.py\", line 9, in <module>\n",
      "    loaded_model.predict(example_df)\n",
      "  File \"/home/cecile_2301/miniconda3/envs/AutoML-env/lib/python3.9/site-packages/mlflow/pyfunc/__init__.py\", line 755, in predict\n",
      "    env_manager=env_manager,\n",
      "  File \"/home/cecile_2301/miniconda3/envs/AutoML-env/lib/python3.9/site-packages/mlflow/pyfunc/__init__.py\", line 793, in _predict\n",
      "    model_dir = _download_artifact_from_uri(model_uri)\n",
      "  File \"/home/cecile_2301/miniconda3/envs/AutoML-env/lib/python3.9/site-packages/mlflow/pyfunc/model.py\", line 642, in predict\n",
      "  File \"/tmp/ipykernel_693/2284016562.py\", line 13, in predict\n",
      "  File \"/home/cecile_2301/miniconda3/envs/AutoML-env/lib/python3.9/site-packages/mlflow/pyfunc/__init__.py\", line 755, in predict\n",
      "    env_manager=env_manager,\n",
      "  File \"/home/cecile_2301/miniconda3/envs/AutoML-env/lib/python3.9/site-packages/mlflow/pyfunc/__init__.py\", line 788, in _predict\n",
      "    model_meta=model_meta, client=client, server_pid=scoring_server_proc.pid\n",
      "  File \"/home/cecile_2301/miniconda3/envs/AutoML-env/lib/python3.9/site-packages/mlflow/pyfunc/__init__.py\", line 672, in _validate_prediction_input\n",
      "    model_config = _get_overridden_pyfunc_model_config(\n",
      "  File \"/home/cecile_2301/miniconda3/envs/AutoML-env/lib/python3.9/site-packages/mlflow/types/schema.py\", line 1086, in __repr__\n",
      "  File \"/home/cecile_2301/miniconda3/envs/AutoML-env/lib/python3.9/site-packages/mlflow/types/schema.py\", line 745, in __repr__\n",
      "    @property\n",
      "  File \"/home/cecile_2301/miniconda3/envs/AutoML-env/lib/python3.9/site-packages/mlflow/types/schema.py\", line 729, in required\n",
      "    param_names = [param_spec.name for param_spec in params]\n",
      "AttributeError: 'ColSpec' object has no attribute '_required'\n",
      "\n",
      "During handling of the above exception, another exception occurred:\n",
      "\n",
      "Traceback (most recent call last):\n",
      "  File \"/home/cecile_2301/miniconda3/envs/AutoML-env/lib/python3.9/site-packages/IPython/core/interactiveshell.py\", line 2144, in showtraceback\n",
      "    stb = self.InteractiveTB.structured_traceback(\n",
      "  File \"/home/cecile_2301/miniconda3/envs/AutoML-env/lib/python3.9/site-packages/IPython/core/ultratb.py\", line 1435, in structured_traceback\n",
      "    return FormattedTB.structured_traceback(\n",
      "  File \"/home/cecile_2301/miniconda3/envs/AutoML-env/lib/python3.9/site-packages/IPython/core/ultratb.py\", line 1326, in structured_traceback\n",
      "    return VerboseTB.structured_traceback(\n",
      "  File \"/home/cecile_2301/miniconda3/envs/AutoML-env/lib/python3.9/site-packages/IPython/core/ultratb.py\", line 1173, in structured_traceback\n",
      "    formatted_exception = self.format_exception_as_a_whole(etype, evalue, etb, number_of_lines_of_context,\n",
      "  File \"/home/cecile_2301/miniconda3/envs/AutoML-env/lib/python3.9/site-packages/IPython/core/ultratb.py\", line 1088, in format_exception_as_a_whole\n",
      "    frames.append(self.format_record(record))\n",
      "  File \"/home/cecile_2301/miniconda3/envs/AutoML-env/lib/python3.9/site-packages/IPython/core/ultratb.py\", line 970, in format_record\n",
      "    frame_info.lines, Colors, self.has_colors, lvals\n",
      "  File \"/home/cecile_2301/miniconda3/envs/AutoML-env/lib/python3.9/site-packages/IPython/core/ultratb.py\", line 792, in lines\n",
      "    return self._sd.lines\n",
      "  File \"/home/cecile_2301/miniconda3/envs/AutoML-env/lib/python3.9/site-packages/stack_data/utils.py\", line 145, in cached_property_wrapper\n",
      "    value = obj.__dict__[self.func.__name__] = self.func(obj)\n",
      "  File \"/home/cecile_2301/miniconda3/envs/AutoML-env/lib/python3.9/site-packages/stack_data/core.py\", line 734, in lines\n",
      "    pieces = self.included_pieces\n",
      "  File \"/home/cecile_2301/miniconda3/envs/AutoML-env/lib/python3.9/site-packages/stack_data/utils.py\", line 145, in cached_property_wrapper\n",
      "    value = obj.__dict__[self.func.__name__] = self.func(obj)\n",
      "  File \"/home/cecile_2301/miniconda3/envs/AutoML-env/lib/python3.9/site-packages/stack_data/core.py\", line 681, in included_pieces\n",
      "    pos = scope_pieces.index(self.executing_piece)\n",
      "  File \"/home/cecile_2301/miniconda3/envs/AutoML-env/lib/python3.9/site-packages/stack_data/utils.py\", line 145, in cached_property_wrapper\n",
      "    value = obj.__dict__[self.func.__name__] = self.func(obj)\n",
      "  File \"/home/cecile_2301/miniconda3/envs/AutoML-env/lib/python3.9/site-packages/stack_data/core.py\", line 660, in executing_piece\n",
      "    return only(\n",
      "  File \"/home/cecile_2301/miniconda3/envs/AutoML-env/lib/python3.9/site-packages/executing/executing.py\", line 116, in only\n",
      "    raise NotOneValueFound('Expected one value, found 0')\n",
      "executing.executing.NotOneValueFound: Expected one value, found 0\n"
     ]
    }
   ],
   "source": [
    "import mlflow\n",
    "logged_model = 'runs:/22e60a8114ae48d788b585e66ad3bb58/model'\n",
    "\n",
    "# Load model as a PyFuncModel.\n",
    "loaded_model = mlflow.pyfunc.load_model(logged_model)\n",
    "\n",
    "# Predict on a Pandas DataFrame.\n",
    "import pandas as pd\n",
    "loaded_model.predict(example_df)"
   ]
  },
  {
   "cell_type": "code",
   "execution_count": null,
   "id": "606a05ba-ff5f-4b77-9792-5a0e01d321a7",
   "metadata": {},
   "outputs": [],
   "source": []
  }
 ],
 "metadata": {
  "kernelspec": {
   "display_name": "AutoML",
   "language": "python",
   "name": "automl"
  },
  "language_info": {
   "codemirror_mode": {
    "name": "ipython",
    "version": 3
   },
   "file_extension": ".py",
   "mimetype": "text/x-python",
   "name": "python",
   "nbconvert_exporter": "python",
   "pygments_lexer": "ipython3",
   "version": "3.9.20"
  }
 },
 "nbformat": 4,
 "nbformat_minor": 5
}
