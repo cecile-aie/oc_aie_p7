{
 "cells": [
  {
   "cell_type": "code",
   "execution_count": 1,
   "id": "2d97ee14-3fb1-4d73-a3bb-636b1c65b932",
   "metadata": {},
   "outputs": [],
   "source": [
    "# pip install azure-ai-textanalytics mlflow"
   ]
  },
  {
   "cell_type": "code",
   "execution_count": null,
   "id": "eac5ec4b-2597-4fa0-88f0-a06a8e96b5ae",
   "metadata": {},
   "outputs": [],
   "source": [
    "# # Asignation de Databricks CE comme serveur de tracking\n",
    "# mlflow.login()\n",
    "# mlflow.set_tracking_uri(\"databricks\")\n",
    "# # Création de l'expérimentation \"approche classique\"\n",
    "# mlflow.set_experiment(\"/Users/cecilemayer@live.com/azure_language_analytics\")"
   ]
  },
  {
   "cell_type": "code",
   "execution_count": 1,
   "id": "5a86d9aa-0389-484c-9a0e-e975895aae65",
   "metadata": {},
   "outputs": [
    {
     "data": {
      "text/plain": [
       "<Experiment: artifact_location='mlflow-artifacts:/374735653194037029', creation_time=1729108772155, experiment_id='374735653194037029', last_update_time=1729108772155, lifecycle_stage='active', name='approche_classique', tags={}>"
      ]
     },
     "execution_count": 1,
     "metadata": {},
     "output_type": "execute_result"
    }
   ],
   "source": [
    "import mlflow\n",
    "# Asignation du serveur de tracking MLFlow\n",
    "mlflow.set_tracking_uri(\"http://localhost:5000\")\n",
    "# Création de l'expérimentation \"approche classique\"\n",
    "mlflow.set_experiment(\"approche_classique\")"
   ]
  },
  {
   "cell_type": "code",
   "execution_count": 2,
   "id": "894823b7-28df-449c-aea4-6379f94904c3",
   "metadata": {},
   "outputs": [],
   "source": [
    "import os\n",
    "\n",
    "# This example requires environment variables named \"LANGUAGE_KEY\" and \"LANGUAGE_ENDPOINT\"\n",
    "language_key = \"c2a3a85df2864bbd88d18e2006d64bf4\"\n",
    "# os.environ.get('LANGUAGE_KEY')\n",
    "language_endpoint = \"https://aiep7-2.cognitiveservices.azure.com/\"\n",
    "# os.environ.get('LANGUAGE_ENDPOINT')\n"
   ]
  },
  {
   "cell_type": "code",
   "execution_count": 3,
   "id": "f9a03f1a-e337-4bc9-a1a3-2c9a70709e2e",
   "metadata": {},
   "outputs": [],
   "source": [
    "from azure.ai.textanalytics import TextAnalyticsClient\n",
    "from azure.core.credentials import AzureKeyCredential"
   ]
  },
  {
   "cell_type": "code",
   "execution_count": 4,
   "id": "fd4c77d9-9257-4a77-bf3a-9c9a6af0b332",
   "metadata": {},
   "outputs": [],
   "source": [
    "# Authenticate the client using your key and endpoint \n",
    "def authenticate_client():\n",
    "    ta_credential = AzureKeyCredential(language_key)\n",
    "    text_analytics_client = TextAnalyticsClient(\n",
    "            endpoint=language_endpoint, \n",
    "            credential=ta_credential)\n",
    "    return text_analytics_client\n",
    "\n",
    "client = authenticate_client()"
   ]
  },
  {
   "cell_type": "code",
   "execution_count": 5,
   "id": "8249ad4f-a2f1-4ee7-a44b-9f889765e438",
   "metadata": {},
   "outputs": [],
   "source": [
    "# 2. Fonction pour analyser le sentiment d'un texte\n",
    "def sentiment_analysis(client, documents):\n",
    "    sentiments = []\n",
    "    batch_size = 10  # Azure ne permet pas plus de 10 documents par requête\n",
    "\n",
    "    for i in range(0, len(documents), batch_size):\n",
    "        batch = documents[i:i + batch_size]  # Diviser les documents en lots de 10\n",
    "        response = client.analyze_sentiment(documents=batch)\n",
    "        for doc in response:\n",
    "            if not doc.is_error:\n",
    "                sentiment = 0 if doc.sentiment == \"positive\" else 1\n",
    "                sentiments.append(sentiment)\n",
    "            else:\n",
    "                sentiments.append(None)  # Pour gérer les erreurs éventuelles\n",
    "    return sentiments"
   ]
  },
  {
   "cell_type": "code",
   "execution_count": 6,
   "id": "73523fd7-b315-46a8-bed1-4d67199bfb73",
   "metadata": {},
   "outputs": [],
   "source": [
    "# 3. Analyser le dataframe\n",
    "def add_sentiment_column(data, column):\n",
    "    client = authenticate_client()\n",
    "    documents = data[column].tolist()  # Extraire les textes à analyser\n",
    "    sentiments = sentiment_analysis(client, documents)  # Analyser le sentiment\n",
    "    \n",
    "    new_column_name = f\"azure_sentiment_{column}\"  # Concaténer azure_sentiment avec le nom de la colonne\n",
    "    data[new_column_name] = sentiments  # Ajouter les résultats comme nouvelle colonne\n",
    "    \n",
    "    return data"
   ]
  },
  {
   "cell_type": "code",
   "execution_count": 9,
   "id": "4101d988-fb79-45df-ab32-2a9f5fcaa6e3",
   "metadata": {},
   "outputs": [],
   "source": [
    "import pandas as pd\n",
    "data = pd.read_csv(\"./data/data_preprocessed.csv\", index_col=0)"
   ]
  },
  {
   "cell_type": "code",
   "execution_count": 10,
   "id": "44032897-b2f3-42de-9630-47fbd223ce86",
   "metadata": {},
   "outputs": [],
   "source": [
    "# Ajouter la colonne 'azure_sentiment_preprocessed_text'\n",
    "data = add_sentiment_column(data, \"preprocessed_text\")"
   ]
  },
  {
   "cell_type": "code",
   "execution_count": 11,
   "id": "ce7fe309-fd15-4b29-9cb6-620adb4e7ed4",
   "metadata": {},
   "outputs": [
    {
     "data": {
      "image/png": "[encoded data removed]",
      "text/plain": [
       "<Figure size 640x480 with 1 Axes>"
      ]
     },
     "metadata": {},
     "output_type": "display_data"
    },
    {
     "name": "stdout",
     "output_type": "stream",
     "text": [
      "Rapport de Classification:\n",
      "\n",
      "              precision    recall  f1-score   support\n",
      "\n",
      "     Négatif       0.72      0.44      0.54      3229\n",
      "     Positif       0.60      0.83      0.69      3244\n",
      "\n",
      "    accuracy                           0.63      6473\n",
      "   macro avg       0.66      0.63      0.62      6473\n",
      "weighted avg       0.66      0.63      0.62      6473\n",
      "\n"
     ]
    }
   ],
   "source": [
    "from sklearn.metrics import confusion_matrix, classification_report\n",
    "import seaborn as sns\n",
    "import matplotlib.pyplot as plt\n",
    "\n",
    "# 1. Afficher la matrice de confusion\n",
    "def plot_confusion_matrix(data):\n",
    "    y_true = data['target']  # Labels réels\n",
    "    y_pred = data['azure_sentiment_preprocessed_text']  # Prédictions\n",
    "    cm = confusion_matrix(y_true, y_pred)  # Calculer la matrice de confusion\n",
    "    \n",
    "    # Afficher la matrice de confusion avec seaborn pour une meilleure visualisation\n",
    "    sns.heatmap(cm, annot=True, fmt='d', cmap='Blues', cbar=False, \n",
    "                xticklabels=['Négatif', 'Positif'], \n",
    "                yticklabels=['Négatif', 'Positif'])\n",
    "    plt.xlabel('Prédictions')\n",
    "    plt.ylabel('Vérités')\n",
    "    plt.title('Matrice de Confusion')\n",
    "    plt.show()\n",
    "\n",
    "# 2. Afficher le rapport de classification\n",
    "def print_classification_report(data):\n",
    "    y_true = data['target']  # Labels réels\n",
    "    y_pred = data['azure_sentiment_preprocessed_text']  # Prédictions\n",
    "    report = classification_report(y_true, y_pred, target_names=['Négatif', 'Positif'])\n",
    "    print(\"Rapport de Classification:\\n\")\n",
    "    print(report)\n",
    "\n",
    "# Afficher la matrice de confusion\n",
    "plot_confusion_matrix(data)\n",
    "\n",
    "# Afficher le rapport de classification\n",
    "print_classification_report(data)"
   ]
  },
  {
   "cell_type": "code",
   "execution_count": 12,
   "id": "7fffc12f-30ef-4c36-9345-3354ea6a3586",
   "metadata": {},
   "outputs": [
    {
     "data": {
      "text/html": [
       "<div>\n",
       "<style scoped>\n",
       "    .dataframe tbody tr th:only-of-type {\n",
       "        vertical-align: middle;\n",
       "    }\n",
       "\n",
       "    .dataframe tbody tr th {\n",
       "        vertical-align: top;\n",
       "    }\n",
       "\n",
       "    .dataframe thead th {\n",
       "        text-align: right;\n",
       "    }\n",
       "</style>\n",
       "<table border=\"1\" class=\"dataframe\">\n",
       "  <thead>\n",
       "    <tr style=\"text-align: right;\">\n",
       "      <th></th>\n",
       "      <th>target</th>\n",
       "      <th>ids</th>\n",
       "      <th>date</th>\n",
       "      <th>flag</th>\n",
       "      <th>user</th>\n",
       "      <th>text</th>\n",
       "      <th>sentiment_score</th>\n",
       "      <th>cleaned_text</th>\n",
       "      <th>tokenized</th>\n",
       "      <th>preprocessed_text</th>\n",
       "      <th>preprocessed_tokenized</th>\n",
       "      <th>length_text</th>\n",
       "      <th>length_tokenized</th>\n",
       "      <th>length_preprocessed_tokenized</th>\n",
       "      <th>azure_sentiment_preprocessed_text</th>\n",
       "      <th>azure_sentiment_text</th>\n",
       "    </tr>\n",
       "  </thead>\n",
       "  <tbody>\n",
       "    <tr>\n",
       "      <th>364415</th>\n",
       "      <td>1</td>\n",
       "      <td>2048153698</td>\n",
       "      <td>Fri Jun 05 14:44:47 PDT 2009</td>\n",
       "      <td>NO_QUERY</td>\n",
       "      <td>KRagsdill</td>\n",
       "      <td>Bought a book to read on the plane. &amp;quot;Smas...</td>\n",
       "      <td>0</td>\n",
       "      <td>Bought a book to read on the plane. \"Smashed\"....</td>\n",
       "      <td>['Bought', 'a', 'book', 'to', 'read', 'on', 't...</td>\n",
       "      <td>bought book read plane   smashed   far  sound ...</td>\n",
       "      <td>['bought', 'book', 'read', 'plane', 'smashed',...</td>\n",
       "      <td>141</td>\n",
       "      <td>35</td>\n",
       "      <td>14</td>\n",
       "      <td>1</td>\n",
       "      <td>1</td>\n",
       "    </tr>\n",
       "    <tr>\n",
       "      <th>61776</th>\n",
       "      <td>1</td>\n",
       "      <td>1686846342</td>\n",
       "      <td>Sun May 03 06:58:32 PDT 2009</td>\n",
       "      <td>NO_QUERY</td>\n",
       "      <td>kymmskreations</td>\n",
       "      <td>Waiting at the airport with the hubby this mor...</td>\n",
       "      <td>0</td>\n",
       "      <td>Waiting at the airport with the hubby this mor...</td>\n",
       "      <td>['Waiting', 'at', 'the', 'airport', 'with', 't...</td>\n",
       "      <td>waiting airport hubby morning  1 hour till fli...</td>\n",
       "      <td>['waiting', 'airport', 'hubby', 'morning', '1'...</td>\n",
       "      <td>82</td>\n",
       "      <td>16</td>\n",
       "      <td>9</td>\n",
       "      <td>1</td>\n",
       "      <td>1</td>\n",
       "    </tr>\n",
       "    <tr>\n",
       "      <th>307389</th>\n",
       "      <td>1</td>\n",
       "      <td>2000460643</td>\n",
       "      <td>Mon Jun 01 22:09:58 PDT 2009</td>\n",
       "      <td>NO_QUERY</td>\n",
       "      <td>rachelslott</td>\n",
       "      <td>OH WOW FAIL. My thoughts are with all those of...</td>\n",
       "      <td>0</td>\n",
       "      <td>OH, WOW FAIL. My thoughts are with all those o...</td>\n",
       "      <td>['OH', ',', 'WOW', 'FAIL', '.', 'My', 'thought...</td>\n",
       "      <td>oh  wow fail  thought air france flight family</td>\n",
       "      <td>['oh', 'wow', 'fail', 'thought', 'air', 'franc...</td>\n",
       "      <td>88</td>\n",
       "      <td>19</td>\n",
       "      <td>8</td>\n",
       "      <td>1</td>\n",
       "      <td>1</td>\n",
       "    </tr>\n",
       "    <tr>\n",
       "      <th>764377</th>\n",
       "      <td>1</td>\n",
       "      <td>2298848205</td>\n",
       "      <td>Tue Jun 23 12:11:12 PDT 2009</td>\n",
       "      <td>NO_QUERY</td>\n",
       "      <td>lolaspitfire</td>\n",
       "      <td>Off to the airport!  Dallas here I come!</td>\n",
       "      <td>0</td>\n",
       "      <td>Off to the airport!  Dallas here I come!</td>\n",
       "      <td>['Off', 'to', 'the', 'airport', '!', 'Dallas',...</td>\n",
       "      <td>airport ! dallas come !</td>\n",
       "      <td>['airport', '!', 'dallas', 'come', '!']</td>\n",
       "      <td>40</td>\n",
       "      <td>10</td>\n",
       "      <td>5</td>\n",
       "      <td>1</td>\n",
       "      <td>1</td>\n",
       "    </tr>\n",
       "    <tr>\n",
       "      <th>337691</th>\n",
       "      <td>1</td>\n",
       "      <td>2014267023</td>\n",
       "      <td>Wed Jun 03 00:58:36 PDT 2009</td>\n",
       "      <td>NO_QUERY</td>\n",
       "      <td>XxBEeMeCkSxX</td>\n",
       "      <td>Broke my iPhone tonight from slipping pedals l...</td>\n",
       "      <td>0</td>\n",
       "      <td>Broke my iPhone tonight from slipping pedals l...</td>\n",
       "      <td>['Broke', 'my', 'iPhone', 'tonight', 'from', '...</td>\n",
       "      <td>broke iphone tonight slipping pedal landing se...</td>\n",
       "      <td>['broke', 'iphone', 'tonight', 'slipping', 'pe...</td>\n",
       "      <td>138</td>\n",
       "      <td>29</td>\n",
       "      <td>16</td>\n",
       "      <td>1</td>\n",
       "      <td>1</td>\n",
       "    </tr>\n",
       "  </tbody>\n",
       "</table>\n",
       "</div>"
      ],
      "text/plain": [
       "        target         ids                          date      flag  \\\n",
       "364415       1  2048153698  Fri Jun 05 14:44:47 PDT 2009  NO_QUERY   \n",
       "61776        1  1686846342  Sun May 03 06:58:32 PDT 2009  NO_QUERY   \n",
       "307389       1  2000460643  Mon Jun 01 22:09:58 PDT 2009  NO_QUERY   \n",
       "764377       1  2298848205  Tue Jun 23 12:11:12 PDT 2009  NO_QUERY   \n",
       "337691       1  2014267023  Wed Jun 03 00:58:36 PDT 2009  NO_QUERY   \n",
       "\n",
       "                  user                                               text  \\\n",
       "364415       KRagsdill  Bought a book to read on the plane. &quot;Smas...   \n",
       "61776   kymmskreations  Waiting at the airport with the hubby this mor...   \n",
       "307389     rachelslott  OH WOW FAIL. My thoughts are with all those of...   \n",
       "764377    lolaspitfire           Off to the airport!  Dallas here I come!   \n",
       "337691    XxBEeMeCkSxX  Broke my iPhone tonight from slipping pedals l...   \n",
       "\n",
       "        sentiment_score                                       cleaned_text  \\\n",
       "364415                0  Bought a book to read on the plane. \"Smashed\"....   \n",
       "61776                 0  Waiting at the airport with the hubby this mor...   \n",
       "307389                0  OH, WOW FAIL. My thoughts are with all those o...   \n",
       "764377                0           Off to the airport!  Dallas here I come!   \n",
       "337691                0  Broke my iPhone tonight from slipping pedals l...   \n",
       "\n",
       "                                                tokenized  \\\n",
       "364415  ['Bought', 'a', 'book', 'to', 'read', 'on', 't...   \n",
       "61776   ['Waiting', 'at', 'the', 'airport', 'with', 't...   \n",
       "307389  ['OH', ',', 'WOW', 'FAIL', '.', 'My', 'thought...   \n",
       "764377  ['Off', 'to', 'the', 'airport', '!', 'Dallas',...   \n",
       "337691  ['Broke', 'my', 'iPhone', 'tonight', 'from', '...   \n",
       "\n",
       "                                        preprocessed_text  \\\n",
       "364415  bought book read plane   smashed   far  sound ...   \n",
       "61776   waiting airport hubby morning  1 hour till fli...   \n",
       "307389     oh  wow fail  thought air france flight family   \n",
       "764377                            airport ! dallas come !   \n",
       "337691  broke iphone tonight slipping pedal landing se...   \n",
       "\n",
       "                                   preprocessed_tokenized  length_text  \\\n",
       "364415  ['bought', 'book', 'read', 'plane', 'smashed',...          141   \n",
       "61776   ['waiting', 'airport', 'hubby', 'morning', '1'...           82   \n",
       "307389  ['oh', 'wow', 'fail', 'thought', 'air', 'franc...           88   \n",
       "764377            ['airport', '!', 'dallas', 'come', '!']           40   \n",
       "337691  ['broke', 'iphone', 'tonight', 'slipping', 'pe...          138   \n",
       "\n",
       "        length_tokenized  length_preprocessed_tokenized  \\\n",
       "364415                35                             14   \n",
       "61776                 16                              9   \n",
       "307389                19                              8   \n",
       "764377                10                              5   \n",
       "337691                29                             16   \n",
       "\n",
       "        azure_sentiment_preprocessed_text  azure_sentiment_text  \n",
       "364415                                  1                     1  \n",
       "61776                                   1                     1  \n",
       "307389                                  1                     1  \n",
       "764377                                  1                     1  \n",
       "337691                                  1                     1  "
      ]
     },
     "execution_count": 12,
     "metadata": {},
     "output_type": "execute_result"
    }
   ],
   "source": [
    "# Ajouter la colonne 'azure_sentiment_text'\n",
    "data = add_sentiment_column(data, \"text\")\n",
    "data.head()"
   ]
  },
  {
   "cell_type": "code",
   "execution_count": 13,
   "id": "ea5f79e3-3660-4314-a75c-2fe0dc04f9c7",
   "metadata": {},
   "outputs": [],
   "source": [
    "from sklearn.metrics import confusion_matrix, classification_report, accuracy_score\n",
    "import pandas as pd\n",
    "\n",
    "# Supposons que vous avez un DataFrame `data` avec les colonnes `azure_sentiment_text` et `target`\n",
    "y_true = data['target']  # Étiquettes réelles\n",
    "y_pred = data['azure_sentiment_text']  # Prédictions du classifieur\n",
    "\n",
    "accuracy = accuracy_score(y_true, y_pred)\n",
    "report = classification_report(y_true, y_pred, output_dict=True)\n",
    "cm = confusion_matrix(y_true, y_pred)"
   ]
  },
  {
   "cell_type": "code",
   "execution_count": 14,
   "id": "50832e93-0d41-4822-b7ce-53c043a4adeb",
   "metadata": {},
   "outputs": [
    {
     "name": "stdout",
     "output_type": "stream",
     "text": [
      "              precision    recall  f1-score      support\n",
      "0              0.787160  0.493651  0.606776  3229.000000\n",
      "1              0.632419  0.867139  0.731409  3244.000000\n",
      "accuracy       0.680828  0.680828  0.680828     0.680828\n",
      "macro avg      0.709790  0.680395  0.669093  6473.000000\n",
      "weighted avg   0.709610  0.680828  0.669237  6473.000000\n"
     ]
    }
   ],
   "source": [
    "# Convertir le rapport en DataFrame\n",
    "report_df = pd.DataFrame(report).transpose()\n",
    "\n",
    "# Afficher le DataFrame\n",
    "print(report_df)"
   ]
  },
  {
   "cell_type": "code",
   "execution_count": 15,
   "id": "0b27303b-8f0a-48de-9728-34edbf8729af",
   "metadata": {},
   "outputs": [
    {
     "data": {
      "image/png": "[encoded data removed]",
      "text/plain": [
       "<Figure size 1000x700 with 2 Axes>"
      ]
     },
     "metadata": {},
     "output_type": "display_data"
    }
   ],
   "source": [
    "%matplotlib inline\n",
    "import matplotlib.pyplot as plt\n",
    "import seaborn as sns\n",
    "\n",
    "# Afficher la matrice de confusion\n",
    "plt.figure(figsize=(10, 7))\n",
    "sns.heatmap(cm, annot=True, fmt='d', cmap='Blues')\n",
    "plt.title('Matrice de Confusion')\n",
    "plt.xlabel('Prédictions')\n",
    "plt.ylabel('Réel')\n",
    "\n",
    "# Sauvegarder la figure\n",
    "plt.savefig(\"confusion_matrix.png\")\n",
    "plt.show()  # Ajouter cette ligne pour afficher la figure\n",
    "plt.close()\n"
   ]
  },
  {
   "cell_type": "markdown",
   "id": "c28d50e5-f4d9-4ce1-a1d3-2da33e72a4d7",
   "metadata": {},
   "source": [
    "A partir de la colonne \"text\" (non pré-traité): on a arrive à un taux de détection des positifs élevé, mais en contrepartie la classe négative comporte de nombreuses erreurs ce qui résulte en un nombre important de faux positifs. Les faux négatifs sont très limités, ce qui est la tendance voulue: on ne veut pas louper les mauvaises appréciations. Dans ce modèle on a une vision pessimiste de l'appréciation des tweets.<br>\n",
    "Le modèle depuis le texte prétraité possède les mêmes caractéristiques mais il est moins performant: l'exactitude de prédiction moyenne est légèrement inférieure."
   ]
  },
  {
   "cell_type": "code",
   "execution_count": 16,
   "id": "3fd92445-950d-4fbf-a7c5-607928c1809b",
   "metadata": {},
   "outputs": [],
   "source": [
    "data.to_csv(\"./data/test_azure.csv\", index=True)"
   ]
  },
  {
   "cell_type": "code",
   "execution_count": 17,
   "id": "705cad07-06e4-44c0-bebf-3a38b4fdc2d0",
   "metadata": {},
   "outputs": [
    {
     "name": "stderr",
     "output_type": "stream",
     "text": [
      "2024/11/04 09:38:34 INFO mlflow.tracking._tracking_service.client: 🏃 View run Azure Text Analytics at: http://localhost:5000/#/experiments/374735653194037029/runs/3f5251ac0f76446688fed59189f2ed7b.\n",
      "2024/11/04 09:38:34 INFO mlflow.tracking._tracking_service.client: 🧪 View experiment at: http://localhost:5000/#/experiments/374735653194037029.\n"
     ]
    }
   ],
   "source": [
    "with mlflow.start_run(run_name=\"Azure Text Analytics\"):\n",
    "    # Enregistrer les métriques\n",
    "    mlflow.log_metric(\"accuracy\", accuracy)\n",
    "    for label, metrics in report.items():\n",
    "        if label not in ['accuracy', 'macro avg', 'weighted avg']:  # Ignorer les moyennes\n",
    "            mlflow.log_metric(f\"precision_{label}\", metrics['precision'])\n",
    "            mlflow.log_metric(f\"recall_{label}\", metrics['recall'])\n",
    "            mlflow.log_metric(f\"f1-score_{label}\", metrics['f1-score'])\n",
    "\n",
    "    # Enregistrer la matrice de confusion\n",
    "    mlflow.log_artifact(\"confusion_matrix.png\")\n",
    "    mlflow.log_artifact(\"./data/test_azure.csv\")"
   ]
  },
  {
   "cell_type": "code",
   "execution_count": null,
   "id": "9206ddcf-fa0b-42e0-b773-09232c7aaffd",
   "metadata": {},
   "outputs": [],
   "source": []
  }
 ],
 "metadata": {
  "kernelspec": {
   "display_name": "Python 3 (ipykernel)",
   "language": "python",
   "name": "python3"
  },
  "language_info": {
   "codemirror_mode": {
    "name": "ipython",
    "version": 3
   },
   "file_extension": ".py",
   "mimetype": "text/x-python",
   "name": "python",
   "nbconvert_exporter": "python",
   "pygments_lexer": "ipython3",
   "version": "3.12.5"
  }
 },
 "nbformat": 4,
 "nbformat_minor": 5
}
