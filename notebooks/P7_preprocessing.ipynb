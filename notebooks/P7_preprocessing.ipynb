{
 "cells": [
  {
   "cell_type": "code",
   "execution_count": 1,
   "id": "a59f76e7-7f7c-48f1-babe-26398aa2229e",
   "metadata": {},
   "outputs": [],
   "source": [
    "import pandas as pd\n",
    "import matplotlib.pyplot as plt"
   ]
  },
  {
   "cell_type": "code",
   "execution_count": 2,
   "id": "056e0abf-03c0-4236-80cf-8ce249acf156",
   "metadata": {},
   "outputs": [],
   "source": [
    "# définition les noms des colonnes\n",
    "colonnes = ['target', 'ids', 'date', 'flag', 'user', 'text']"
   ]
  },
  {
   "cell_type": "code",
   "execution_count": 3,
   "id": "24236bea-64cd-43c8-aab8-4bf1be0a7773",
   "metadata": {},
   "outputs": [],
   "source": [
    "# Ouverture du fichier\n",
    "data_full = pd.read_csv(\"./data/training.1600000.processed.noemoticon.csv\", encoding='ISO-8859-1', header=None, names=colonnes)"
   ]
  },
  {
   "cell_type": "code",
   "execution_count": 4,
   "id": "470fc2d3-47cd-4903-9671-4da183e871da",
   "metadata": {
    "jupyter": {
     "source_hidden": true
    }
   },
   "outputs": [],
   "source": [
    "# RECHERCHE DE THEMES LDA - NON UTILISE (temps de traitement 10h)\n",
    "# import pandas as pd\n",
    "# import gensim\n",
    "# from gensim import corpora\n",
    "# from gensim.models import CoherenceModel\n",
    "# from nltk.corpus import stopwords\n",
    "# from nltk.stem import WordNetLemmatizer, SnowballStemmer\n",
    "# import nltk\n",
    "# import re\n",
    "\n",
    "# # Télécharger les ressources nécessaires de NLTK\n",
    "# nltk.download('stopwords')\n",
    "# nltk.download('wordnet')\n",
    "\n",
    "# # Charger les données\n",
    "\n",
    "# texts = data_full['text'].values\n",
    "\n",
    "# # Prétraitement des données\n",
    "# stop_words = set(stopwords.words('english'))\n",
    "# stemmer = SnowballStemmer('english')\n",
    "\n",
    "# def preprocess(text):\n",
    "#     result = []\n",
    "#     for token in gensim.utils.simple_preprocess(text):\n",
    "#         if token not in stop_words and len(token) > 3:\n",
    "#             result.append(stemmer.stem(WordNetLemmatizer().lemmatize(token, pos='v')))\n",
    "#     return result\n",
    "\n",
    "# processed_texts = [preprocess(text) for text in texts]\n",
    "\n",
    "# # Créer un dictionnaire et un corpus\n",
    "# dictionary = corpora.Dictionary(processed_texts)\n",
    "# corpus = [dictionary.doc2bow(text) for text in processed_texts]\n",
    "\n",
    "# # Déterminer le nombre optimal de topics\n",
    "# def compute_coherence_values(dictionary, corpus, texts, limit, start=2, step=3):\n",
    "#     coherence_values = []\n",
    "#     model_list = []\n",
    "#     for num_topics in range(start, limit, step):\n",
    "#         model = gensim.models.LdaModel(corpus=corpus,\n",
    "#                                        id2word=dictionary,\n",
    "#                                        num_topics=num_topics,\n",
    "#                                        random_state=100,\n",
    "#                                        update_every=1,\n",
    "#                                        chunksize=100,\n",
    "#                                        passes=10,\n",
    "#                                        alpha='auto',\n",
    "#                                        per_word_topics=True)\n",
    "#         model_list.append(model)\n",
    "#         coherencemodel = CoherenceModel(model=model, texts=texts, dictionary=dictionary, coherence='c_v')\n",
    "#         coherence_values.append(coherencemodel.get_coherence())\n",
    "#     return model_list, coherence_values\n",
    "\n",
    "# model_list, coherence_values = compute_coherence_values(dictionary=dictionary, corpus=corpus, texts=processed_texts, start=2, limit=40, step=6)\n",
    "\n",
    "# # Sélectionner le modèle avec la meilleure cohérence\n",
    "# optimal_model = model_list[coherence_values.index(max(coherence_values))]\n",
    "\n",
    "# # Afficher les topics\n",
    "# topics = optimal_model.print_topics(num_words=10)\n",
    "# for topic in topics:\n",
    "#     print(topic)\n",
    "\n",
    "# # Détecter le topic traitant des voyages en avion\n",
    "# def find_air_travel_topic(model, dictionary):\n",
    "#     for idx, topic in model.print_topics(-1):\n",
    "#         if 'flight' in topic or 'airline' in topic or 'airport' in topic:\n",
    "#             print(f\"Topic {idx}: {topic}\")\n",
    "\n",
    "# find_air_travel_topic(optimal_model, dictionary)\n"
   ]
  },
  {
   "cell_type": "markdown",
   "id": "148039a5-cbef-4b72-9af4-6f903bedb04a",
   "metadata": {},
   "source": [
    "On sélectionne les tweets par mots-clés relatifs au transport aérien afin d'avoir un jeu de données adapté au métier."
   ]
  },
  {
   "cell_type": "code",
   "execution_count": 5,
   "id": "e1cfbb03-18c7-4143-b921-f36ea79772ee",
   "metadata": {},
   "outputs": [
    {
     "name": "stdout",
     "output_type": "stream",
     "text": [
      "Le dataset contient 9460 tweets relatifs au transport aérien\n"
     ]
    }
   ],
   "source": [
    "import pandas as pd\n",
    "import re\n",
    "\n",
    "# Liste de mots-clés spécifiques au domaine de l'aviation\n",
    "keywords = [\n",
    "    'flight', 'airline', 'plane', 'airport', 'boarding', 'delay', 'baggage', \n",
    "    'crew', 'steward', 'check-in', 'boarding pass', 'gate', 'luggage', 'landed'\n",
    "    'overbooked', 'turbulence', 'landing', 'takeoff', 'in-flight', 'cabin crew', \n",
    "    'air hostess', 'air steward', 'seatbelt', 'emergency exit', 'runway', \n",
    "    'air traffic control', 'lost baggage', 'missed connection', 'upgrade', \n",
    "    'frequent flyer', 'mileage', 'layover', 'diverted', 'grounded'\n",
    "]\n",
    "\n",
    "# Construire une expression régulière pour correspondre uniquement aux mots entiers\n",
    "pattern = r'\\b(?:' + '|'.join(keywords) + r')\\b'\n",
    "\n",
    "# Filtrer les tweets contenant les mots-clés\n",
    "data_filtered = data_full[data_full['text'].str.contains(pattern, case=False, na=False, regex=True)]\n",
    "\n",
    "# Exclure les tweets contenant des mots indésirables (homonymes)\n",
    "exclude_pattern = r'\\b(?:screwed|screw)\\b'\n",
    "data_filtered = data_filtered[~data_filtered['text'].str.contains(exclude_pattern, case=False, na=False, regex=True)]\n",
    "\n",
    "# Nombre de tweets spécifiques au domaine des voyages aériens\n",
    "print(\"Le dataset contient\", data_filtered.shape[0], \"tweets relatifs au transport aérien\")\n"
   ]
  },
  {
   "cell_type": "code",
   "execution_count": 6,
   "id": "bdf74918-d216-4105-93dc-1efe16084145",
   "metadata": {},
   "outputs": [
    {
     "name": "stdout",
     "output_type": "stream",
     "text": [
      "Le dataset équilibré contient 6588 tweets\n"
     ]
    }
   ],
   "source": [
    "import pandas as pd\n",
    "\n",
    "# Filtrer les lignes avec target=0 et target=4\n",
    "target_0 = data_filtered[data_filtered['target'] == 0]\n",
    "target_4 = data_filtered[data_filtered['target'] == 4]\n",
    "\n",
    "# Trouver le nombre minimum de lignes entre les deux groupes\n",
    "min_count = min(len(target_0), len(target_4))\n",
    "\n",
    "# Échantillonner un nombre égal de lignes de chaque groupe\n",
    "sampled_target_0 = target_0.sample(n=min_count, random_state=42)\n",
    "sampled_target_4 = target_4.sample(n=min_count, random_state=42)\n",
    "\n",
    "# Combiner les échantillons\n",
    "data = pd.concat([sampled_target_0, sampled_target_4])\n",
    "\n",
    "# Nombre de tweets spécifiques au domaine des voyages aériens\n",
    "print(\"Le dataset équilibré contient\", data.shape[0], \"tweets\")"
   ]
  },
  {
   "cell_type": "code",
   "execution_count": 7,
   "id": "cb30ee04-9ad5-44a7-8d61-6c01748a09d0",
   "metadata": {},
   "outputs": [
    {
     "data": {
      "text/html": [
       "<div>\n",
       "<style scoped>\n",
       "    .dataframe tbody tr th:only-of-type {\n",
       "        vertical-align: middle;\n",
       "    }\n",
       "\n",
       "    .dataframe tbody tr th {\n",
       "        vertical-align: top;\n",
       "    }\n",
       "\n",
       "    .dataframe thead th {\n",
       "        text-align: right;\n",
       "    }\n",
       "</style>\n",
       "<table border=\"1\" class=\"dataframe\">\n",
       "  <thead>\n",
       "    <tr style=\"text-align: right;\">\n",
       "      <th></th>\n",
       "      <th>target</th>\n",
       "      <th>ids</th>\n",
       "      <th>date</th>\n",
       "      <th>flag</th>\n",
       "      <th>user</th>\n",
       "      <th>text</th>\n",
       "    </tr>\n",
       "  </thead>\n",
       "  <tbody>\n",
       "    <tr>\n",
       "      <th>660874</th>\n",
       "      <td>0</td>\n",
       "      <td>2242890524</td>\n",
       "      <td>Fri Jun 19 12:45:40 PDT 2009</td>\n",
       "      <td>NO_QUERY</td>\n",
       "      <td>strwbryqt727</td>\n",
       "      <td>flight has been delayed...still at cancun airport</td>\n",
       "    </tr>\n",
       "    <tr>\n",
       "      <th>921886</th>\n",
       "      <td>4</td>\n",
       "      <td>1754286412</td>\n",
       "      <td>Sun May 10 05:43:38 PDT 2009</td>\n",
       "      <td>NO_QUERY</td>\n",
       "      <td>dmbsredhead</td>\n",
       "      <td>At the airport...waiting to sleep. Fabulous time!!</td>\n",
       "    </tr>\n",
       "    <tr>\n",
       "      <th>1048793</th>\n",
       "      <td>4</td>\n",
       "      <td>1960219041</td>\n",
       "      <td>Fri May 29 07:36:54 PDT 2009</td>\n",
       "      <td>NO_QUERY</td>\n",
       "      <td>LinneaSharon</td>\n",
       "      <td>About to board my flight to kona!</td>\n",
       "    </tr>\n",
       "    <tr>\n",
       "      <th>541470</th>\n",
       "      <td>0</td>\n",
       "      <td>2200100162</td>\n",
       "      <td>Tue Jun 16 18:26:19 PDT 2009</td>\n",
       "      <td>NO_QUERY</td>\n",
       "      <td>erialccasasanta</td>\n",
       "      <td>dftba crew....my camera offically hate you. i will make a video and post tommorow before hailes. please tell her to wait for it.</td>\n",
       "    </tr>\n",
       "    <tr>\n",
       "      <th>972728</th>\n",
       "      <td>4</td>\n",
       "      <td>1832655595</td>\n",
       "      <td>Sun May 17 21:12:28 PDT 2009</td>\n",
       "      <td>NO_QUERY</td>\n",
       "      <td>GioWC</td>\n",
       "      <td>@ century room, taste the rainbow with your favorite photographer and the crew from five-entertainment</td>\n",
       "    </tr>\n",
       "    <tr>\n",
       "      <th>281424</th>\n",
       "      <td>0</td>\n",
       "      <td>1992326820</td>\n",
       "      <td>Mon Jun 01 08:34:20 PDT 2009</td>\n",
       "      <td>NO_QUERY</td>\n",
       "      <td>lukesolomon</td>\n",
       "      <td>Oh man. Just saw the breaking news. The constant fear of life everytime I sit on a plane is confirmed when things like this happen.</td>\n",
       "    </tr>\n",
       "    <tr>\n",
       "      <th>1544698</th>\n",
       "      <td>4</td>\n",
       "      <td>2181848717</td>\n",
       "      <td>Mon Jun 15 12:22:51 PDT 2009</td>\n",
       "      <td>NO_QUERY</td>\n",
       "      <td>SWGBlog</td>\n",
       "      <td>Paid $362 for a brake job today. That sinks any hope upgrading flight or hotel room on @soefanfaire trip. Oh well</td>\n",
       "    </tr>\n",
       "    <tr>\n",
       "      <th>739581</th>\n",
       "      <td>0</td>\n",
       "      <td>2265766570</td>\n",
       "      <td>Sun Jun 21 07:16:02 PDT 2009</td>\n",
       "      <td>NO_QUERY</td>\n",
       "      <td>rebberocks</td>\n",
       "      <td>@RightHereWithMe haha yeah, i wanna go to Mallorca, but I havent got enough money  the flight is expensive &amp;gt;.&amp;lt;</td>\n",
       "    </tr>\n",
       "    <tr>\n",
       "      <th>356080</th>\n",
       "      <td>0</td>\n",
       "      <td>2044153235</td>\n",
       "      <td>Fri Jun 05 08:56:52 PDT 2009</td>\n",
       "      <td>NO_QUERY</td>\n",
       "      <td>Bhooshan</td>\n",
       "      <td>@Harishk good to learn that Black boxes aren't 'black'. BTW the debris found at the sea was not from Flight 447 - http://is.gd/Pg0J</td>\n",
       "    </tr>\n",
       "    <tr>\n",
       "      <th>184979</th>\n",
       "      <td>0</td>\n",
       "      <td>1967849470</td>\n",
       "      <td>Fri May 29 20:19:20 PDT 2009</td>\n",
       "      <td>NO_QUERY</td>\n",
       "      <td>ShoppingGreen</td>\n",
       "      <td>The Life Of A College Stay At Home Mom: Delay in the Bash  http://bit.ly/3KQOZe</td>\n",
       "    </tr>\n",
       "  </tbody>\n",
       "</table>\n",
       "</div>"
      ],
      "text/plain": [
       "         target         ids                          date      flag  \\\n",
       "660874        0  2242890524  Fri Jun 19 12:45:40 PDT 2009  NO_QUERY   \n",
       "921886        4  1754286412  Sun May 10 05:43:38 PDT 2009  NO_QUERY   \n",
       "1048793       4  1960219041  Fri May 29 07:36:54 PDT 2009  NO_QUERY   \n",
       "541470        0  2200100162  Tue Jun 16 18:26:19 PDT 2009  NO_QUERY   \n",
       "972728        4  1832655595  Sun May 17 21:12:28 PDT 2009  NO_QUERY   \n",
       "281424        0  1992326820  Mon Jun 01 08:34:20 PDT 2009  NO_QUERY   \n",
       "1544698       4  2181848717  Mon Jun 15 12:22:51 PDT 2009  NO_QUERY   \n",
       "739581        0  2265766570  Sun Jun 21 07:16:02 PDT 2009  NO_QUERY   \n",
       "356080        0  2044153235  Fri Jun 05 08:56:52 PDT 2009  NO_QUERY   \n",
       "184979        0  1967849470  Fri May 29 20:19:20 PDT 2009  NO_QUERY   \n",
       "\n",
       "                    user  \\\n",
       "660874      strwbryqt727   \n",
       "921886       dmbsredhead   \n",
       "1048793     LinneaSharon   \n",
       "541470   erialccasasanta   \n",
       "972728             GioWC   \n",
       "281424       lukesolomon   \n",
       "1544698          SWGBlog   \n",
       "739581        rebberocks   \n",
       "356080          Bhooshan   \n",
       "184979     ShoppingGreen   \n",
       "\n",
       "                                                                                                                                         text  \n",
       "660874                                                                                     flight has been delayed...still at cancun airport   \n",
       "921886                                                                                    At the airport...waiting to sleep. Fabulous time!!   \n",
       "1048793                                                                                                    About to board my flight to kona!   \n",
       "541470     dftba crew....my camera offically hate you. i will make a video and post tommorow before hailes. please tell her to wait for it.    \n",
       "972728                                @ century room, taste the rainbow with your favorite photographer and the crew from five-entertainment   \n",
       "281424   Oh man. Just saw the breaking news. The constant fear of life everytime I sit on a plane is confirmed when things like this happen.   \n",
       "1544698                    Paid $362 for a brake job today. That sinks any hope upgrading flight or hotel room on @soefanfaire trip. Oh well   \n",
       "739581                   @RightHereWithMe haha yeah, i wanna go to Mallorca, but I havent got enough money  the flight is expensive &gt;.&lt;  \n",
       "356080   @Harishk good to learn that Black boxes aren't 'black'. BTW the debris found at the sea was not from Flight 447 - http://is.gd/Pg0J   \n",
       "184979                                                        The Life Of A College Stay At Home Mom: Delay in the Bash  http://bit.ly/3KQOZe  "
      ]
     },
     "execution_count": 7,
     "metadata": {},
     "output_type": "execute_result"
    }
   ],
   "source": [
    "# Ajuster la largeur maximale des colonnes\n",
    "pd.set_option('display.max_colwidth', None)\n",
    "data.sample(10)"
   ]
  },
  {
   "cell_type": "code",
   "execution_count": 8,
   "id": "bfd2d80c-de13-4786-8ace-6b7cb97a72e4",
   "metadata": {},
   "outputs": [
    {
     "name": "stdout",
     "output_type": "stream",
     "text": [
      "Exemples de tweets négatifs\n"
     ]
    },
    {
     "data": {
      "text/plain": [
       "364415    Bought a book to read on the plane. &quot;Smashed&quot;. So far, it sounds an awful lot like my childhood. I may not be able to get thru it. \n",
       "61776                                                                Waiting at the airport with the hubby this morning. 1 hour till his flight leaves \n",
       "307389                                                         OH WOW FAIL. My thoughts are with all those of the Air France flight and their families \n",
       "764377                                                                                                         Off to the airport!  Dallas here I come!\n",
       "337691       Broke my iPhone tonight from slipping pedals landing on the seat from a tailwhip. my phone was in my back pocket.  iPhones are shitty!!!!!\n",
       "                                                                              ...                                                                      \n",
       "326176                                                            CNN: Brazil confirms plane crash (duh) prays go out to the family...horrible tragedy \n",
       "116004                                                                                                                   Grounded until June 17th! lol \n",
       "289976                                                                                                 They probably will never find Air France plane. \n",
       "149546        @annabeth420 I had to get up at 5:30 this morning to get him to the airport, so it's not the best start ever to recess.Maddie's not here \n",
       "525687                                                                                           yay!  they found my luggage.  it went to Indianapolis \n",
       "Name: text, Length: 3294, dtype: object"
      ]
     },
     "metadata": {},
     "output_type": "display_data"
    }
   ],
   "source": [
    "print(\"Exemples de tweets négatifs\")\n",
    "display(data[data[\"target\"] == 0][\"text\"])"
   ]
  },
  {
   "cell_type": "code",
   "execution_count": 9,
   "id": "03fe747a-be2d-496f-9c44-32fd42e4e73d",
   "metadata": {},
   "outputs": [
    {
     "name": "stdout",
     "output_type": "stream",
     "text": [
      "Exemples de tweets positifs\n"
     ]
    },
    {
     "data": {
      "text/plain": [
       "1549419                                                                                                       has free airline money to spend.. yay! \n",
       "1568381    @lilyroseallen You must be really tired from all that flying and listening to children screaming. You deserve to have your own plane. LOL \n",
       "1550095                 @dhempe, just saw your question, sorry for the delay! I can give you a coupon code for a free guide! DM me with your details \n",
       "1278372                                                                            @LisaLavie next time he should give out free plane tickets aswell \n",
       "1392424                                                                          About to board my 1st flight to St. Louis. Trying not to be nervous \n",
       "                                                                              ...                                                                    \n",
       "1069056                                                          I'm chillen at the airport waiting for my flight to San Francisco....  I'm excited  \n",
       "1077861                                                                                                   Yay. Getting on the plane.  Its about time!\n",
       "1115041               On the plane now. I do quite like Easyjet. They get a bad ride cuz they are budget, but I find them to be pretty proffessional \n",
       "1011270                                                                              at the airport waiting to go on my Indy 500 vacation...whoohoo! \n",
       "1570686                            On the plane (Lufthansa): &quot;Boarding is completed.&quot; und das ist alles. Now fly!! Gotta love the Germans. \n",
       "Name: text, Length: 3294, dtype: object"
      ]
     },
     "metadata": {},
     "output_type": "display_data"
    }
   ],
   "source": [
    "print(\"Exemples de tweets positifs\")\n",
    "display(data[data[\"target\"] == 4][\"text\"])"
   ]
  },
  {
   "cell_type": "code",
   "execution_count": 10,
   "id": "233e9190-add0-4b06-a9b6-c7da19382201",
   "metadata": {},
   "outputs": [
    {
     "data": {
      "image/png": "[encoded data removed]",
      "text/plain": [
       "<Figure size 640x480 with 1 Axes>"
      ]
     },
     "metadata": {},
     "output_type": "display_data"
    }
   ],
   "source": [
    "# Longueur des tweets\n",
    "length_text_pos = data[data[\"target\"] == 4][\"text\"].str.len()\n",
    "length_text_neg = data[data[\"target\"] == 0][\"text\"].str.len() \n",
    "plt.hist(length_text_neg, label=\"Nombre de tweets négatifs\") \n",
    "plt.hist(length_text_pos, label=\"Nombre de tweets positifs\") \n",
    "plt.xlabel(\"Nombre de caractères\")\n",
    "plt.ylabel(\"Nombre de tweets\")\n",
    "plt.legend() \n",
    "plt.show()"
   ]
  },
  {
   "cell_type": "markdown",
   "id": "ccf6b2c1",
   "metadata": {},
   "source": [
    "Ce sont des contenus typiques de tweets: citation (@), liens, utilisation d'abbréviations et de variations d'orthographe, ponctuation pour exprimer les sentiments <br>\n"
   ]
  },
  {
   "cell_type": "code",
   "execution_count": 11,
   "id": "fb639738",
   "metadata": {},
   "outputs": [
    {
     "name": "stdout",
     "output_type": "stream",
     "text": [
      "<class 'pandas.core.frame.DataFrame'>\n",
      "Index: 6588 entries, 364415 to 1570686\n",
      "Data columns (total 6 columns):\n",
      " #   Column  Non-Null Count  Dtype \n",
      "---  ------  --------------  ----- \n",
      " 0   target  6588 non-null   int64 \n",
      " 1   ids     6588 non-null   int64 \n",
      " 2   date    6588 non-null   object\n",
      " 3   flag    6588 non-null   object\n",
      " 4   user    6588 non-null   object\n",
      " 5   text    6588 non-null   object\n",
      "dtypes: int64(2), object(4)\n",
      "memory usage: 360.3+ KB\n"
     ]
    }
   ],
   "source": [
    "data.info()"
   ]
  },
  {
   "cell_type": "code",
   "execution_count": 12,
   "id": "c54b99b1",
   "metadata": {},
   "outputs": [
    {
     "data": {
      "text/plain": [
       "target       2\n",
       "ids       6582\n",
       "date      6543\n",
       "flag         1\n",
       "user      6279\n",
       "text      6562\n",
       "dtype: int64"
      ]
     },
     "execution_count": 12,
     "metadata": {},
     "output_type": "execute_result"
    }
   ],
   "source": [
    "data.nunique()"
   ]
  },
  {
   "cell_type": "markdown",
   "id": "bf6711f0-cf55-4b45-bd3d-af564db3fc0c",
   "metadata": {},
   "source": [
    "On note que la plupart des utilisateurs ont posté un seul tweet. Pour ceux ayant posté plus d'un tweet la répartition du nombre de tweets est la suivante:"
   ]
  },
  {
   "cell_type": "code",
   "execution_count": 13,
   "id": "998eed8f-9c45-474f-8d95-a06707b1ef9a",
   "metadata": {},
   "outputs": [
    {
     "data": {
      "image/png": "[encoded data removed]",
      "text/plain": [
       "<Figure size 800x500 with 1 Axes>"
      ]
     },
     "metadata": {},
     "output_type": "display_data"
    }
   ],
   "source": [
    "# Compter le nombre de tweets par utilisateur\n",
    "user_tweet_counts = data['user'].value_counts()\n",
    "\n",
    "# Filtrer les utilisateurs ayant posté plus d'un tweet\n",
    "user_tweet_counts = user_tweet_counts[user_tweet_counts > 1]\n",
    "\n",
    "# Tracer l'histogramme\n",
    "plt.figure(figsize=(8, 5))\n",
    "plt.hist(user_tweet_counts, bins=range(1, user_tweet_counts.max() + 1), edgecolor='black')\n",
    "plt.title(\"Répartition du nombre de tweets par utilisateur (utilisateurs ayant posté plus d'un tweet)\")\n",
    "plt.xlabel(\"Nombre de tweets\")\n",
    "plt.ylabel(\"Nombre d'utilisateurs\")\n",
    "plt.xticks(range(1, user_tweet_counts.max() + 1))\n",
    "plt.show()"
   ]
  },
  {
   "cell_type": "code",
   "execution_count": 14,
   "id": "c22a6563",
   "metadata": {},
   "outputs": [
    {
     "name": "stdout",
     "output_type": "stream",
     "text": [
      "target    0\n",
      "ids       0\n",
      "date      0\n",
      "flag      0\n",
      "user      0\n",
      "text      0\n",
      "dtype: int64\n"
     ]
    }
   ],
   "source": [
    "print(data.isna().sum())"
   ]
  },
  {
   "cell_type": "code",
   "execution_count": 15,
   "id": "56b16a12",
   "metadata": {},
   "outputs": [
    {
     "name": "stdout",
     "output_type": "stream",
     "text": [
      "col : target -> duplicated : 6586\n",
      "col : ids -> duplicated : 6\n",
      "col : date -> duplicated : 45\n",
      "col : flag -> duplicated : 6587\n",
      "col : user -> duplicated : 309\n",
      "col : text -> duplicated : 26\n"
     ]
    }
   ],
   "source": [
    "for col in data.columns:\n",
    "    n = data.duplicated(subset=col).sum()\n",
    "    print(f'col : {col} -> duplicated : {n}')"
   ]
  },
  {
   "cell_type": "markdown",
   "id": "16d79dec-501e-4e70-97e8-7226f26315df",
   "metadata": {},
   "source": [
    "Il n'y a pas de valeurs manquantes par contre on trouve des doublons (ids, date, user, text) qu'il faut examiner et éliminer lorsqu'il s'agit de la même information répétée."
   ]
  },
  {
   "cell_type": "code",
   "execution_count": 16,
   "id": "59371f03",
   "metadata": {},
   "outputs": [
    {
     "data": {
      "text/html": [
       "<div>\n",
       "<style scoped>\n",
       "    .dataframe tbody tr th:only-of-type {\n",
       "        vertical-align: middle;\n",
       "    }\n",
       "\n",
       "    .dataframe tbody tr th {\n",
       "        vertical-align: top;\n",
       "    }\n",
       "\n",
       "    .dataframe thead th {\n",
       "        text-align: right;\n",
       "    }\n",
       "</style>\n",
       "<table border=\"1\" class=\"dataframe\">\n",
       "  <thead>\n",
       "    <tr style=\"text-align: right;\">\n",
       "      <th></th>\n",
       "      <th>target</th>\n",
       "      <th>ids</th>\n",
       "      <th>date</th>\n",
       "      <th>flag</th>\n",
       "      <th>user</th>\n",
       "      <th>text</th>\n",
       "    </tr>\n",
       "  </thead>\n",
       "  <tbody>\n",
       "    <tr>\n",
       "      <th>42578</th>\n",
       "      <td>0</td>\n",
       "      <td>1676160753</td>\n",
       "      <td>Fri May 01 21:15:30 PDT 2009</td>\n",
       "      <td>NO_QUERY</td>\n",
       "      <td>littletigr</td>\n",
       "      <td>@aneetasee no not after that plane ticket  BUT I'm super excited to see the fam after three years</td>\n",
       "    </tr>\n",
       "    <tr>\n",
       "      <th>859693</th>\n",
       "      <td>4</td>\n",
       "      <td>1676160753</td>\n",
       "      <td>Fri May 01 21:15:30 PDT 2009</td>\n",
       "      <td>NO_QUERY</td>\n",
       "      <td>littletigr</td>\n",
       "      <td>@aneetasee no not after that plane ticket  BUT I'm super excited to see the fam after three years</td>\n",
       "    </tr>\n",
       "    <tr>\n",
       "      <th>235348</th>\n",
       "      <td>0</td>\n",
       "      <td>1979765929</td>\n",
       "      <td>Sun May 31 04:25:06 PDT 2009</td>\n",
       "      <td>NO_QUERY</td>\n",
       "      <td>lasic</td>\n",
       "      <td>@jabogan LOL, why creepy?  ok with me... bummer, school Moodle is down prob'ly due to upgrade at DET this w'end - back Tue, sorry</td>\n",
       "    </tr>\n",
       "    <tr>\n",
       "      <th>1164524</th>\n",
       "      <td>4</td>\n",
       "      <td>1979765929</td>\n",
       "      <td>Sun May 31 04:25:06 PDT 2009</td>\n",
       "      <td>NO_QUERY</td>\n",
       "      <td>lasic</td>\n",
       "      <td>@jabogan LOL, why creepy?  ok with me... bummer, school Moodle is down prob'ly due to upgrade at DET this w'end - back Tue, sorry</td>\n",
       "    </tr>\n",
       "    <tr>\n",
       "      <th>316351</th>\n",
       "      <td>0</td>\n",
       "      <td>2002387780</td>\n",
       "      <td>Tue Jun 02 04:03:52 PDT 2009</td>\n",
       "      <td>NO_QUERY</td>\n",
       "      <td>SilviaEmilia</td>\n",
       "      <td>flying back to Germany today..already miss home  feels like I am going to cry until boarding time...well, see u tomorrow</td>\n",
       "    </tr>\n",
       "    <tr>\n",
       "      <th>1287627</th>\n",
       "      <td>4</td>\n",
       "      <td>2002387780</td>\n",
       "      <td>Tue Jun 02 04:03:52 PDT 2009</td>\n",
       "      <td>NO_QUERY</td>\n",
       "      <td>SilviaEmilia</td>\n",
       "      <td>flying back to Germany today..already miss home  feels like I am going to cry until boarding time...well, see u tomorrow</td>\n",
       "    </tr>\n",
       "    <tr>\n",
       "      <th>379890</th>\n",
       "      <td>0</td>\n",
       "      <td>2052444682</td>\n",
       "      <td>Sat Jun 06 00:45:08 PDT 2009</td>\n",
       "      <td>NO_QUERY</td>\n",
       "      <td>ReMisterGeneral</td>\n",
       "      <td>@ChrissyMBot no tetleys at the airport  I shall have to sample 'american breakfast tea'. Heaven forbid</td>\n",
       "    </tr>\n",
       "    <tr>\n",
       "      <th>1382193</th>\n",
       "      <td>4</td>\n",
       "      <td>2052444682</td>\n",
       "      <td>Sat Jun 06 00:45:08 PDT 2009</td>\n",
       "      <td>NO_QUERY</td>\n",
       "      <td>ReMisterGeneral</td>\n",
       "      <td>@ChrissyMBot no tetleys at the airport  I shall have to sample 'american breakfast tea'. Heaven forbid</td>\n",
       "    </tr>\n",
       "    <tr>\n",
       "      <th>442028</th>\n",
       "      <td>0</td>\n",
       "      <td>2067161979</td>\n",
       "      <td>Sun Jun 07 11:51:35 PDT 2009</td>\n",
       "      <td>NO_QUERY</td>\n",
       "      <td>Morenah08</td>\n",
       "      <td>I'll go Skate Boarding Down My House!  But...I'm sad, One person isn't with me now! s2</td>\n",
       "    </tr>\n",
       "    <tr>\n",
       "      <th>1481909</th>\n",
       "      <td>4</td>\n",
       "      <td>2067161979</td>\n",
       "      <td>Sun Jun 07 11:51:35 PDT 2009</td>\n",
       "      <td>NO_QUERY</td>\n",
       "      <td>Morenah08</td>\n",
       "      <td>I'll go Skate Boarding Down My House!  But...I'm sad, One person isn't with me now! s2</td>\n",
       "    </tr>\n",
       "    <tr>\n",
       "      <th>481649</th>\n",
       "      <td>0</td>\n",
       "      <td>2179704259</td>\n",
       "      <td>Mon Jun 15 09:28:09 PDT 2009</td>\n",
       "      <td>NO_QUERY</td>\n",
       "      <td>mistri00</td>\n",
       "      <td>dropped duane off at the airport. The last of my friends gone  Thankfully I still have Tommy &amp;amp; Jenn as my local DMB peeps  Tricia</td>\n",
       "    </tr>\n",
       "    <tr>\n",
       "      <th>1537819</th>\n",
       "      <td>4</td>\n",
       "      <td>2179704259</td>\n",
       "      <td>Mon Jun 15 09:28:09 PDT 2009</td>\n",
       "      <td>NO_QUERY</td>\n",
       "      <td>mistri00</td>\n",
       "      <td>dropped duane off at the airport. The last of my friends gone  Thankfully I still have Tommy &amp;amp; Jenn as my local DMB peeps  Tricia</td>\n",
       "    </tr>\n",
       "  </tbody>\n",
       "</table>\n",
       "</div>"
      ],
      "text/plain": [
       "         target         ids                          date      flag  \\\n",
       "42578         0  1676160753  Fri May 01 21:15:30 PDT 2009  NO_QUERY   \n",
       "859693        4  1676160753  Fri May 01 21:15:30 PDT 2009  NO_QUERY   \n",
       "235348        0  1979765929  Sun May 31 04:25:06 PDT 2009  NO_QUERY   \n",
       "1164524       4  1979765929  Sun May 31 04:25:06 PDT 2009  NO_QUERY   \n",
       "316351        0  2002387780  Tue Jun 02 04:03:52 PDT 2009  NO_QUERY   \n",
       "1287627       4  2002387780  Tue Jun 02 04:03:52 PDT 2009  NO_QUERY   \n",
       "379890        0  2052444682  Sat Jun 06 00:45:08 PDT 2009  NO_QUERY   \n",
       "1382193       4  2052444682  Sat Jun 06 00:45:08 PDT 2009  NO_QUERY   \n",
       "442028        0  2067161979  Sun Jun 07 11:51:35 PDT 2009  NO_QUERY   \n",
       "1481909       4  2067161979  Sun Jun 07 11:51:35 PDT 2009  NO_QUERY   \n",
       "481649        0  2179704259  Mon Jun 15 09:28:09 PDT 2009  NO_QUERY   \n",
       "1537819       4  2179704259  Mon Jun 15 09:28:09 PDT 2009  NO_QUERY   \n",
       "\n",
       "                    user  \\\n",
       "42578         littletigr   \n",
       "859693        littletigr   \n",
       "235348             lasic   \n",
       "1164524            lasic   \n",
       "316351      SilviaEmilia   \n",
       "1287627     SilviaEmilia   \n",
       "379890   ReMisterGeneral   \n",
       "1382193  ReMisterGeneral   \n",
       "442028         Morenah08   \n",
       "1481909        Morenah08   \n",
       "481649          mistri00   \n",
       "1537819         mistri00   \n",
       "\n",
       "                                                                                                                                          text  \n",
       "42578                                       @aneetasee no not after that plane ticket  BUT I'm super excited to see the fam after three years   \n",
       "859693                                      @aneetasee no not after that plane ticket  BUT I'm super excited to see the fam after three years   \n",
       "235348      @jabogan LOL, why creepy?  ok with me... bummer, school Moodle is down prob'ly due to upgrade at DET this w'end - back Tue, sorry   \n",
       "1164524     @jabogan LOL, why creepy?  ok with me... bummer, school Moodle is down prob'ly due to upgrade at DET this w'end - back Tue, sorry   \n",
       "316351               flying back to Germany today..already miss home  feels like I am going to cry until boarding time...well, see u tomorrow   \n",
       "1287627              flying back to Germany today..already miss home  feels like I am going to cry until boarding time...well, see u tomorrow   \n",
       "379890                                 @ChrissyMBot no tetleys at the airport  I shall have to sample 'american breakfast tea'. Heaven forbid   \n",
       "1382193                                @ChrissyMBot no tetleys at the airport  I shall have to sample 'american breakfast tea'. Heaven forbid   \n",
       "442028                                                I'll go Skate Boarding Down My House!  But...I'm sad, One person isn't with me now! s2    \n",
       "1481909                                               I'll go Skate Boarding Down My House!  But...I'm sad, One person isn't with me now! s2    \n",
       "481649   dropped duane off at the airport. The last of my friends gone  Thankfully I still have Tommy &amp; Jenn as my local DMB peeps  Tricia  \n",
       "1537819  dropped duane off at the airport. The last of my friends gone  Thankfully I still have Tommy &amp; Jenn as my local DMB peeps  Tricia  "
      ]
     },
     "metadata": {},
     "output_type": "display_data"
    },
    {
     "name": "stdout",
     "output_type": "stream",
     "text": [
      "Valeurs uniques de la colonne 'target' : [4]\n"
     ]
    }
   ],
   "source": [
    "import pandas as pd\n",
    "import matplotlib.pyplot as plt\n",
    "import seaborn as sns\n",
    "\n",
    "# Trouver les doublons basés sur la colonne 'ids'\n",
    "duplicates = data[data.duplicated(subset=['ids'], keep=False)]\n",
    "display(duplicates.sort_values(by=\"ids\"))\n",
    "\n",
    "# Groupby sur 'ids' et additionner les valeurs de 'target'\n",
    "grouped_data = duplicates.groupby('ids')['target'].sum().reset_index()\n",
    "\n",
    "# Afficher les valeurs uniques de la colonne 'target'\n",
    "unique_values = grouped_data['target'].unique()\n",
    "print(\"Valeurs uniques de la colonne 'target' :\", unique_values)\n"
   ]
  },
  {
   "cell_type": "markdown",
   "id": "351c8e14",
   "metadata": {},
   "source": [
    "En faisant la somme des target sur les lignes en doublons on a uniquement la valeur \"4\" ce qui veut dire que c'est le résultat de 0+4 donc ce sont des tweets qui sont identiques mais ont été jugés à la fois positifs et négatifs, autant les supprimer."
   ]
  },
  {
   "cell_type": "code",
   "execution_count": 17,
   "id": "cac15a3a",
   "metadata": {},
   "outputs": [],
   "source": [
    "# Trouver les doublons basés sur toutes les colonnes sauf 'target'\n",
    "duplicates = data[data.duplicated(subset=['ids', 'date', 'flag', 'user', 'text'], keep=False)]\n",
    "\n",
    "# Supprimer les doublons\n",
    "data = data.drop(duplicates.index)"
   ]
  },
  {
   "cell_type": "code",
   "execution_count": 18,
   "id": "839108f3",
   "metadata": {},
   "outputs": [
    {
     "data": {
      "text/html": [
       "<div>\n",
       "<style scoped>\n",
       "    .dataframe tbody tr th:only-of-type {\n",
       "        vertical-align: middle;\n",
       "    }\n",
       "\n",
       "    .dataframe tbody tr th {\n",
       "        vertical-align: top;\n",
       "    }\n",
       "\n",
       "    .dataframe thead th {\n",
       "        text-align: right;\n",
       "    }\n",
       "</style>\n",
       "<table border=\"1\" class=\"dataframe\">\n",
       "  <thead>\n",
       "    <tr style=\"text-align: right;\">\n",
       "      <th></th>\n",
       "      <th>target</th>\n",
       "      <th>ids</th>\n",
       "      <th>date</th>\n",
       "      <th>flag</th>\n",
       "      <th>user</th>\n",
       "      <th>text</th>\n",
       "    </tr>\n",
       "  </thead>\n",
       "  <tbody>\n",
       "    <tr>\n",
       "      <th>291475</th>\n",
       "      <td>0</td>\n",
       "      <td>1995715901</td>\n",
       "      <td>Mon Jun 01 13:56:04 PDT 2009</td>\n",
       "      <td>NO_QUERY</td>\n",
       "      <td>carolsantini</td>\n",
       "      <td>well i'm feeling sad for the family of who were in Air France plane that disappear  im so sorry !</td>\n",
       "    </tr>\n",
       "    <tr>\n",
       "      <th>291477</th>\n",
       "      <td>0</td>\n",
       "      <td>1995715937</td>\n",
       "      <td>Mon Jun 01 13:56:04 PDT 2009</td>\n",
       "      <td>NO_QUERY</td>\n",
       "      <td>carolsantini</td>\n",
       "      <td>well i'm feeling sad for the family of who were in Air France plane that disappear  im so sorry !</td>\n",
       "    </tr>\n",
       "    <tr>\n",
       "      <th>1418769</th>\n",
       "      <td>4</td>\n",
       "      <td>2057837639</td>\n",
       "      <td>Sat Jun 06 13:45:25 PDT 2009</td>\n",
       "      <td>NO_QUERY</td>\n",
       "      <td>PastorJonCannon</td>\n",
       "      <td>Monitor at Chicago aiport says my flight to Raliegh, NC is &amp;quot;on time&amp;quot; - pray that it stays that way!</td>\n",
       "    </tr>\n",
       "    <tr>\n",
       "      <th>1418768</th>\n",
       "      <td>4</td>\n",
       "      <td>2057837598</td>\n",
       "      <td>Sat Jun 06 13:45:25 PDT 2009</td>\n",
       "      <td>NO_QUERY</td>\n",
       "      <td>PastorJonCannon</td>\n",
       "      <td>Monitor at Chicago aiport says my flight to Raliegh, NC is &amp;quot;on time&amp;quot; - pray that it stays that way!</td>\n",
       "    </tr>\n",
       "  </tbody>\n",
       "</table>\n",
       "</div>"
      ],
      "text/plain": [
       "         target         ids                          date      flag  \\\n",
       "291475        0  1995715901  Mon Jun 01 13:56:04 PDT 2009  NO_QUERY   \n",
       "291477        0  1995715937  Mon Jun 01 13:56:04 PDT 2009  NO_QUERY   \n",
       "1418769       4  2057837639  Sat Jun 06 13:45:25 PDT 2009  NO_QUERY   \n",
       "1418768       4  2057837598  Sat Jun 06 13:45:25 PDT 2009  NO_QUERY   \n",
       "\n",
       "                    user  \\\n",
       "291475      carolsantini   \n",
       "291477      carolsantini   \n",
       "1418769  PastorJonCannon   \n",
       "1418768  PastorJonCannon   \n",
       "\n",
       "                                                                                                                   text  \n",
       "291475                well i'm feeling sad for the family of who were in Air France plane that disappear  im so sorry !  \n",
       "291477                well i'm feeling sad for the family of who were in Air France plane that disappear  im so sorry !  \n",
       "1418769  Monitor at Chicago aiport says my flight to Raliegh, NC is &quot;on time&quot; - pray that it stays that way!   \n",
       "1418768  Monitor at Chicago aiport says my flight to Raliegh, NC is &quot;on time&quot; - pray that it stays that way!   "
      ]
     },
     "execution_count": 18,
     "metadata": {},
     "output_type": "execute_result"
    }
   ],
   "source": [
    "# Trouver les doublons basés sur les colonnes date, flag, user, text, et target\n",
    "duplicates_text_target = data[data.duplicated(subset=['date', 'flag', 'user', 'text', 'target'], keep=False)]\n",
    "data = data.drop_duplicates(subset=['date', 'flag', 'user', 'text', 'target'], keep='first')\n",
    "duplicates_text_target"
   ]
  },
  {
   "cell_type": "code",
   "execution_count": 19,
   "id": "afc458fc",
   "metadata": {},
   "outputs": [
    {
     "data": {
      "text/html": [
       "<div>\n",
       "<style scoped>\n",
       "    .dataframe tbody tr th:only-of-type {\n",
       "        vertical-align: middle;\n",
       "    }\n",
       "\n",
       "    .dataframe tbody tr th {\n",
       "        vertical-align: top;\n",
       "    }\n",
       "\n",
       "    .dataframe thead th {\n",
       "        text-align: right;\n",
       "    }\n",
       "</style>\n",
       "<table border=\"1\" class=\"dataframe\">\n",
       "  <thead>\n",
       "    <tr style=\"text-align: right;\">\n",
       "      <th></th>\n",
       "      <th>target</th>\n",
       "      <th>ids</th>\n",
       "      <th>date</th>\n",
       "      <th>flag</th>\n",
       "      <th>user</th>\n",
       "      <th>text</th>\n",
       "    </tr>\n",
       "  </thead>\n",
       "  <tbody>\n",
       "    <tr>\n",
       "      <th>1372325</th>\n",
       "      <td>4</td>\n",
       "      <td>2051242027</td>\n",
       "      <td>Fri Jun 05 21:17:51 PDT 2009</td>\n",
       "      <td>NO_QUERY</td>\n",
       "      <td>PatrickAnna</td>\n",
       "      <td>http://www.twitpic.com/48mky Anna &amp;amp; her brother Albert enjoying the view while flying without a plane...</td>\n",
       "    </tr>\n",
       "    <tr>\n",
       "      <th>1386767</th>\n",
       "      <td>4</td>\n",
       "      <td>2052865326</td>\n",
       "      <td>Sat Jun 06 02:19:45 PDT 2009</td>\n",
       "      <td>NO_QUERY</td>\n",
       "      <td>PatrickAnna</td>\n",
       "      <td>On the plane flying higher to jump!  http://short.to/dlnc</td>\n",
       "    </tr>\n",
       "    <tr>\n",
       "      <th>1454778</th>\n",
       "      <td>4</td>\n",
       "      <td>2063355857</td>\n",
       "      <td>Sun Jun 07 02:19:41 PDT 2009</td>\n",
       "      <td>NO_QUERY</td>\n",
       "      <td>PatrickAnna</td>\n",
       "      <td>On the plane flying higher to jump!  http://short.to/dlnc</td>\n",
       "    </tr>\n",
       "    <tr>\n",
       "      <th>1446052</th>\n",
       "      <td>4</td>\n",
       "      <td>2062459855</td>\n",
       "      <td>Sat Jun 06 23:17:39 PDT 2009</td>\n",
       "      <td>NO_QUERY</td>\n",
       "      <td>PatrickAnna</td>\n",
       "      <td>http://www.twitpic.com/48mky Anna &amp;amp; her brother Albert enjoying the view while flying without a plane...</td>\n",
       "    </tr>\n",
       "    <tr>\n",
       "      <th>1202739</th>\n",
       "      <td>4</td>\n",
       "      <td>1985909234</td>\n",
       "      <td>Sun May 31 18:00:16 PDT 2009</td>\n",
       "      <td>NO_QUERY</td>\n",
       "      <td>PatrickAnna</td>\n",
       "      <td>Anna and her brother Albert were about to jump out of the plane...  http://twitpic.com/3i493</td>\n",
       "    </tr>\n",
       "    <tr>\n",
       "      <th>858086</th>\n",
       "      <td>4</td>\n",
       "      <td>1574066791</td>\n",
       "      <td>Tue Apr 21 04:06:41 PDT 2009</td>\n",
       "      <td>NO_QUERY</td>\n",
       "      <td>PatrickAnna</td>\n",
       "      <td>Anna and her brother Albert were about to jump out of the plane...  http://twitpic.com/3i493</td>\n",
       "    </tr>\n",
       "    <tr>\n",
       "      <th>845589</th>\n",
       "      <td>4</td>\n",
       "      <td>1564251142</td>\n",
       "      <td>Mon Apr 20 02:33:09 PDT 2009</td>\n",
       "      <td>NO_QUERY</td>\n",
       "      <td>PatrickAnna</td>\n",
       "      <td>On the plane flying higher to jump!  http://twitpic.com/3i44g</td>\n",
       "    </tr>\n",
       "    <tr>\n",
       "      <th>846153</th>\n",
       "      <td>4</td>\n",
       "      <td>1564349281</td>\n",
       "      <td>Mon Apr 20 03:03:08 PDT 2009</td>\n",
       "      <td>NO_QUERY</td>\n",
       "      <td>PatrickAnna</td>\n",
       "      <td>On the plane flying higher to jump!  http://twitpic.com/3i44g</td>\n",
       "    </tr>\n",
       "  </tbody>\n",
       "</table>\n",
       "</div>"
      ],
      "text/plain": [
       "         target         ids                          date      flag  \\\n",
       "1372325       4  2051242027  Fri Jun 05 21:17:51 PDT 2009  NO_QUERY   \n",
       "1386767       4  2052865326  Sat Jun 06 02:19:45 PDT 2009  NO_QUERY   \n",
       "1454778       4  2063355857  Sun Jun 07 02:19:41 PDT 2009  NO_QUERY   \n",
       "1446052       4  2062459855  Sat Jun 06 23:17:39 PDT 2009  NO_QUERY   \n",
       "1202739       4  1985909234  Sun May 31 18:00:16 PDT 2009  NO_QUERY   \n",
       "858086        4  1574066791  Tue Apr 21 04:06:41 PDT 2009  NO_QUERY   \n",
       "845589        4  1564251142  Mon Apr 20 02:33:09 PDT 2009  NO_QUERY   \n",
       "846153        4  1564349281  Mon Apr 20 03:03:08 PDT 2009  NO_QUERY   \n",
       "\n",
       "                user  \\\n",
       "1372325  PatrickAnna   \n",
       "1386767  PatrickAnna   \n",
       "1454778  PatrickAnna   \n",
       "1446052  PatrickAnna   \n",
       "1202739  PatrickAnna   \n",
       "858086   PatrickAnna   \n",
       "845589   PatrickAnna   \n",
       "846153   PatrickAnna   \n",
       "\n",
       "                                                                                                                  text  \n",
       "1372325  http://www.twitpic.com/48mky Anna &amp; her brother Albert enjoying the view while flying without a plane...   \n",
       "1386767                                                      On the plane flying higher to jump!  http://short.to/dlnc  \n",
       "1454778                                                      On the plane flying higher to jump!  http://short.to/dlnc  \n",
       "1446052  http://www.twitpic.com/48mky Anna &amp; her brother Albert enjoying the view while flying without a plane...   \n",
       "1202739                   Anna and her brother Albert were about to jump out of the plane...  http://twitpic.com/3i493  \n",
       "858086                    Anna and her brother Albert were about to jump out of the plane...  http://twitpic.com/3i493  \n",
       "845589                                                   On the plane flying higher to jump!  http://twitpic.com/3i44g  \n",
       "846153                                                   On the plane flying higher to jump!  http://twitpic.com/3i44g  "
      ]
     },
     "execution_count": 19,
     "metadata": {},
     "output_type": "execute_result"
    }
   ],
   "source": [
    "# Trouver les doublons basés sur les colonnes flag, user, text\n",
    "duplicates_text_user = data[data.duplicated(subset=['flag', 'user', 'text'], keep=False)]\n",
    "duplicates_text_user"
   ]
  },
  {
   "cell_type": "code",
   "execution_count": 20,
   "id": "9ba2e457",
   "metadata": {},
   "outputs": [
    {
     "name": "stdout",
     "output_type": "stream",
     "text": [
      "Valeurs uniques de la colonne 'target' : [8]\n"
     ]
    }
   ],
   "source": [
    "# Groupby sur 'ids' et additionner les valeurs de 'target'\n",
    "grouped_data = duplicates_text_user.groupby('text')['target'].sum().reset_index()\n",
    "\n",
    "# Afficher les valeurs uniques de la colonne 'target'\n",
    "unique_values = grouped_data['target'].unique()\n",
    "print(\"Valeurs uniques de la colonne 'target' :\", unique_values)"
   ]
  },
  {
   "cell_type": "markdown",
   "id": "8914ffff",
   "metadata": {},
   "source": [
    "Certains messages sont répétés un grand nombre de fois par le même utilisateur. Cela créé un emphase sur ces expressions alors que la raison de ces posts multiples peut être simplement un problème technique"
   ]
  },
  {
   "cell_type": "code",
   "execution_count": 21,
   "id": "b7144efa",
   "metadata": {},
   "outputs": [],
   "source": [
    "# Supprimer les doublons\n",
    "data = data.drop(duplicates_text_user.index)"
   ]
  },
  {
   "cell_type": "markdown",
   "id": "ed7ea4c4-f899-42b9-8bff-c074651267ca",
   "metadata": {},
   "source": [
    "Il y a aussi le cas des messages identiques postés par des utilisateurs (apparemment) distincts à des moments similaires ou très différents. En l'absence d'information on va les garder sauf si les étiquettes de sentiments sont contradictoires (la somme de target devra être soit 0 soit 8)"
   ]
  },
  {
   "cell_type": "code",
   "execution_count": 22,
   "id": "224748d4",
   "metadata": {},
   "outputs": [
    {
     "data": {
      "text/html": [
       "<div>\n",
       "<style scoped>\n",
       "    .dataframe tbody tr th:only-of-type {\n",
       "        vertical-align: middle;\n",
       "    }\n",
       "\n",
       "    .dataframe tbody tr th {\n",
       "        vertical-align: top;\n",
       "    }\n",
       "\n",
       "    .dataframe thead th {\n",
       "        text-align: right;\n",
       "    }\n",
       "</style>\n",
       "<table border=\"1\" class=\"dataframe\">\n",
       "  <thead>\n",
       "    <tr style=\"text-align: right;\">\n",
       "      <th></th>\n",
       "      <th>target</th>\n",
       "      <th>ids</th>\n",
       "      <th>date</th>\n",
       "      <th>flag</th>\n",
       "      <th>user</th>\n",
       "      <th>text</th>\n",
       "    </tr>\n",
       "  </thead>\n",
       "  <tbody>\n",
       "    <tr>\n",
       "      <th>307389</th>\n",
       "      <td>0</td>\n",
       "      <td>2000460643</td>\n",
       "      <td>Mon Jun 01 22:09:58 PDT 2009</td>\n",
       "      <td>NO_QUERY</td>\n",
       "      <td>rachelslott</td>\n",
       "      <td>OH WOW FAIL. My thoughts are with all those of the Air France flight and their families</td>\n",
       "    </tr>\n",
       "    <tr>\n",
       "      <th>319656</th>\n",
       "      <td>0</td>\n",
       "      <td>2003104662</td>\n",
       "      <td>Tue Jun 02 05:53:18 PDT 2009</td>\n",
       "      <td>NO_QUERY</td>\n",
       "      <td>houseplanet</td>\n",
       "      <td>AIR FRANCE FLIGHT 447 --Brazilian Air Force confirms a plane seat was found 650km NE of Fernando de Noronha</td>\n",
       "    </tr>\n",
       "    <tr>\n",
       "      <th>202006</th>\n",
       "      <td>0</td>\n",
       "      <td>1972027290</td>\n",
       "      <td>Sat May 30 08:24:29 PDT 2009</td>\n",
       "      <td>NO_QUERY</td>\n",
       "      <td>jediabe</td>\n",
       "      <td>On my way to the airport</td>\n",
       "    </tr>\n",
       "    <tr>\n",
       "      <th>14963</th>\n",
       "      <td>0</td>\n",
       "      <td>1553925555</td>\n",
       "      <td>Sat Apr 18 15:35:18 PDT 2009</td>\n",
       "      <td>NO_QUERY</td>\n",
       "      <td>Andrestwoo</td>\n",
       "      <td>Grounded</td>\n",
       "    </tr>\n",
       "    <tr>\n",
       "      <th>233890</th>\n",
       "      <td>0</td>\n",
       "      <td>1979467276</td>\n",
       "      <td>Sun May 31 03:10:20 PDT 2009</td>\n",
       "      <td>NO_QUERY</td>\n",
       "      <td>BeebaDiva</td>\n",
       "      <td>On my way to the airport</td>\n",
       "    </tr>\n",
       "    <tr>\n",
       "      <th>770027</th>\n",
       "      <td>0</td>\n",
       "      <td>2301851016</td>\n",
       "      <td>Tue Jun 23 15:59:59 PDT 2009</td>\n",
       "      <td>NO_QUERY</td>\n",
       "      <td>benbrochill</td>\n",
       "      <td>Going to mcdonalds. I miss annet and the crew.</td>\n",
       "    </tr>\n",
       "    <tr>\n",
       "      <th>770066</th>\n",
       "      <td>0</td>\n",
       "      <td>2301863291</td>\n",
       "      <td>Tue Jun 23 16:00:51 PDT 2009</td>\n",
       "      <td>NO_QUERY</td>\n",
       "      <td>Adolfh71</td>\n",
       "      <td>Going to mcdonalds. I miss annet and the crew.</td>\n",
       "    </tr>\n",
       "    <tr>\n",
       "      <th>319863</th>\n",
       "      <td>0</td>\n",
       "      <td>2003152114</td>\n",
       "      <td>Tue Jun 02 05:59:15 PDT 2009</td>\n",
       "      <td>NO_QUERY</td>\n",
       "      <td>jacobowsky</td>\n",
       "      <td>AIR FRANCE FLIGHT 447 --Brazilian Air Force confirms a plane seat was found 650km NE of Fernando de Noronha</td>\n",
       "    </tr>\n",
       "    <tr>\n",
       "      <th>401717</th>\n",
       "      <td>0</td>\n",
       "      <td>2057746687</td>\n",
       "      <td>Sat Jun 06 13:35:05 PDT 2009</td>\n",
       "      <td>NO_QUERY</td>\n",
       "      <td>123fund</td>\n",
       "      <td>At the airport.</td>\n",
       "    </tr>\n",
       "    <tr>\n",
       "      <th>475933</th>\n",
       "      <td>0</td>\n",
       "      <td>2177742119</td>\n",
       "      <td>Mon Jun 15 06:37:38 PDT 2009</td>\n",
       "      <td>NO_QUERY</td>\n",
       "      <td>zacharypatchan</td>\n",
       "      <td>on the way to the airport</td>\n",
       "    </tr>\n",
       "    <tr>\n",
       "      <th>434082</th>\n",
       "      <td>0</td>\n",
       "      <td>2065107414</td>\n",
       "      <td>Sun Jun 07 07:54:34 PDT 2009</td>\n",
       "      <td>NO_QUERY</td>\n",
       "      <td>jimgustafson</td>\n",
       "      <td>iTunes now mess up my play count for podcasts since the 8.2 upgrade</td>\n",
       "    </tr>\n",
       "    <tr>\n",
       "      <th>307456</th>\n",
       "      <td>0</td>\n",
       "      <td>2000478995</td>\n",
       "      <td>Mon Jun 01 22:12:25 PDT 2009</td>\n",
       "      <td>NO_QUERY</td>\n",
       "      <td>BabyB21</td>\n",
       "      <td>OH WOW FAIL. My thoughts are with all those of the Air France flight and their families</td>\n",
       "    </tr>\n",
       "    <tr>\n",
       "      <th>434084</th>\n",
       "      <td>0</td>\n",
       "      <td>2065107704</td>\n",
       "      <td>Sun Jun 07 07:54:36 PDT 2009</td>\n",
       "      <td>NO_QUERY</td>\n",
       "      <td>heddesheimer</td>\n",
       "      <td>iTunes now mess up my play count for podcasts since the 8.2 upgrade</td>\n",
       "    </tr>\n",
       "    <tr>\n",
       "      <th>357005</th>\n",
       "      <td>0</td>\n",
       "      <td>2044492066</td>\n",
       "      <td>Fri Jun 05 09:26:17 PDT 2009</td>\n",
       "      <td>NO_QUERY</td>\n",
       "      <td>laurebkiins</td>\n",
       "      <td>i hate being grounded</td>\n",
       "    </tr>\n",
       "    <tr>\n",
       "      <th>762953</th>\n",
       "      <td>0</td>\n",
       "      <td>2298103417</td>\n",
       "      <td>Tue Jun 23 11:15:36 PDT 2009</td>\n",
       "      <td>NO_QUERY</td>\n",
       "      <td>heyyitsrachel</td>\n",
       "      <td>i hate being grounded</td>\n",
       "    </tr>\n",
       "    <tr>\n",
       "      <th>773109</th>\n",
       "      <td>0</td>\n",
       "      <td>2303079310</td>\n",
       "      <td>Tue Jun 23 17:42:03 PDT 2009</td>\n",
       "      <td>NO_QUERY</td>\n",
       "      <td>christine426</td>\n",
       "      <td>Heading to the airport</td>\n",
       "    </tr>\n",
       "    <tr>\n",
       "      <th>296671</th>\n",
       "      <td>0</td>\n",
       "      <td>1997188511</td>\n",
       "      <td>Mon Jun 01 16:24:38 PDT 2009</td>\n",
       "      <td>NO_QUERY</td>\n",
       "      <td>smellycents</td>\n",
       "      <td>Heading to the airport</td>\n",
       "    </tr>\n",
       "    <tr>\n",
       "      <th>664744</th>\n",
       "      <td>0</td>\n",
       "      <td>2244596451</td>\n",
       "      <td>Fri Jun 19 14:57:32 PDT 2009</td>\n",
       "      <td>NO_QUERY</td>\n",
       "      <td>alexisderailed</td>\n",
       "      <td>Grounded</td>\n",
       "    </tr>\n",
       "    <tr>\n",
       "      <th>1487715</th>\n",
       "      <td>4</td>\n",
       "      <td>2068334845</td>\n",
       "      <td>Sun Jun 07 13:54:28 PDT 2009</td>\n",
       "      <td>NO_QUERY</td>\n",
       "      <td>KyleSchuler</td>\n",
       "      <td>At the airport.</td>\n",
       "    </tr>\n",
       "    <tr>\n",
       "      <th>943124</th>\n",
       "      <td>4</td>\n",
       "      <td>1794912518</td>\n",
       "      <td>Thu May 14 06:48:18 PDT 2009</td>\n",
       "      <td>NO_QUERY</td>\n",
       "      <td>didi_star</td>\n",
       "      <td>On my way to the airport</td>\n",
       "    </tr>\n",
       "    <tr>\n",
       "      <th>913838</th>\n",
       "      <td>4</td>\n",
       "      <td>1752723632</td>\n",
       "      <td>Sat May 09 22:46:34 PDT 2009</td>\n",
       "      <td>NO_QUERY</td>\n",
       "      <td>Zamborghini</td>\n",
       "      <td>Heading to the airport</td>\n",
       "    </tr>\n",
       "    <tr>\n",
       "      <th>1104099</th>\n",
       "      <td>4</td>\n",
       "      <td>1971121794</td>\n",
       "      <td>Sat May 30 06:16:31 PDT 2009</td>\n",
       "      <td>NO_QUERY</td>\n",
       "      <td>Billyhime</td>\n",
       "      <td>At the airport.</td>\n",
       "    </tr>\n",
       "    <tr>\n",
       "      <th>1319723</th>\n",
       "      <td>4</td>\n",
       "      <td>2014509588</td>\n",
       "      <td>Wed Jun 03 01:46:17 PDT 2009</td>\n",
       "      <td>NO_QUERY</td>\n",
       "      <td>AlexZone</td>\n",
       "      <td>On my way to the airport</td>\n",
       "    </tr>\n",
       "    <tr>\n",
       "      <th>1094246</th>\n",
       "      <td>4</td>\n",
       "      <td>1970132436</td>\n",
       "      <td>Sat May 30 02:35:11 PDT 2009</td>\n",
       "      <td>NO_QUERY</td>\n",
       "      <td>Steffi11</td>\n",
       "      <td>on the way to the airport</td>\n",
       "    </tr>\n",
       "  </tbody>\n",
       "</table>\n",
       "</div>"
      ],
      "text/plain": [
       "         target         ids                          date      flag  \\\n",
       "307389        0  2000460643  Mon Jun 01 22:09:58 PDT 2009  NO_QUERY   \n",
       "319656        0  2003104662  Tue Jun 02 05:53:18 PDT 2009  NO_QUERY   \n",
       "202006        0  1972027290  Sat May 30 08:24:29 PDT 2009  NO_QUERY   \n",
       "14963         0  1553925555  Sat Apr 18 15:35:18 PDT 2009  NO_QUERY   \n",
       "233890        0  1979467276  Sun May 31 03:10:20 PDT 2009  NO_QUERY   \n",
       "770027        0  2301851016  Tue Jun 23 15:59:59 PDT 2009  NO_QUERY   \n",
       "770066        0  2301863291  Tue Jun 23 16:00:51 PDT 2009  NO_QUERY   \n",
       "319863        0  2003152114  Tue Jun 02 05:59:15 PDT 2009  NO_QUERY   \n",
       "401717        0  2057746687  Sat Jun 06 13:35:05 PDT 2009  NO_QUERY   \n",
       "475933        0  2177742119  Mon Jun 15 06:37:38 PDT 2009  NO_QUERY   \n",
       "434082        0  2065107414  Sun Jun 07 07:54:34 PDT 2009  NO_QUERY   \n",
       "307456        0  2000478995  Mon Jun 01 22:12:25 PDT 2009  NO_QUERY   \n",
       "434084        0  2065107704  Sun Jun 07 07:54:36 PDT 2009  NO_QUERY   \n",
       "357005        0  2044492066  Fri Jun 05 09:26:17 PDT 2009  NO_QUERY   \n",
       "762953        0  2298103417  Tue Jun 23 11:15:36 PDT 2009  NO_QUERY   \n",
       "773109        0  2303079310  Tue Jun 23 17:42:03 PDT 2009  NO_QUERY   \n",
       "296671        0  1997188511  Mon Jun 01 16:24:38 PDT 2009  NO_QUERY   \n",
       "664744        0  2244596451  Fri Jun 19 14:57:32 PDT 2009  NO_QUERY   \n",
       "1487715       4  2068334845  Sun Jun 07 13:54:28 PDT 2009  NO_QUERY   \n",
       "943124        4  1794912518  Thu May 14 06:48:18 PDT 2009  NO_QUERY   \n",
       "913838        4  1752723632  Sat May 09 22:46:34 PDT 2009  NO_QUERY   \n",
       "1104099       4  1971121794  Sat May 30 06:16:31 PDT 2009  NO_QUERY   \n",
       "1319723       4  2014509588  Wed Jun 03 01:46:17 PDT 2009  NO_QUERY   \n",
       "1094246       4  1970132436  Sat May 30 02:35:11 PDT 2009  NO_QUERY   \n",
       "\n",
       "                   user  \\\n",
       "307389      rachelslott   \n",
       "319656      houseplanet   \n",
       "202006          jediabe   \n",
       "14963        Andrestwoo   \n",
       "233890        BeebaDiva   \n",
       "770027      benbrochill   \n",
       "770066         Adolfh71   \n",
       "319863       jacobowsky   \n",
       "401717          123fund   \n",
       "475933   zacharypatchan   \n",
       "434082     jimgustafson   \n",
       "307456          BabyB21   \n",
       "434084     heddesheimer   \n",
       "357005      laurebkiins   \n",
       "762953    heyyitsrachel   \n",
       "773109     christine426   \n",
       "296671      smellycents   \n",
       "664744   alexisderailed   \n",
       "1487715     KyleSchuler   \n",
       "943124        didi_star   \n",
       "913838      Zamborghini   \n",
       "1104099       Billyhime   \n",
       "1319723        AlexZone   \n",
       "1094246        Steffi11   \n",
       "\n",
       "                                                                                                                 text  \n",
       "307389                       OH WOW FAIL. My thoughts are with all those of the Air France flight and their families   \n",
       "319656   AIR FRANCE FLIGHT 447 --Brazilian Air Force confirms a plane seat was found 650km NE of Fernando de Noronha   \n",
       "202006                                                                                      On my way to the airport   \n",
       "14963                                                                                                       Grounded   \n",
       "233890                                                                                      On my way to the airport   \n",
       "770027                                                                Going to mcdonalds. I miss annet and the crew.   \n",
       "770066                                                                Going to mcdonalds. I miss annet and the crew.   \n",
       "319863   AIR FRANCE FLIGHT 447 --Brazilian Air Force confirms a plane seat was found 650km NE of Fernando de Noronha   \n",
       "401717                                                                                               At the airport.   \n",
       "475933                                                                                     on the way to the airport   \n",
       "434082                                           iTunes now mess up my play count for podcasts since the 8.2 upgrade   \n",
       "307456                       OH WOW FAIL. My thoughts are with all those of the Air France flight and their families   \n",
       "434084                                           iTunes now mess up my play count for podcasts since the 8.2 upgrade   \n",
       "357005                                                                                         i hate being grounded   \n",
       "762953                                                                                         i hate being grounded   \n",
       "773109                                                                                        Heading to the airport   \n",
       "296671                                                                                        Heading to the airport   \n",
       "664744                                                                                                      Grounded   \n",
       "1487715                                                                                              At the airport.   \n",
       "943124                                                                                      On my way to the airport   \n",
       "913838                                                                                        Heading to the airport   \n",
       "1104099                                                                                              At the airport.   \n",
       "1319723                                                                                     On my way to the airport   \n",
       "1094246                                                                                    on the way to the airport   "
      ]
     },
     "execution_count": 22,
     "metadata": {},
     "output_type": "execute_result"
    }
   ],
   "source": [
    "# Trouver les doublons basés sur les colonnes text\n",
    "duplicates_text = data[data.duplicated(subset=['text'], keep=False)]\n",
    "duplicates_text"
   ]
  },
  {
   "cell_type": "code",
   "execution_count": 23,
   "id": "456883e5",
   "metadata": {},
   "outputs": [],
   "source": [
    "# Groupby sur 'text' et calculer l'écart type sur les valeurs de 'target'\n",
    "grouped_data = duplicates_text_user.groupby('text')['target'].std().reset_index()"
   ]
  },
  {
   "cell_type": "code",
   "execution_count": 24,
   "id": "f8a2a331",
   "metadata": {},
   "outputs": [
    {
     "data": {
      "text/plain": [
       "array([0.])"
      ]
     },
     "execution_count": 24,
     "metadata": {},
     "output_type": "execute_result"
    }
   ],
   "source": [
    "grouped_data.target.unique()"
   ]
  },
  {
   "cell_type": "code",
   "execution_count": 25,
   "id": "d416aa31",
   "metadata": {},
   "outputs": [
    {
     "data": {
      "text/plain": [
       "Text(0.5, 1.0, 'Histogramme des valeurs de Target et de leurs fréquences')"
      ]
     },
     "execution_count": 25,
     "metadata": {},
     "output_type": "execute_result"
    },
    {
     "data": {
      "image/png": "[encoded data removed]",
      "text/plain": [
       "<Figure size 640x480 with 1 Axes>"
      ]
     },
     "metadata": {},
     "output_type": "display_data"
    }
   ],
   "source": [
    "import matplotlib.pyplot as plt\n",
    "\n",
    "# Créer un histogramme des valeurs de grouped_data.target\n",
    "plt.hist(grouped_data['target'], bins=10, edgecolor='black')\n",
    "\n",
    "# Ajouter des labels et un titre\n",
    "plt.xlabel('Valeurs de Target')\n",
    "plt.ylabel('Fréquence')\n",
    "plt.title('Histogramme des valeurs de Target et de leurs fréquences')"
   ]
  },
  {
   "cell_type": "code",
   "execution_count": 26,
   "id": "936d8f51",
   "metadata": {},
   "outputs": [],
   "source": [
    "# Filtrer les textes dans grouped_data où target n'est pas nul\n",
    "non_zero_texts = grouped_data[grouped_data['target'] != 0]['text']\n",
    "\n",
    "# Supprimer les lignes dans data où 'text' est dans non_zero_texts\n",
    "data = data[~data['text'].isin(non_zero_texts)]"
   ]
  },
  {
   "cell_type": "code",
   "execution_count": 27,
   "id": "325c32c1",
   "metadata": {},
   "outputs": [
    {
     "data": {
      "image/png": "[encoded data removed]",
      "text/plain": [
       "<Figure size 400x400 with 1 Axes>"
      ]
     },
     "metadata": {},
     "output_type": "display_data"
    }
   ],
   "source": [
    "# Répartition des valeurs de la colonne 'target'\n",
    "repartition_target = data['target'].value_counts()\n",
    "\n",
    "plt.figure(figsize=(4, 4))\n",
    "plt.pie(repartition_target, labels=repartition_target.index, autopct='%1.1f%%', colors=['red', 'green'], startangle=90)\n",
    "plt.title('Répartition des valeurs de target (0: sentiment négatif, 1:sentiment positif)')\n",
    "plt.axis('equal')  # Pour s'assurer que le pie chart est bien circulaire\n",
    "plt.show()"
   ]
  },
  {
   "cell_type": "markdown",
   "id": "ed3cdfa3",
   "metadata": {},
   "source": [
    "## Problématique métier\n",
    "Le client demande de détecter les bad buzz, lors de l'appréciation de performance du modèle.\n",
    "Dans un souci de conformité avec les pratiques et les règles de scikit-learn nous allons modifier les valeurs de target afin que l'occurence d'un sentiment négatif (actuellement 0) génère la classe 1 (détection de l'événement recherché). Comme les classes sont équilibrées on basera l'optimisation sur l'accuracy (exactitude de prédiction). Pour des modèles de performances proches on pourra chosir la métrique qui nous permettra de minimiser les faux négatifs: ce sont des sentiments négatifs (classe 1 réelle) qui sont interprétés par l'algorithme comme des sentiments positifs (classe 0).\n",
    "On s'interressera donc principalement au rappel et dans une moindre mesure à F1 (moyenne harmonique entre faux négatifs et vrais positifs)."
   ]
  },
  {
   "cell_type": "code",
   "execution_count": 28,
   "id": "b10f36dd",
   "metadata": {},
   "outputs": [],
   "source": [
    "# Sauvegarde des valeurs initiales des scores de sentiment\n",
    "data['sentiment_score'] = data['target']"
   ]
  },
  {
   "cell_type": "markdown",
   "id": "f3185678",
   "metadata": {},
   "source": [
    "La valeur du score de sentiment de 0 ou 4 porte à confusion, on va changer pour 1"
   ]
  },
  {
   "cell_type": "code",
   "execution_count": 29,
   "id": "44b64901-9f56-46f8-bf13-eec777a89b3e",
   "metadata": {},
   "outputs": [],
   "source": [
    "# modifier data['target'] pour que les valeurs 4 deviennent 0 et les valeurs 0 deviennent 1\n",
    "data['target'] = data['target'].replace({4: 0, 0: 1})"
   ]
  },
  {
   "cell_type": "code",
   "execution_count": 30,
   "id": "5a884c2f-ee97-44ff-b9a7-9fb44ef844e0",
   "metadata": {},
   "outputs": [],
   "source": [
    "# Sauvegarder les tweets filtrés dans un nouveau fichier CSV\n",
    "data_filtered.to_csv('./data/filtered_tweets.csv', index=True)"
   ]
  },
  {
   "cell_type": "markdown",
   "id": "8067afad",
   "metadata": {},
   "source": [
    "## Exploration et nettoyage du vocabulaire"
   ]
  },
  {
   "cell_type": "markdown",
   "id": "8294ed4f",
   "metadata": {},
   "source": [
    "### Détection de la langue"
   ]
  },
  {
   "cell_type": "code",
   "execution_count": 31,
   "id": "a6f63590",
   "metadata": {},
   "outputs": [
    {
     "name": "stdout",
     "output_type": "stream",
     "text": [
      "Python 3.12.5\n"
     ]
    }
   ],
   "source": [
    "# ! pip install spacy-langdetect\n",
    "# A effectuer dans le terminal python -m spacy download en_core_web_sm\n",
    "! python --version\n",
    "# ! pip install tqdm"
   ]
  },
  {
   "cell_type": "code",
   "execution_count": 32,
   "id": "23be4e29",
   "metadata": {},
   "outputs": [
    {
     "name": "stderr",
     "output_type": "stream",
     "text": [
      "100%|█████████████████████████████████████████████████████████████████████████████| 6566/6566 [00:50<00:00, 130.52it/s]\n"
     ]
    },
    {
     "data": {
      "text/plain": [
       "(6473, 7)"
      ]
     },
     "execution_count": 32,
     "metadata": {},
     "output_type": "execute_result"
    }
   ],
   "source": [
    "import pandas as pd\n",
    "import spacy\n",
    "from spacy_langdetect import LanguageDetector\n",
    "from spacy.language import Language\n",
    "from tqdm import tqdm\n",
    "\n",
    "# Fonction pour ajouter le détecteur de langue à spaCy\n",
    "def get_lang_detector(nlp, name):\n",
    "    return LanguageDetector()\n",
    "\n",
    "# Charger le modèle de langue anglais\n",
    "nlp = spacy.load(\"en_core_web_sm\")\n",
    "\n",
    "# Vérifiez si l'usine existe déjà\n",
    "if \"language_detector\" not in nlp.pipe_names:\n",
    "    Language.factory(\"language_detector\", func=get_lang_detector)\n",
    "    nlp.add_pipe('language_detector', last=True)\n",
    "\n",
    "# Fonction pour détecter la langue\n",
    "def detect_language(text):\n",
    "    doc = nlp(text)\n",
    "    return doc._.language['language']\n",
    "\n",
    "# Appliquer la détection de langue avec une barre de progression\n",
    "tqdm.pandas()  # Activer tqdm pour les pandas DataFrame\n",
    "data['language'] = data['text'].progress_apply(detect_language)\n",
    "data = data[data['language'] == 'en']\n",
    "\n",
    "# Supprimer la colonne 'language' si elle n'est plus nécessaire\n",
    "data = data.drop(columns=['language'])\n",
    "\n",
    "data.shape\n"
   ]
  },
  {
   "cell_type": "markdown",
   "id": "763487ef-c222-4160-b03b-b30f939462c8",
   "metadata": {},
   "source": [
    "On s'est restreint à la langue anglaise."
   ]
  },
  {
   "cell_type": "markdown",
   "id": "259de112-c3a1-4d57-9e77-fba2a75a1361",
   "metadata": {},
   "source": [
    "### Nettoyage (adapté aux tweets)"
   ]
  },
  {
   "cell_type": "code",
   "execution_count": 33,
   "id": "6dcd7c11-47f1-4ddf-85e4-6bb5cfac2ede",
   "metadata": {},
   "outputs": [
    {
     "name": "stdout",
     "output_type": "stream",
     "text": [
      "CPU times: total: 0 ns\n",
      "Wall time: 0 ns\n",
      "Python version: 3.12.5 | packaged by Anaconda, Inc. | (main, Sep 12 2024, 18:18:29) [MSC v.1929 64 bit (AMD64)]\n",
      "Version info.: sys.version_info(major=3, minor=12, micro=5, releaselevel='final', serial=0)\n",
      "pandas version: 2.2.2\n",
      "numpy version: 1.26.4\n",
      "skearn version: 1.5.1\n",
      "re version: 2.2.1\n",
      "nltk version: 3.9.1\n"
     ]
    }
   ],
   "source": [
    "%time\n",
    "import os\n",
    "import sys\n",
    "import warnings\n",
    "if not sys.warnoptions:\n",
    "    warnings.simplefilter(\"ignore\")\n",
    "    \n",
    "import numpy as np\n",
    "import pandas as pd\n",
    "import sklearn\n",
    "\n",
    "# Libraries and packages for text (pre-)processing \n",
    "import string\n",
    "import re\n",
    "import nltk\n",
    "\n",
    "print(\"Python version:\", sys.version)\n",
    "print(\"Version info.:\", sys.version_info)\n",
    "print(\"pandas version:\", pd.__version__)\n",
    "print(\"numpy version:\", np.__version__)\n",
    "print(\"skearn version:\", sklearn.__version__)\n",
    "print(\"re version:\", re.__version__)\n",
    "print(\"nltk version:\", nltk.__version__)\n",
    "\n",
    "for dirname, _, filenames in os.walk('/kaggle/input'):\n",
    "    for filename in filenames:\n",
    "        print(os.path.join(dirname, filename))"
   ]
  },
  {
   "cell_type": "markdown",
   "id": "b1e651de-2f03-4d18-a7b4-1df444e6bf93",
   "metadata": {},
   "source": [
    "#### Données"
   ]
  },
  {
   "cell_type": "markdown",
   "id": "aacd8dec-f7e4-48b3-ade4-3d5c8210226a",
   "metadata": {},
   "source": [
    "Nous allons tester nos fonctions sur quelques lignes sélectionnées au hasard"
   ]
  },
  {
   "cell_type": "code",
   "execution_count": 34,
   "id": "024b0b54-03d3-43eb-9331-29ed7c4aff48",
   "metadata": {},
   "outputs": [
    {
     "data": {
      "text/html": [
       "<div>\n",
       "<style scoped>\n",
       "    .dataframe tbody tr th:only-of-type {\n",
       "        vertical-align: middle;\n",
       "    }\n",
       "\n",
       "    .dataframe tbody tr th {\n",
       "        vertical-align: top;\n",
       "    }\n",
       "\n",
       "    .dataframe thead th {\n",
       "        text-align: right;\n",
       "    }\n",
       "</style>\n",
       "<table border=\"1\" class=\"dataframe\">\n",
       "  <thead>\n",
       "    <tr style=\"text-align: right;\">\n",
       "      <th></th>\n",
       "      <th>target</th>\n",
       "      <th>ids</th>\n",
       "      <th>date</th>\n",
       "      <th>flag</th>\n",
       "      <th>user</th>\n",
       "      <th>text</th>\n",
       "      <th>sentiment_score</th>\n",
       "    </tr>\n",
       "  </thead>\n",
       "  <tbody>\n",
       "    <tr>\n",
       "      <th>710546</th>\n",
       "      <td>1</td>\n",
       "      <td>2257942590</td>\n",
       "      <td>Sat Jun 20 15:08:28 PDT 2009</td>\n",
       "      <td>NO_QUERY</td>\n",
       "      <td>lscassar</td>\n",
       "      <td>was totally crushed when I found that much looked forward to plane read: Air Kisses by @zotheysay, had sold out at airport</td>\n",
       "      <td>0</td>\n",
       "    </tr>\n",
       "    <tr>\n",
       "      <th>1392424</th>\n",
       "      <td>0</td>\n",
       "      <td>2053413445</td>\n",
       "      <td>Sat Jun 06 04:28:08 PDT 2009</td>\n",
       "      <td>NO_QUERY</td>\n",
       "      <td>brittneybrandt</td>\n",
       "      <td>About to board my 1st flight to St. Louis. Trying not to be nervous</td>\n",
       "      <td>4</td>\n",
       "    </tr>\n",
       "    <tr>\n",
       "      <th>1581607</th>\n",
       "      <td>0</td>\n",
       "      <td>2190209157</td>\n",
       "      <td>Tue Jun 16 02:04:40 PDT 2009</td>\n",
       "      <td>NO_QUERY</td>\n",
       "      <td>Jodie_rose</td>\n",
       "      <td>To do list for today: go to bank, pay for plane ticket, take sister to the dentist. Atleast my bike tyres are pumped up now</td>\n",
       "      <td>4</td>\n",
       "    </tr>\n",
       "    <tr>\n",
       "      <th>945894</th>\n",
       "      <td>0</td>\n",
       "      <td>1822468069</td>\n",
       "      <td>Sat May 16 19:38:49 PDT 2009</td>\n",
       "      <td>NO_QUERY</td>\n",
       "      <td>AnnieDAFG</td>\n",
       "      <td>@DavidArchie Hope you, your team, Cookie &amp;amp; his crew have a safe trip home! You guys are all amazing! Hope you'll get some R&amp;amp;R time now.</td>\n",
       "      <td>4</td>\n",
       "    </tr>\n",
       "    <tr>\n",
       "      <th>1101481</th>\n",
       "      <td>0</td>\n",
       "      <td>1970764086</td>\n",
       "      <td>Sat May 30 05:07:38 PDT 2009</td>\n",
       "      <td>NO_QUERY</td>\n",
       "      <td>repyocity</td>\n",
       "      <td>I haven't been to df dubb in a long time! Now i wait for my plane</td>\n",
       "      <td>4</td>\n",
       "    </tr>\n",
       "    <tr>\n",
       "      <th>1225417</th>\n",
       "      <td>0</td>\n",
       "      <td>1990684063</td>\n",
       "      <td>Mon Jun 01 05:29:57 PDT 2009</td>\n",
       "      <td>NO_QUERY</td>\n",
       "      <td>rainbox16</td>\n",
       "      <td>Sitting in the airport, waiting for the plane to arrive, so we can depart!!!   http://twitpic.com/6ebzo</td>\n",
       "      <td>4</td>\n",
       "    </tr>\n",
       "    <tr>\n",
       "      <th>434082</th>\n",
       "      <td>1</td>\n",
       "      <td>2065107414</td>\n",
       "      <td>Sun Jun 07 07:54:34 PDT 2009</td>\n",
       "      <td>NO_QUERY</td>\n",
       "      <td>jimgustafson</td>\n",
       "      <td>iTunes now mess up my play count for podcasts since the 8.2 upgrade</td>\n",
       "      <td>0</td>\n",
       "    </tr>\n",
       "    <tr>\n",
       "      <th>901636</th>\n",
       "      <td>0</td>\n",
       "      <td>1694273903</td>\n",
       "      <td>Mon May 04 01:52:24 PDT 2009</td>\n",
       "      <td>NO_QUERY</td>\n",
       "      <td>shanajaca</td>\n",
       "      <td>@TomFelton Safe flight home to you and Jade   XX</td>\n",
       "      <td>4</td>\n",
       "    </tr>\n",
       "    <tr>\n",
       "      <th>945745</th>\n",
       "      <td>0</td>\n",
       "      <td>1822429694</td>\n",
       "      <td>Sat May 16 19:33:31 PDT 2009</td>\n",
       "      <td>NO_QUERY</td>\n",
       "      <td>ohtobeMel</td>\n",
       "      <td>@FakerLoveJuice i know...i know....cant keep up with him...  I forget im with the clean up crew!!!</td>\n",
       "      <td>4</td>\n",
       "    </tr>\n",
       "    <tr>\n",
       "      <th>965683</th>\n",
       "      <td>0</td>\n",
       "      <td>1827632190</td>\n",
       "      <td>Sun May 17 11:07:12 PDT 2009</td>\n",
       "      <td>NO_QUERY</td>\n",
       "      <td>jessicatsang</td>\n",
       "      <td>Sooo many tweets to read... where to start. Foods ready but I must delay it for a while tonight</td>\n",
       "      <td>4</td>\n",
       "    </tr>\n",
       "  </tbody>\n",
       "</table>\n",
       "</div>"
      ],
      "text/plain": [
       "         target         ids                          date      flag  \\\n",
       "710546        1  2257942590  Sat Jun 20 15:08:28 PDT 2009  NO_QUERY   \n",
       "1392424       0  2053413445  Sat Jun 06 04:28:08 PDT 2009  NO_QUERY   \n",
       "1581607       0  2190209157  Tue Jun 16 02:04:40 PDT 2009  NO_QUERY   \n",
       "945894        0  1822468069  Sat May 16 19:38:49 PDT 2009  NO_QUERY   \n",
       "1101481       0  1970764086  Sat May 30 05:07:38 PDT 2009  NO_QUERY   \n",
       "1225417       0  1990684063  Mon Jun 01 05:29:57 PDT 2009  NO_QUERY   \n",
       "434082        1  2065107414  Sun Jun 07 07:54:34 PDT 2009  NO_QUERY   \n",
       "901636        0  1694273903  Mon May 04 01:52:24 PDT 2009  NO_QUERY   \n",
       "945745        0  1822429694  Sat May 16 19:33:31 PDT 2009  NO_QUERY   \n",
       "965683        0  1827632190  Sun May 17 11:07:12 PDT 2009  NO_QUERY   \n",
       "\n",
       "                   user  \\\n",
       "710546         lscassar   \n",
       "1392424  brittneybrandt   \n",
       "1581607      Jodie_rose   \n",
       "945894        AnnieDAFG   \n",
       "1101481       repyocity   \n",
       "1225417       rainbox16   \n",
       "434082     jimgustafson   \n",
       "901636        shanajaca   \n",
       "945745        ohtobeMel   \n",
       "965683     jessicatsang   \n",
       "\n",
       "                                                                                                                                                     text  \\\n",
       "710546                        was totally crushed when I found that much looked forward to plane read: Air Kisses by @zotheysay, had sold out at airport    \n",
       "1392424                                                                              About to board my 1st flight to St. Louis. Trying not to be nervous    \n",
       "1581607                      To do list for today: go to bank, pay for plane ticket, take sister to the dentist. Atleast my bike tyres are pumped up now    \n",
       "945894   @DavidArchie Hope you, your team, Cookie &amp; his crew have a safe trip home! You guys are all amazing! Hope you'll get some R&amp;R time now.    \n",
       "1101481                                                                                I haven't been to df dubb in a long time! Now i wait for my plane    \n",
       "1225417                                           Sitting in the airport, waiting for the plane to arrive, so we can depart!!!   http://twitpic.com/6ebzo   \n",
       "434082                                                                               iTunes now mess up my play count for podcasts since the 8.2 upgrade    \n",
       "901636                                                                                                   @TomFelton Safe flight home to you and Jade   XX   \n",
       "945745                                               @FakerLoveJuice i know...i know....cant keep up with him...  I forget im with the clean up crew!!!     \n",
       "965683                                                   Sooo many tweets to read... where to start. Foods ready but I must delay it for a while tonight    \n",
       "\n",
       "         sentiment_score  \n",
       "710546                 0  \n",
       "1392424                4  \n",
       "1581607                4  \n",
       "945894                 4  \n",
       "1101481                4  \n",
       "1225417                4  \n",
       "434082                 0  \n",
       "901636                 4  \n",
       "945745                 4  \n",
       "965683                 4  "
      ]
     },
     "metadata": {},
     "output_type": "display_data"
    }
   ],
   "source": [
    "import random\n",
    "\n",
    "# Choisir dix indices au hasard\n",
    "random_indices = random.sample(range(len(data)), 10)\n",
    "\n",
    "# Créer un DataFrame avec les lignes sélectionnées\n",
    "data_sample = data.iloc[random_indices]\n",
    "\n",
    "# Afficher les lignes sélectionnées pour vérification\n",
    "pd.set_option('display.max_colwidth', None)\n",
    "display(data_sample)"
   ]
  },
  {
   "cell_type": "code",
   "execution_count": 35,
   "id": "790ea398-034b-4d8c-a8ed-4d72ccd136fa",
   "metadata": {},
   "outputs": [
    {
     "data": {
      "text/html": [
       "<div>\n",
       "<style scoped>\n",
       "    .dataframe tbody tr th:only-of-type {\n",
       "        vertical-align: middle;\n",
       "    }\n",
       "\n",
       "    .dataframe tbody tr th {\n",
       "        vertical-align: top;\n",
       "    }\n",
       "\n",
       "    .dataframe thead th {\n",
       "        text-align: right;\n",
       "    }\n",
       "</style>\n",
       "<table border=\"1\" class=\"dataframe\">\n",
       "  <thead>\n",
       "    <tr style=\"text-align: right;\">\n",
       "      <th></th>\n",
       "      <th>target</th>\n",
       "      <th>ids</th>\n",
       "      <th>date</th>\n",
       "      <th>flag</th>\n",
       "      <th>user</th>\n",
       "      <th>text</th>\n",
       "      <th>sentiment_score</th>\n",
       "      <th>tokens</th>\n",
       "    </tr>\n",
       "  </thead>\n",
       "  <tbody>\n",
       "    <tr>\n",
       "      <th>710546</th>\n",
       "      <td>1</td>\n",
       "      <td>2257942590</td>\n",
       "      <td>Sat Jun 20 15:08:28 PDT 2009</td>\n",
       "      <td>NO_QUERY</td>\n",
       "      <td>lscassar</td>\n",
       "      <td>was totally crushed when I found that much looked forward to plane read: Air Kisses by @zotheysay, had sold out at airport</td>\n",
       "      <td>0</td>\n",
       "      <td>[was, totally, crushed, when, I, found, that, much, looked, forward, to, plane, read, :, Air, Kisses, by, @zotheysay, ,, had, sold, out, at, airport]</td>\n",
       "    </tr>\n",
       "    <tr>\n",
       "      <th>1392424</th>\n",
       "      <td>0</td>\n",
       "      <td>2053413445</td>\n",
       "      <td>Sat Jun 06 04:28:08 PDT 2009</td>\n",
       "      <td>NO_QUERY</td>\n",
       "      <td>brittneybrandt</td>\n",
       "      <td>About to board my 1st flight to St. Louis. Trying not to be nervous</td>\n",
       "      <td>4</td>\n",
       "      <td>[About, to, board, my, 1st, flight, to, St., Louis, ., Trying, not, to, be, nervous]</td>\n",
       "    </tr>\n",
       "    <tr>\n",
       "      <th>1581607</th>\n",
       "      <td>0</td>\n",
       "      <td>2190209157</td>\n",
       "      <td>Tue Jun 16 02:04:40 PDT 2009</td>\n",
       "      <td>NO_QUERY</td>\n",
       "      <td>Jodie_rose</td>\n",
       "      <td>To do list for today: go to bank, pay for plane ticket, take sister to the dentist. Atleast my bike tyres are pumped up now</td>\n",
       "      <td>4</td>\n",
       "      <td>[To, do, list, for, today, :, go, to, bank, ,, pay, for, plane, ticket, ,, take, sister, to, the, dentist, ., Atleast, my, bike, tyres, are, pumped, up, now]</td>\n",
       "    </tr>\n",
       "    <tr>\n",
       "      <th>945894</th>\n",
       "      <td>0</td>\n",
       "      <td>1822468069</td>\n",
       "      <td>Sat May 16 19:38:49 PDT 2009</td>\n",
       "      <td>NO_QUERY</td>\n",
       "      <td>AnnieDAFG</td>\n",
       "      <td>@DavidArchie Hope you, your team, Cookie &amp;amp; his crew have a safe trip home! You guys are all amazing! Hope you'll get some R&amp;amp;R time now.</td>\n",
       "      <td>4</td>\n",
       "      <td>[@DavidArchie, Hope, you, ,, your, team, ,, Cookie, &amp;, amp, ;, his, crew, have, a, safe, trip, home, !, You, guys, are, all, amazing, !, Hope, you, 'll, get, some, R&amp;amp;R, time, now, .]</td>\n",
       "    </tr>\n",
       "    <tr>\n",
       "      <th>1101481</th>\n",
       "      <td>0</td>\n",
       "      <td>1970764086</td>\n",
       "      <td>Sat May 30 05:07:38 PDT 2009</td>\n",
       "      <td>NO_QUERY</td>\n",
       "      <td>repyocity</td>\n",
       "      <td>I haven't been to df dubb in a long time! Now i wait for my plane</td>\n",
       "      <td>4</td>\n",
       "      <td>[I, have, n't, been, to, df, dubb, in, a, long, time, !, Now, i, wait, for, my, plane]</td>\n",
       "    </tr>\n",
       "    <tr>\n",
       "      <th>1225417</th>\n",
       "      <td>0</td>\n",
       "      <td>1990684063</td>\n",
       "      <td>Mon Jun 01 05:29:57 PDT 2009</td>\n",
       "      <td>NO_QUERY</td>\n",
       "      <td>rainbox16</td>\n",
       "      <td>Sitting in the airport, waiting for the plane to arrive, so we can depart!!!   http://twitpic.com/6ebzo</td>\n",
       "      <td>4</td>\n",
       "      <td>[Sitting, in, the, airport, ,, waiting, for, the, plane, to, arrive, ,, so, we, can, depart, !, !, !,   , http://twitpic.com/6ebzo]</td>\n",
       "    </tr>\n",
       "    <tr>\n",
       "      <th>434082</th>\n",
       "      <td>1</td>\n",
       "      <td>2065107414</td>\n",
       "      <td>Sun Jun 07 07:54:34 PDT 2009</td>\n",
       "      <td>NO_QUERY</td>\n",
       "      <td>jimgustafson</td>\n",
       "      <td>iTunes now mess up my play count for podcasts since the 8.2 upgrade</td>\n",
       "      <td>0</td>\n",
       "      <td>[iTunes, now, mess, up, my, play, count, for, podcasts, since, the, 8.2, upgrade]</td>\n",
       "    </tr>\n",
       "    <tr>\n",
       "      <th>901636</th>\n",
       "      <td>0</td>\n",
       "      <td>1694273903</td>\n",
       "      <td>Mon May 04 01:52:24 PDT 2009</td>\n",
       "      <td>NO_QUERY</td>\n",
       "      <td>shanajaca</td>\n",
       "      <td>@TomFelton Safe flight home to you and Jade   XX</td>\n",
       "      <td>4</td>\n",
       "      <td>[@TomFelton, Safe, flight, home, to, you, and, Jade,   , XX]</td>\n",
       "    </tr>\n",
       "    <tr>\n",
       "      <th>945745</th>\n",
       "      <td>0</td>\n",
       "      <td>1822429694</td>\n",
       "      <td>Sat May 16 19:33:31 PDT 2009</td>\n",
       "      <td>NO_QUERY</td>\n",
       "      <td>ohtobeMel</td>\n",
       "      <td>@FakerLoveJuice i know...i know....cant keep up with him...  I forget im with the clean up crew!!!</td>\n",
       "      <td>4</td>\n",
       "      <td>[@FakerLoveJuice, i, know, ..., i, know, ...., cant, keep, up, with, him, ...,  , I, forget, i, m, with, the, clean, up, crew, !, !, !,  ]</td>\n",
       "    </tr>\n",
       "    <tr>\n",
       "      <th>965683</th>\n",
       "      <td>0</td>\n",
       "      <td>1827632190</td>\n",
       "      <td>Sun May 17 11:07:12 PDT 2009</td>\n",
       "      <td>NO_QUERY</td>\n",
       "      <td>jessicatsang</td>\n",
       "      <td>Sooo many tweets to read... where to start. Foods ready but I must delay it for a while tonight</td>\n",
       "      <td>4</td>\n",
       "      <td>[Sooo, many, tweets, to, read, ..., where, to, start, ., Foods, ready, but, I, must, delay, it, for, a, while, tonight]</td>\n",
       "    </tr>\n",
       "  </tbody>\n",
       "</table>\n",
       "</div>"
      ],
      "text/plain": [
       "         target         ids                          date      flag  \\\n",
       "710546        1  2257942590  Sat Jun 20 15:08:28 PDT 2009  NO_QUERY   \n",
       "1392424       0  2053413445  Sat Jun 06 04:28:08 PDT 2009  NO_QUERY   \n",
       "1581607       0  2190209157  Tue Jun 16 02:04:40 PDT 2009  NO_QUERY   \n",
       "945894        0  1822468069  Sat May 16 19:38:49 PDT 2009  NO_QUERY   \n",
       "1101481       0  1970764086  Sat May 30 05:07:38 PDT 2009  NO_QUERY   \n",
       "1225417       0  1990684063  Mon Jun 01 05:29:57 PDT 2009  NO_QUERY   \n",
       "434082        1  2065107414  Sun Jun 07 07:54:34 PDT 2009  NO_QUERY   \n",
       "901636        0  1694273903  Mon May 04 01:52:24 PDT 2009  NO_QUERY   \n",
       "945745        0  1822429694  Sat May 16 19:33:31 PDT 2009  NO_QUERY   \n",
       "965683        0  1827632190  Sun May 17 11:07:12 PDT 2009  NO_QUERY   \n",
       "\n",
       "                   user  \\\n",
       "710546         lscassar   \n",
       "1392424  brittneybrandt   \n",
       "1581607      Jodie_rose   \n",
       "945894        AnnieDAFG   \n",
       "1101481       repyocity   \n",
       "1225417       rainbox16   \n",
       "434082     jimgustafson   \n",
       "901636        shanajaca   \n",
       "945745        ohtobeMel   \n",
       "965683     jessicatsang   \n",
       "\n",
       "                                                                                                                                                     text  \\\n",
       "710546                        was totally crushed when I found that much looked forward to plane read: Air Kisses by @zotheysay, had sold out at airport    \n",
       "1392424                                                                              About to board my 1st flight to St. Louis. Trying not to be nervous    \n",
       "1581607                      To do list for today: go to bank, pay for plane ticket, take sister to the dentist. Atleast my bike tyres are pumped up now    \n",
       "945894   @DavidArchie Hope you, your team, Cookie &amp; his crew have a safe trip home! You guys are all amazing! Hope you'll get some R&amp;R time now.    \n",
       "1101481                                                                                I haven't been to df dubb in a long time! Now i wait for my plane    \n",
       "1225417                                           Sitting in the airport, waiting for the plane to arrive, so we can depart!!!   http://twitpic.com/6ebzo   \n",
       "434082                                                                               iTunes now mess up my play count for podcasts since the 8.2 upgrade    \n",
       "901636                                                                                                   @TomFelton Safe flight home to you and Jade   XX   \n",
       "945745                                               @FakerLoveJuice i know...i know....cant keep up with him...  I forget im with the clean up crew!!!     \n",
       "965683                                                   Sooo many tweets to read... where to start. Foods ready but I must delay it for a while tonight    \n",
       "\n",
       "         sentiment_score  \\\n",
       "710546                 0   \n",
       "1392424                4   \n",
       "1581607                4   \n",
       "945894                 4   \n",
       "1101481                4   \n",
       "1225417                4   \n",
       "434082                 0   \n",
       "901636                 4   \n",
       "945745                 4   \n",
       "965683                 4   \n",
       "\n",
       "                                                                                                                                                                                             tokens  \n",
       "710546                                        [was, totally, crushed, when, I, found, that, much, looked, forward, to, plane, read, :, Air, Kisses, by, @zotheysay, ,, had, sold, out, at, airport]  \n",
       "1392424                                                                                                        [About, to, board, my, 1st, flight, to, St., Louis, ., Trying, not, to, be, nervous]  \n",
       "1581607                               [To, do, list, for, today, :, go, to, bank, ,, pay, for, plane, ticket, ,, take, sister, to, the, dentist, ., Atleast, my, bike, tyres, are, pumped, up, now]  \n",
       "945894   [@DavidArchie, Hope, you, ,, your, team, ,, Cookie, &, amp, ;, his, crew, have, a, safe, trip, home, !, You, guys, are, all, amazing, !, Hope, you, 'll, get, some, R&amp;R, time, now, .]  \n",
       "1101481                                                                                                      [I, have, n't, been, to, df, dubb, in, a, long, time, !, Now, i, wait, for, my, plane]  \n",
       "1225417                                                         [Sitting, in, the, airport, ,, waiting, for, the, plane, to, arrive, ,, so, we, can, depart, !, !, !,   , http://twitpic.com/6ebzo]  \n",
       "434082                                                                                                            [iTunes, now, mess, up, my, play, count, for, podcasts, since, the, 8.2, upgrade]  \n",
       "901636                                                                                                                                 [@TomFelton, Safe, flight, home, to, you, and, Jade,   , XX]  \n",
       "945745                                                   [@FakerLoveJuice, i, know, ..., i, know, ...., cant, keep, up, with, him, ...,  , I, forget, i, m, with, the, clean, up, crew, !, !, !,  ]  \n",
       "965683                                                                      [Sooo, many, tweets, to, read, ..., where, to, start, ., Foods, ready, but, I, must, delay, it, for, a, while, tonight]  "
      ]
     },
     "metadata": {},
     "output_type": "display_data"
    }
   ],
   "source": [
    "import spacy\n",
    "\n",
    "# Tokenisation avec Spacy# Charger le modèle de langue\n",
    "nlp = spacy.load('en_core_web_sm')\n",
    "\n",
    "# Tokeniser les textes\n",
    "data_sample['tokens'] = data_sample['text'].apply(lambda x: [token.text for token in nlp(x)])\n",
    "\n",
    "# Afficher les lignes sélectionnées et tokenisées pour vérification\n",
    "pd.set_option('display.max_colwidth', None)\n",
    "display(data_sample)"
   ]
  },
  {
   "cell_type": "code",
   "execution_count": 36,
   "id": "85f7d102-e897-485f-8e2c-1b86b089f09a",
   "metadata": {},
   "outputs": [],
   "source": [
    "import nltk\n",
    "from nltk.tokenize import word_tokenize\n",
    "# nltk.download('punkt_tab')\n",
    "\n",
    "\n",
    "def count_total_tokens(data_sample, col):\n",
    "    total_tokens = 0\n",
    "    for text in data_sample[col]:\n",
    "        tokens = word_tokenize(text)\n",
    "        total_tokens += len(tokens)\n",
    "    print(\"Nombre total de tokens :\", total_tokens)\n",
    "    return total_tokens"
   ]
  },
  {
   "cell_type": "code",
   "execution_count": 37,
   "id": "a72fc487-8d7a-4478-b14e-b06602f6c0b0",
   "metadata": {},
   "outputs": [
    {
     "name": "stdout",
     "output_type": "stream",
     "text": [
      "Nombre total de tokens : 217\n"
     ]
    },
    {
     "data": {
      "text/plain": [
       "217"
      ]
     },
     "execution_count": 37,
     "metadata": {},
     "output_type": "execute_result"
    }
   ],
   "source": [
    "count_total_tokens(data_sample, \"text\")"
   ]
  },
  {
   "cell_type": "markdown",
   "id": "b5eaa7fc-5ac1-4ffd-8c80-87693e0dc482",
   "metadata": {},
   "source": [
    "#### Fonctions"
   ]
  },
  {
   "cell_type": "code",
   "execution_count": 38,
   "id": "a0d2085d-28d6-48d6-b6fb-1d70d78403fd",
   "metadata": {},
   "outputs": [],
   "source": [
    "# pip install colorama\n",
    "# Afficher les textes d'origine et les textes modifiés (en bleu)\n",
    "from colorama import Fore, Style, init\n",
    "\n",
    "def display_texts(data_sample, col1, col2):\n",
    "    for original, cleaned in zip(data_sample[col1], data_sample[col2]):\n",
    "        print(f\"Original: {original}\")\n",
    "        print(f\"{Fore.BLUE}Modifié: {cleaned}{Style.RESET_ALL}\")\n",
    "        print('-' * 50)  # Separator between entries (optional)"
   ]
  },
  {
   "cell_type": "code",
   "execution_count": 39,
   "id": "8d02d030-effe-420b-85e9-d31362f52b93",
   "metadata": {},
   "outputs": [
    {
     "name": "stdout",
     "output_type": "stream",
     "text": [
      "Original: was totally crushed when I found that much looked forward to plane read: Air Kisses by @zotheysay, had sold out at airport \n",
      "\u001b[34mModifié: was totally crushed when I found that much looked forward to plane read: Air Kisses by @zotheysay, had sold out at airport \u001b[0m\n",
      "--------------------------------------------------\n",
      "Original: About to board my 1st flight to St. Louis. Trying not to be nervous \n",
      "\u001b[34mModifié: About to board my 1st flight to St. Louis. Trying not to be nervous \u001b[0m\n",
      "--------------------------------------------------\n",
      "Original: To do list for today: go to bank, pay for plane ticket, take sister to the dentist. Atleast my bike tyres are pumped up now \n",
      "\u001b[34mModifié: To do list for today: go to bank, pay for plane ticket, take sister to the dentist. Atleast my bike tyres are pumped up now \u001b[0m\n",
      "--------------------------------------------------\n",
      "Original: @DavidArchie Hope you, your team, Cookie &amp; his crew have a safe trip home! You guys are all amazing! Hope you'll get some R&amp;R time now. \n",
      "\u001b[34mModifié: @DavidArchie Hope you, your team, Cookie & his crew have a safe trip home! You guys are all amazing! Hope you'll get some R&R time now. \u001b[0m\n",
      "--------------------------------------------------\n",
      "Original: I haven't been to df dubb in a long time! Now i wait for my plane \n",
      "\u001b[34mModifié: I haven't been to df dubb in a long time! Now i wait for my plane \u001b[0m\n",
      "--------------------------------------------------\n",
      "Original: Sitting in the airport, waiting for the plane to arrive, so we can depart!!!   http://twitpic.com/6ebzo\n",
      "\u001b[34mModifié: Sitting in the airport, waiting for the plane to arrive, so we can depart!!!   http://twitpic.com/6ebzo\u001b[0m\n",
      "--------------------------------------------------\n",
      "Original: iTunes now mess up my play count for podcasts since the 8.2 upgrade \n",
      "\u001b[34mModifié: iTunes now mess up my play count for podcasts since the 8.2 upgrade \u001b[0m\n",
      "--------------------------------------------------\n",
      "Original: @TomFelton Safe flight home to you and Jade   XX\n",
      "\u001b[34mModifié: @TomFelton Safe flight home to you and Jade   XX\u001b[0m\n",
      "--------------------------------------------------\n",
      "Original: @FakerLoveJuice i know...i know....cant keep up with him...  I forget im with the clean up crew!!!  \n",
      "\u001b[34mModifié: @FakerLoveJuice i know...i know....cant keep up with him...  I forget im with the clean up crew!!!  \u001b[0m\n",
      "--------------------------------------------------\n",
      "Original: Sooo many tweets to read... where to start. Foods ready but I must delay it for a while tonight \n",
      "\u001b[34mModifié: Sooo many tweets to read... where to start. Foods ready but I must delay it for a while tonight \u001b[0m\n",
      "--------------------------------------------------\n"
     ]
    }
   ],
   "source": [
    "# Traitement de caractères spécifiques du texte importé de html\n",
    "# Fonction pour décoder les entités HTML\n",
    "import html\n",
    "\n",
    "def decode_html(text):\n",
    "    \"\"\"\n",
    "        Remove strings generated when text typed as html\n",
    "        was stored as raw text\n",
    "    \"\"\"\n",
    "    return html.unescape(text)\n",
    "\n",
    "data_sample['cleaned_text'] = data_sample['text'].apply(decode_html)\n",
    "\n",
    "display_texts(data_sample, \"text\", \"cleaned_text\")"
   ]
  },
  {
   "cell_type": "code",
   "execution_count": 40,
   "id": "f939e686-d7bd-42d9-93b0-8ee201a7ea46",
   "metadata": {},
   "outputs": [],
   "source": [
    "def remove_URL(text):\n",
    "    \"\"\"\n",
    "        Remove URLs from a sample string\n",
    "        Adding URLs may be informative about the polarity\n",
    "        so the URL is relaplace with <url>\n",
    "    \"\"\"\n",
    "    return re.sub(r\"https?://\\S+|www\\.\\S+\", \"<url>\", text)"
   ]
  },
  {
   "cell_type": "code",
   "execution_count": 41,
   "id": "8c125029-2baa-4bfb-8c5d-5038c0ef73e0",
   "metadata": {},
   "outputs": [
    {
     "name": "stdout",
     "output_type": "stream",
     "text": [
      "Original: was totally crushed when I found that much looked forward to plane read: Air Kisses by @zotheysay, had sold out at airport \n",
      "\u001b[34mModifié: was totally crushed when I found that much looked forward to plane read: Air Kisses by @zotheysay, had sold out at airport \u001b[0m\n",
      "--------------------------------------------------\n",
      "Original: About to board my 1st flight to St. Louis. Trying not to be nervous \n",
      "\u001b[34mModifié: About to board my 1st flight to St. Louis. Trying not to be nervous \u001b[0m\n",
      "--------------------------------------------------\n",
      "Original: To do list for today: go to bank, pay for plane ticket, take sister to the dentist. Atleast my bike tyres are pumped up now \n",
      "\u001b[34mModifié: To do list for today: go to bank, pay for plane ticket, take sister to the dentist. Atleast my bike tyres are pumped up now \u001b[0m\n",
      "--------------------------------------------------\n",
      "Original: @DavidArchie Hope you, your team, Cookie &amp; his crew have a safe trip home! You guys are all amazing! Hope you'll get some R&amp;R time now. \n",
      "\u001b[34mModifié: @DavidArchie Hope you, your team, Cookie & his crew have a safe trip home! You guys are all amazing! Hope you'll get some R&R time now. \u001b[0m\n",
      "--------------------------------------------------\n",
      "Original: I haven't been to df dubb in a long time! Now i wait for my plane \n",
      "\u001b[34mModifié: I haven't been to df dubb in a long time! Now i wait for my plane \u001b[0m\n",
      "--------------------------------------------------\n",
      "Original: Sitting in the airport, waiting for the plane to arrive, so we can depart!!!   http://twitpic.com/6ebzo\n",
      "\u001b[34mModifié: Sitting in the airport, waiting for the plane to arrive, so we can depart!!!   <url>\u001b[0m\n",
      "--------------------------------------------------\n",
      "Original: iTunes now mess up my play count for podcasts since the 8.2 upgrade \n",
      "\u001b[34mModifié: iTunes now mess up my play count for podcasts since the 8.2 upgrade \u001b[0m\n",
      "--------------------------------------------------\n",
      "Original: @TomFelton Safe flight home to you and Jade   XX\n",
      "\u001b[34mModifié: @TomFelton Safe flight home to you and Jade   XX\u001b[0m\n",
      "--------------------------------------------------\n",
      "Original: @FakerLoveJuice i know...i know....cant keep up with him...  I forget im with the clean up crew!!!  \n",
      "\u001b[34mModifié: @FakerLoveJuice i know...i know....cant keep up with him...  I forget im with the clean up crew!!!  \u001b[0m\n",
      "--------------------------------------------------\n",
      "Original: Sooo many tweets to read... where to start. Foods ready but I must delay it for a while tonight \n",
      "\u001b[34mModifié: Sooo many tweets to read... where to start. Foods ready but I must delay it for a while tonight \u001b[0m\n",
      "--------------------------------------------------\n"
     ]
    }
   ],
   "source": [
    "# Appliquer la fonction remove_URL\n",
    "data_sample['cleaned_text'] = data_sample['cleaned_text'].apply(remove_URL)\n",
    "\n",
    "display_texts(data_sample, \"text\", \"cleaned_text\")"
   ]
  },
  {
   "cell_type": "code",
   "execution_count": 42,
   "id": "fc5f95d9-d5ba-4f1f-9584-59cbec16d0cf",
   "metadata": {},
   "outputs": [],
   "source": [
    "def remove_mentions(text):\n",
    "    \"\"\"\n",
    "    Remove mentions (words starting with @) from a sample string\n",
    "    As mentions may be informative regarding sentence polarity\n",
    "    let's replace by <mention>\n",
    "    \"\"\"\n",
    "    return re.sub(r'(@[A-Za-z0-9_]+)', '<mention>', text)\n"
   ]
  },
  {
   "cell_type": "code",
   "execution_count": 43,
   "id": "93099387-5483-4ee8-8a07-01c23986c5f5",
   "metadata": {},
   "outputs": [
    {
     "name": "stdout",
     "output_type": "stream",
     "text": [
      "Original: was totally crushed when I found that much looked forward to plane read: Air Kisses by @zotheysay, had sold out at airport \n",
      "\u001b[34mModifié: was totally crushed when I found that much looked forward to plane read: Air Kisses by <mention>, had sold out at airport \u001b[0m\n",
      "--------------------------------------------------\n",
      "Original: About to board my 1st flight to St. Louis. Trying not to be nervous \n",
      "\u001b[34mModifié: About to board my 1st flight to St. Louis. Trying not to be nervous \u001b[0m\n",
      "--------------------------------------------------\n",
      "Original: To do list for today: go to bank, pay for plane ticket, take sister to the dentist. Atleast my bike tyres are pumped up now \n",
      "\u001b[34mModifié: To do list for today: go to bank, pay for plane ticket, take sister to the dentist. Atleast my bike tyres are pumped up now \u001b[0m\n",
      "--------------------------------------------------\n",
      "Original: @DavidArchie Hope you, your team, Cookie &amp; his crew have a safe trip home! You guys are all amazing! Hope you'll get some R&amp;R time now. \n",
      "\u001b[34mModifié: <mention> Hope you, your team, Cookie & his crew have a safe trip home! You guys are all amazing! Hope you'll get some R&R time now. \u001b[0m\n",
      "--------------------------------------------------\n",
      "Original: I haven't been to df dubb in a long time! Now i wait for my plane \n",
      "\u001b[34mModifié: I haven't been to df dubb in a long time! Now i wait for my plane \u001b[0m\n",
      "--------------------------------------------------\n",
      "Original: Sitting in the airport, waiting for the plane to arrive, so we can depart!!!   http://twitpic.com/6ebzo\n",
      "\u001b[34mModifié: Sitting in the airport, waiting for the plane to arrive, so we can depart!!!   <url>\u001b[0m\n",
      "--------------------------------------------------\n",
      "Original: iTunes now mess up my play count for podcasts since the 8.2 upgrade \n",
      "\u001b[34mModifié: iTunes now mess up my play count for podcasts since the 8.2 upgrade \u001b[0m\n",
      "--------------------------------------------------\n",
      "Original: @TomFelton Safe flight home to you and Jade   XX\n",
      "\u001b[34mModifié: <mention> Safe flight home to you and Jade   XX\u001b[0m\n",
      "--------------------------------------------------\n",
      "Original: @FakerLoveJuice i know...i know....cant keep up with him...  I forget im with the clean up crew!!!  \n",
      "\u001b[34mModifié: <mention> i know...i know....cant keep up with him...  I forget im with the clean up crew!!!  \u001b[0m\n",
      "--------------------------------------------------\n",
      "Original: Sooo many tweets to read... where to start. Foods ready but I must delay it for a while tonight \n",
      "\u001b[34mModifié: Sooo many tweets to read... where to start. Foods ready but I must delay it for a while tonight \u001b[0m\n",
      "--------------------------------------------------\n"
     ]
    }
   ],
   "source": [
    "# Appliquer la fonction remove_mention et stocker le résultat dans une nouvelle colonne\n",
    "data_sample['cleaned_text2'] = data_sample['cleaned_text'].apply(remove_mentions)\n",
    "\n",
    "display_texts(data_sample, \"text\", \"cleaned_text2\")"
   ]
  },
  {
   "cell_type": "code",
   "execution_count": 44,
   "id": "f164d82b-490e-4052-b955-ad0b17887a5c",
   "metadata": {},
   "outputs": [],
   "source": [
    "def reduce_repetitions(text):\n",
    "    \"\"\"\n",
    "    Reduce character repetitions in a sample string\n",
    "    \"\"\"\n",
    "    return re.sub(r'(.)\\1{2,}', r'\\1\\1', text)"
   ]
  },
  {
   "cell_type": "code",
   "execution_count": 45,
   "id": "ba943f21-01a9-4b3e-8498-376a3726cd5f",
   "metadata": {
    "scrolled": true
   },
   "outputs": [
    {
     "name": "stdout",
     "output_type": "stream",
     "text": [
      "Original: was totally crushed when I found that much looked forward to plane read: Air Kisses by @zotheysay, had sold out at airport \n",
      "\u001b[34mModifié: was totally crushed when I found that much looked forward to plane read: Air Kisses by <mention>, had sold out at airport \u001b[0m\n",
      "--------------------------------------------------\n",
      "Original: About to board my 1st flight to St. Louis. Trying not to be nervous \n",
      "\u001b[34mModifié: About to board my 1st flight to St. Louis. Trying not to be nervous \u001b[0m\n",
      "--------------------------------------------------\n",
      "Original: To do list for today: go to bank, pay for plane ticket, take sister to the dentist. Atleast my bike tyres are pumped up now \n",
      "\u001b[34mModifié: To do list for today: go to bank, pay for plane ticket, take sister to the dentist. Atleast my bike tyres are pumped up now \u001b[0m\n",
      "--------------------------------------------------\n",
      "Original: @DavidArchie Hope you, your team, Cookie &amp; his crew have a safe trip home! You guys are all amazing! Hope you'll get some R&amp;R time now. \n",
      "\u001b[34mModifié: <mention> Hope you, your team, Cookie & his crew have a safe trip home! You guys are all amazing! Hope you'll get some R&R time now. \u001b[0m\n",
      "--------------------------------------------------\n",
      "Original: I haven't been to df dubb in a long time! Now i wait for my plane \n",
      "\u001b[34mModifié: I haven't been to df dubb in a long time! Now i wait for my plane \u001b[0m\n",
      "--------------------------------------------------\n",
      "Original: Sitting in the airport, waiting for the plane to arrive, so we can depart!!!   http://twitpic.com/6ebzo\n",
      "\u001b[34mModifié: Sitting in the airport, waiting for the plane to arrive, so we can depart!!  <url>\u001b[0m\n",
      "--------------------------------------------------\n",
      "Original: iTunes now mess up my play count for podcasts since the 8.2 upgrade \n",
      "\u001b[34mModifié: iTunes now mess up my play count for podcasts since the 8.2 upgrade \u001b[0m\n",
      "--------------------------------------------------\n",
      "Original: @TomFelton Safe flight home to you and Jade   XX\n",
      "\u001b[34mModifié: <mention> Safe flight home to you and Jade  XX\u001b[0m\n",
      "--------------------------------------------------\n",
      "Original: @FakerLoveJuice i know...i know....cant keep up with him...  I forget im with the clean up crew!!!  \n",
      "\u001b[34mModifié: <mention> i know..i know..cant keep up with him..  I forget im with the clean up crew!!  \u001b[0m\n",
      "--------------------------------------------------\n",
      "Original: Sooo many tweets to read... where to start. Foods ready but I must delay it for a while tonight \n",
      "\u001b[34mModifié: Soo many tweets to read.. where to start. Foods ready but I must delay it for a while tonight \u001b[0m\n",
      "--------------------------------------------------\n"
     ]
    }
   ],
   "source": [
    "# Appliquer la fonction reduce_repetitions et stocker le résultat dans une nouvelle colonne\n",
    "data_sample['cleaned_text3'] = data_sample['cleaned_text2'].apply(reduce_repetitions)\n",
    "\n",
    "display_texts(data_sample, \"text\", \"cleaned_text3\")"
   ]
  },
  {
   "cell_type": "markdown",
   "id": "131fdfd7-b7d1-45ce-846c-4a90bcd8a48c",
   "metadata": {},
   "source": [
    "##### Dictionnaires slang, abrev, emoticons"
   ]
  },
  {
   "cell_type": "code",
   "execution_count": 46,
   "id": "7a3962c0-de58-431e-9aad-0509bdbacaaa",
   "metadata": {},
   "outputs": [],
   "source": [
    "# Dictionnaries of common language specifics of tweets\n",
    "# Typos, slang and other\n",
    "sample_typos_slang_dict = {\n",
    "    \"w/e\": \"whatever\",\n",
    "    \"usagov\": \"usa government\",\n",
    "    \"recentlu\": \"recently\",\n",
    "    \"ph0tos\": \"photos\",\n",
    "    \"amirite\": \"am i right\",\n",
    "    \"exp0sed\": \"exposed\",\n",
    "    \"luv\": \"love\",\n",
    "    \"amageddon\": \"armageddon\",\n",
    "    \"trfc\": \"traffic\",\n",
    "    \"a/c\": \"air conditioning\",\n",
    "    \"16yr\": \"16 year\",\n",
    "    \"NYC\": \"New York\",\n",
    "    \"hahaha\": \"laughs\",\n",
    "    \"u\": \"you\",\n",
    "    \"tru\": \"through\"\n",
    "}\n",
    "\n",
    "# Sentiments emoticon as characters\n",
    "sample_emoticons_dict = {\n",
    "    \":)\": \"smile\",\n",
    "    \":(\": \"sad\",\n",
    "    \":D\": \"grin\",\n",
    "    \"XD\": \"laugh\",\n",
    "    \":'(\": \"cry\",\n",
    "    \":P\": \"playful\",\n",
    "    \";)\": \"wink\",\n",
    "    \":O\": \"surprised\",\n",
    "    \":/\": \"skeptical\",\n",
    "    \":|\": \"neutral\",\n",
    "    \":*\": \"kiss\",\n",
    "    \":-)\": \"smile\",\n",
    "    \":-(\": \"sad\",\n",
    "    \":-D\": \"grin\",\n",
    "    \":-P\": \"playful\",\n",
    "    \";-)\": \"wink\",\n",
    "    \":-O\": \"surprised\",\n",
    "    \":-/\": \"skeptical\",\n",
    "    \":-|\": \"neutral\",\n",
    "    \":-*\": \"kiss\",\n",
    "    \"<3\": \"love\",\n",
    "    \"<33\": \"deep love\"\n",
    "}\n",
    "\n",
    "# Common abbreviations\n",
    "sample_abbr_dict = {\n",
    "    \"$\": \" dollar \",\n",
    "    \"€\": \" euro \",\n",
    "    \"4ao\": \"for adults only\",\n",
    "    \"a.m\": \"before midday\",\n",
    "    \"a3\": \"anytime anywhere anyplace\",\n",
    "    \"aamof\": \"as a matter of fact\",\n",
    "    \"acct\": \"account\",\n",
    "    \"adih\": \"another day in hell\",\n",
    "    \"afaic\": \"as far as i am concerned\",\n",
    "    \"afaict\": \"as far as i can tell\",\n",
    "    \"afaik\": \"as far as i know\",\n",
    "    \"afair\": \"as far as i remember\",\n",
    "    \"afk\": \"away from keyboard\",\n",
    "    \"app\": \"application\",\n",
    "    \"approx\": \"approximately\",\n",
    "    \"apps\": \"applications\",\n",
    "    \"asap\": \"as soon as possible\",\n",
    "    \"asl\": \"age, sex, location\",\n",
    "    \"atk\": \"at the keyboard\",\n",
    "    \"ave.\": \"avenue\",\n",
    "    \"ayor\": \"at your own risk\",\n",
    "    \"b&b\": \"bed and breakfast\",\n",
    "    \"b.c\": \"before christ\",\n",
    "    \"b2b\": \"business to business\",\n",
    "    \"b2c\": \"business to customer\",\n",
    "    \"b4\": \"before\",\n",
    "    \"bae\": \"before anyone else\",\n",
    "    \"bak\": \"back at keyboard\",\n",
    "    \"bbc\": \"british broadcasting corporation\",\n",
    "    \"bfn\": \"bye for now\",\n",
    "    \"blvd\": \"boulevard\",\n",
    "    \"bout\": \"about\",\n",
    "    \"brb\": \"be right back\",\n",
    "    \"bros\": \"brothers\",\n",
    "    \"btw\": \"by the way\",\n",
    "    \"c/o\": \"care of\",\n",
    "    \"cia\": \"central intelligence agency\",\n",
    "    \"cu\": \"see you\",\n",
    "    \"cv\": \"curriculum vitae\",\n",
    "    \"dm\": \"direct message\",\n",
    "    \"&\": \"and\",\n",
    "    \"eg\": \"example\",\n",
    "    \"faq\": \"frequently asked questions\",\n",
    "    \"fb\": \"facebook\",\n",
    "    \"ftw\": \"for the win\",\n",
    "    \"fyi\": \"for your information\",\n",
    "    \"glhf\": \"good luck have fun\",\n",
    "    \"gn\": \"good night\",\n",
    "    \"gmt\": \"greenwich mean time\",\n",
    "    \"gps\": \"global positioning system\",\n",
    "    \"gr8\": \"great\",\n",
    "    \"gtfo\": \"get the fuck out\",\n",
    "    \"irl\": \"in real life\",\n",
    "    \"jk\": \"just kidding\",\n",
    "    \"l8r\": \"later\",\n",
    "    \"lol\": \"laughing out loud\",\n",
    "    \"omg\": \"oh my god\",\n",
    "    \"pov\": \"point of view\",\n",
    "    \"smh\": \"shake my head\",\n",
    "    \"tbh\": \"to be honest\",\n",
    "    \"ttyl\": \"talk to you later\",\n",
    "    \"wtf\": \"what the fuck\"\n",
    "}"
   ]
  },
  {
   "cell_type": "code",
   "execution_count": 47,
   "id": "1647948f-49e5-4312-8273-309d45e9f1cf",
   "metadata": {},
   "outputs": [],
   "source": [
    "import re\n",
    "\n",
    "def other_clean(text, slang=sample_typos_slang_dict,\n",
    "               emoticons=sample_emoticons_dict, abbr=sample_abbr_dict):\n",
    "    \"\"\"\n",
    "    Other manual text cleaning techniques\n",
    "    Needs that slang, emoticons and abbrv dictionnaries be defined\n",
    "    \"\"\"\n",
    "\n",
    "    # Adapted regex to capture emoticons preceded by spaces or punctuation\n",
    "    sample_typos_slang_pattern = re.compile(r'\\b(' + '|'.join(re.escape(key) for key in slang.keys()) + r')\\b')\n",
    "    sample_emoticons_pattern = re.compile(r'(\\s|[.?!])(' + '|'.join(re.escape(key) for key in emoticons.keys()) + r')(?!\\w)')\n",
    "    sample_abbr_pattern = re.compile(r'\\b(' + '|'.join(re.escape(key) for key in abbr.keys()) + r')\\b')\n",
    "    \n",
    "    # Replace typos, slang, and abbreviations in text\n",
    "    text = sample_typos_slang_pattern.sub(lambda x: slang[x.group()], text)\n",
    "    text = sample_emoticons_pattern.sub(lambda x: x.group(1) + emoticons[x.group(2)], text)\n",
    "    text = sample_abbr_pattern.sub(lambda x: abbr[x.group()], text)\n",
    "    \n",
    "    return text\n",
    "\n"
   ]
  },
  {
   "cell_type": "code",
   "execution_count": 48,
   "id": "59aa25e6-61c9-4034-9973-ec2480ee3c87",
   "metadata": {},
   "outputs": [
    {
     "name": "stdout",
     "output_type": "stream",
     "text": [
      "Original: was totally crushed when I found that much looked forward to plane read: Air Kisses by @zotheysay, had sold out at airport \n",
      "\u001b[34mModifié: was totally crushed when I found that much looked forward to plane read: Air Kisses by <mention>, had sold out at airport \u001b[0m\n",
      "--------------------------------------------------\n",
      "Original: About to board my 1st flight to St. Louis. Trying not to be nervous \n",
      "\u001b[34mModifié: About to board my 1st flight to St. Louis. Trying not to be nervous \u001b[0m\n",
      "--------------------------------------------------\n",
      "Original: To do list for today: go to bank, pay for plane ticket, take sister to the dentist. Atleast my bike tyres are pumped up now \n",
      "\u001b[34mModifié: To do list for today: go to bank, pay for plane ticket, take sister to the dentist. Atleast my bike tyres are pumped up now \u001b[0m\n",
      "--------------------------------------------------\n",
      "Original: @DavidArchie Hope you, your team, Cookie &amp; his crew have a safe trip home! You guys are all amazing! Hope you'll get some R&amp;R time now. \n",
      "\u001b[34mModifié: <mention> Hope you, your team, Cookie & his crew have a safe trip home! You guys are all amazing! Hope you'll get some RandR time now. \u001b[0m\n",
      "--------------------------------------------------\n",
      "Original: I haven't been to df dubb in a long time! Now i wait for my plane \n",
      "\u001b[34mModifié: I haven't been to df dubb in a long time! Now i wait for my plane \u001b[0m\n",
      "--------------------------------------------------\n",
      "Original: Sitting in the airport, waiting for the plane to arrive, so we can depart!!!   http://twitpic.com/6ebzo\n",
      "\u001b[34mModifié: Sitting in the airport, waiting for the plane to arrive, so we can depart!!  <url>\u001b[0m\n",
      "--------------------------------------------------\n",
      "Original: iTunes now mess up my play count for podcasts since the 8.2 upgrade \n",
      "\u001b[34mModifié: iTunes now mess up my play count for podcasts since the 8.2 upgrade \u001b[0m\n",
      "--------------------------------------------------\n",
      "Original: @TomFelton Safe flight home to you and Jade   XX\n",
      "\u001b[34mModifié: <mention> Safe flight home to you and Jade  XX\u001b[0m\n",
      "--------------------------------------------------\n",
      "Original: @FakerLoveJuice i know...i know....cant keep up with him...  I forget im with the clean up crew!!!  \n",
      "\u001b[34mModifié: <mention> i know..i know..cant keep up with him..  I forget im with the clean up crew!!  \u001b[0m\n",
      "--------------------------------------------------\n",
      "Original: Sooo many tweets to read... where to start. Foods ready but I must delay it for a while tonight \n",
      "\u001b[34mModifié: Soo many tweets to read.. where to start. Foods ready but I must delay it for a while tonight \u001b[0m\n",
      "--------------------------------------------------\n"
     ]
    }
   ],
   "source": [
    "# Appliquer la fonction other_clean et stocker le résultat dans une nouvelle colonne\n",
    "data_sample['cleaned_text4'] = data_sample['cleaned_text3'].apply(other_clean)\n",
    "\n",
    "display_texts(data_sample, \"text\", \"cleaned_text4\")"
   ]
  },
  {
   "cell_type": "code",
   "execution_count": 49,
   "id": "453c0acb-81e4-43c4-ab79-8df32eb8f681",
   "metadata": {},
   "outputs": [],
   "source": [
    "def remove_special_characters(text):\n",
    "    \"\"\"\n",
    "    Remove special characters and malformed emoticons from a sample string\n",
    "    Hashtags are tagged as such\n",
    "    \"\"\"\n",
    "    # Supprimer les hashtags\n",
    "    text = re.sub(r\"#\\w+\", \"<hashtag>\", text)\n",
    "    # Supprimer les @ résiduels\n",
    "    text = re.sub(r'@\\s', '', text)\n",
    "    # Supprimer les mots entourés par des \"*\"\n",
    "    text = re.sub(r'\\*\\w+\\*', '', text)\n",
    "    # Supprimer les caractères non-ASCII\n",
    "    text = re.sub(r\"[^\\x00-\\x7F]+\", \"\", text)\n",
    "    return text"
   ]
  },
  {
   "cell_type": "code",
   "execution_count": 50,
   "id": "48626eeb-1d15-4b64-877e-4a469396abf7",
   "metadata": {},
   "outputs": [
    {
     "name": "stdout",
     "output_type": "stream",
     "text": [
      "Original: was totally crushed when I found that much looked forward to plane read: Air Kisses by @zotheysay, had sold out at airport \n",
      "\u001b[34mModifié: was totally crushed when I found that much looked forward to plane read: Air Kisses by <mention>, had sold out at airport \u001b[0m\n",
      "--------------------------------------------------\n",
      "Original: About to board my 1st flight to St. Louis. Trying not to be nervous \n",
      "\u001b[34mModifié: About to board my 1st flight to St. Louis. Trying not to be nervous \u001b[0m\n",
      "--------------------------------------------------\n",
      "Original: To do list for today: go to bank, pay for plane ticket, take sister to the dentist. Atleast my bike tyres are pumped up now \n",
      "\u001b[34mModifié: To do list for today: go to bank, pay for plane ticket, take sister to the dentist. Atleast my bike tyres are pumped up now \u001b[0m\n",
      "--------------------------------------------------\n",
      "Original: @DavidArchie Hope you, your team, Cookie &amp; his crew have a safe trip home! You guys are all amazing! Hope you'll get some R&amp;R time now. \n",
      "\u001b[34mModifié: <mention> Hope you, your team, Cookie & his crew have a safe trip home! You guys are all amazing! Hope you'll get some RandR time now. \u001b[0m\n",
      "--------------------------------------------------\n",
      "Original: I haven't been to df dubb in a long time! Now i wait for my plane \n",
      "\u001b[34mModifié: I haven't been to df dubb in a long time! Now i wait for my plane \u001b[0m\n",
      "--------------------------------------------------\n",
      "Original: Sitting in the airport, waiting for the plane to arrive, so we can depart!!!   http://twitpic.com/6ebzo\n",
      "\u001b[34mModifié: Sitting in the airport, waiting for the plane to arrive, so we can depart!!  <url>\u001b[0m\n",
      "--------------------------------------------------\n",
      "Original: iTunes now mess up my play count for podcasts since the 8.2 upgrade \n",
      "\u001b[34mModifié: iTunes now mess up my play count for podcasts since the 8.2 upgrade \u001b[0m\n",
      "--------------------------------------------------\n",
      "Original: @TomFelton Safe flight home to you and Jade   XX\n",
      "\u001b[34mModifié: <mention> Safe flight home to you and Jade  XX\u001b[0m\n",
      "--------------------------------------------------\n",
      "Original: @FakerLoveJuice i know...i know....cant keep up with him...  I forget im with the clean up crew!!!  \n",
      "\u001b[34mModifié: <mention> i know..i know..cant keep up with him..  I forget im with the clean up crew!!  \u001b[0m\n",
      "--------------------------------------------------\n",
      "Original: Sooo many tweets to read... where to start. Foods ready but I must delay it for a while tonight \n",
      "\u001b[34mModifié: Soo many tweets to read.. where to start. Foods ready but I must delay it for a while tonight \u001b[0m\n",
      "--------------------------------------------------\n"
     ]
    }
   ],
   "source": [
    "# Appliquer la fonction remove_URL et stocker le résultat dans une nouvelle colonne\n",
    "data_sample['cleaned_text5'] = data_sample['cleaned_text4'].apply(remove_special_characters)\n",
    "\n",
    "display_texts(data_sample, \"text\", \"cleaned_text5\")"
   ]
  },
  {
   "cell_type": "markdown",
   "id": "aedbb5d2-1901-4147-9fc7-584f1d29b073",
   "metadata": {},
   "source": [
    "### Correction d'orthographe"
   ]
  },
  {
   "cell_type": "code",
   "execution_count": 51,
   "id": "b6626aef-6835-4286-9087-4b9540de1cf9",
   "metadata": {},
   "outputs": [],
   "source": [
    "# ! pip install language-tool-python\n",
    "# ! pip install contractions "
   ]
  },
  {
   "cell_type": "code",
   "execution_count": 52,
   "id": "f575e8bc-0a34-4184-81cf-d52bf278a892",
   "metadata": {},
   "outputs": [],
   "source": [
    "import language_tool_python\n",
    "import contractions\n",
    "from tqdm import tqdm\n",
    "\n",
    "# Initialiser l'outil LanguageTool pour l'anglais\n",
    "tool = language_tool_python.LanguageTool('en-US')\n",
    "\n",
    "# Fonction pour corriger l'orthographe incluant l'expansion des contractions\n",
    "def correct_spelling(text):\n",
    "    text = contractions.fix(text)  # Développer les contractions avec contractions.fix\n",
    "    matches = tool.check(text)\n",
    "    corrected_text = language_tool_python.utils.correct(text, matches)\n",
    "    return corrected_text"
   ]
  },
  {
   "cell_type": "code",
   "execution_count": 53,
   "id": "f1ac1a9e-4308-425d-adc8-05d1087866b9",
   "metadata": {},
   "outputs": [
    {
     "name": "stderr",
     "output_type": "stream",
     "text": [
      "Correction de texte: 100%|█████████████████████████████████████████████████████████████| 10/10 [00:03<00:00,  3.01it/s]"
     ]
    },
    {
     "name": "stdout",
     "output_type": "stream",
     "text": [
      "Original: was totally crushed when I found that much looked forward to plane read: Air Kisses by @zotheysay, had sold out at airport \n",
      "\u001b[34mModifié: Was totally crushed when I found that much looked forward to plane read: Air Kisses by <mention>, had sold out at airport \u001b[0m\n",
      "--------------------------------------------------\n",
      "Original: About to board my 1st flight to St. Louis. Trying not to be nervous \n",
      "\u001b[34mModifié: About to board my 1st flight to St. Louis. Trying not to be nervous \u001b[0m\n",
      "--------------------------------------------------\n",
      "Original: To do list for today: go to bank, pay for plane ticket, take sister to the dentist. Atleast my bike tyres are pumped up now \n",
      "\u001b[34mModifié: To-do list for today: go to bank, pay for plane ticket, take sister to the dentist. At least my bike tires are pumped up now \u001b[0m\n",
      "--------------------------------------------------\n",
      "Original: @DavidArchie Hope you, your team, Cookie &amp; his crew have a safe trip home! You guys are all amazing! Hope you'll get some R&amp;R time now. \n",
      "\u001b[34mModifié: <mention> Hope you, your team, Cookie & his crew have a safe trip home! You guys are all amazing! Hope you will get some Randy time now. \u001b[0m\n",
      "--------------------------------------------------\n",
      "Original: I haven't been to df dubb in a long time! Now i wait for my plane \n",
      "\u001b[34mModifié: I have not been to of dub in a long time! Now I wait for my plane \u001b[0m\n",
      "--------------------------------------------------\n",
      "Original: Sitting in the airport, waiting for the plane to arrive, so we can depart!!!   http://twitpic.com/6ebzo\n",
      "\u001b[34mModifié: Sitting in the airport, waiting for the plane to arrive, so we can depart!!  <url>\u001b[0m\n",
      "--------------------------------------------------\n",
      "Original: iTunes now mess up my play count for podcasts since the 8.2 upgrade \n",
      "\u001b[34mModifié: iTunes now messes up my play count for podcasts since the 8.2 upgrade \u001b[0m\n",
      "--------------------------------------------------\n",
      "Original: @TomFelton Safe flight home to you and Jade   XX\n",
      "\u001b[34mModifié: <mention> Safe flight home to you and Jade XX\u001b[0m\n",
      "--------------------------------------------------\n",
      "Original: @FakerLoveJuice i know...i know....cant keep up with him...  I forget im with the clean up crew!!!  \n",
      "\u001b[34mModifié: <mention> I know.I know.cannot keep up with him.  I forget I am with the cleanup crew!!  \u001b[0m\n",
      "--------------------------------------------------\n",
      "Original: Sooo many tweets to read... where to start. Foods ready but I must delay it for a while tonight \n",
      "\u001b[34mModifié: So many tweets to read. Where to start. Foods ready, but I must delay it for a while tonight \u001b[0m\n",
      "--------------------------------------------------\n"
     ]
    },
    {
     "name": "stderr",
     "output_type": "stream",
     "text": [
      "\n"
     ]
    }
   ],
   "source": [
    "# Appliquer la fonction avec tqdm pour suivre le temps de calcul\n",
    "tqdm.pandas(desc=\"Correction de texte\")\n",
    "data_sample['cleaned_text6'] = data_sample['cleaned_text5'].progress_apply(correct_spelling)\n",
    "\n",
    "display_texts(data_sample, \"text\", \"cleaned_text6\")"
   ]
  },
  {
   "cell_type": "code",
   "execution_count": 54,
   "id": "0bc1d507-490c-4cd7-8cb0-d161fb12b328",
   "metadata": {},
   "outputs": [
    {
     "name": "stdout",
     "output_type": "stream",
     "text": [
      "Nombre total de tokens : 212\n"
     ]
    },
    {
     "data": {
      "text/plain": [
       "212"
      ]
     },
     "execution_count": 54,
     "metadata": {},
     "output_type": "execute_result"
    }
   ],
   "source": [
    "count_total_tokens(data_sample, \"cleaned_text6\")"
   ]
  },
  {
   "cell_type": "markdown",
   "id": "0c4aa04f-cd35-48a3-9307-72058da8ffb5",
   "metadata": {},
   "source": [
    "Le nombre de tokens n'a que peu diminué, cette première étape a servi à rapprocher le langage \"tweets\" de la langue anglaise \"normale\"."
   ]
  },
  {
   "cell_type": "markdown",
   "id": "5d7e8e49-c732-4704-b12f-b8f3c76fa75b",
   "metadata": {},
   "source": [
    "#### Regroupement des fonctions de traitement de texte manuel"
   ]
  },
  {
   "cell_type": "code",
   "execution_count": 55,
   "id": "26d0fc69-876e-44f7-9b97-ca3af1859b59",
   "metadata": {},
   "outputs": [],
   "source": [
    "def clean_text(text, sample_typos_slang=sample_typos_slang_dict,\n",
    "              sample_emoticons=sample_emoticons_dict,\n",
    "              sample_abbr=sample_abbr_dict):\n",
    "    \"\"\"\n",
    "    Clean text by decoding html, removing URLs, mentions, special characters, and other manual cleaning techniques\n",
    "    Needs all dictionnaries embedded in used functions be defined and some specific packages to be used (contractions, language_tool)\n",
    "    \"\"\"\n",
    "    # Decode html\n",
    "    text = decode_html(text)\n",
    "    \n",
    "    # Remove URLs\n",
    "    text = remove_URL(text)\n",
    "    \n",
    "    # Remove mentions\n",
    "    text = remove_mentions(text)\n",
    "\n",
    "    # Reduce repetitions\n",
    "    text = reduce_repetitions(text)\n",
    "    \n",
    "    # Other manual clean\n",
    "    text = other_clean(text)\n",
    "    \n",
    "    # Remove special characters and malformed emoticons\n",
    "    text = remove_special_characters(text)\n",
    "    \n",
    "    # Correct spelling\n",
    "    text = correct_spelling(text)\n",
    "    \n",
    "    return text\n"
   ]
  },
  {
   "cell_type": "markdown",
   "id": "78c950c5-3552-4a30-b7a2-b9e59182e85d",
   "metadata": {},
   "source": [
    "#### Application des fonctions sur l'ensemble du dataset"
   ]
  },
  {
   "cell_type": "code",
   "execution_count": 56,
   "id": "9502ae40-de33-4bb2-8f22-1ccffdd3c1be",
   "metadata": {},
   "outputs": [
    {
     "name": "stderr",
     "output_type": "stream",
     "text": [
      "Cleaning Text: 100%|███████████████████████████████████████████████████████████████| 6473/6473 [03:40<00:00, 29.34it/s]\n"
     ]
    }
   ],
   "source": [
    "from tqdm import tqdm\n",
    "\n",
    "# Appliquer la fonction avec suivi de progression\n",
    "tqdm.pandas(desc=\"Cleaning Text\")\n",
    "data[\"cleaned_text\"] = data[\"text\"].progress_apply(clean_text)"
   ]
  },
  {
   "cell_type": "code",
   "execution_count": 57,
   "id": "8717db50-3018-48be-b50f-aac6c02855bd",
   "metadata": {},
   "outputs": [
    {
     "data": {
      "text/html": [
       "<div>\n",
       "<style scoped>\n",
       "    .dataframe tbody tr th:only-of-type {\n",
       "        vertical-align: middle;\n",
       "    }\n",
       "\n",
       "    .dataframe tbody tr th {\n",
       "        vertical-align: top;\n",
       "    }\n",
       "\n",
       "    .dataframe thead th {\n",
       "        text-align: right;\n",
       "    }\n",
       "</style>\n",
       "<table border=\"1\" class=\"dataframe\">\n",
       "  <thead>\n",
       "    <tr style=\"text-align: right;\">\n",
       "      <th></th>\n",
       "      <th>text</th>\n",
       "      <th>cleaned_text</th>\n",
       "    </tr>\n",
       "  </thead>\n",
       "  <tbody>\n",
       "    <tr>\n",
       "      <th>364415</th>\n",
       "      <td>Bought a book to read on the plane. &amp;quot;Smashed&amp;quot;. So far, it sounds an awful lot like my childhood. I may not be able to get thru it.</td>\n",
       "      <td>Bought a book to read on the plane. \"Smashed\". So far, it sounds an awful lot like my childhood. I may not be able to get through it.</td>\n",
       "    </tr>\n",
       "    <tr>\n",
       "      <th>61776</th>\n",
       "      <td>Waiting at the airport with the hubby this morning. 1 hour till his flight leaves</td>\n",
       "      <td>Waiting at the airport with the hubby this morning. 1 hour till his flight leaves</td>\n",
       "    </tr>\n",
       "    <tr>\n",
       "      <th>307389</th>\n",
       "      <td>OH WOW FAIL. My thoughts are with all those of the Air France flight and their families</td>\n",
       "      <td>OH, WOW FAIL. My thoughts are with all those of the Air France flight and their families</td>\n",
       "    </tr>\n",
       "    <tr>\n",
       "      <th>764377</th>\n",
       "      <td>Off to the airport!  Dallas here I come!</td>\n",
       "      <td>Off to the airport!  Dallas here I come!</td>\n",
       "    </tr>\n",
       "    <tr>\n",
       "      <th>337691</th>\n",
       "      <td>Broke my iPhone tonight from slipping pedals landing on the seat from a tailwhip. my phone was in my back pocket.  iPhones are shitty!!!!!</td>\n",
       "      <td>Broke my iPhone tonight from slipping pedals landing on the seat from a tail whip. My phone was in my back pocket.  iPhones are shitty!!</td>\n",
       "    </tr>\n",
       "    <tr>\n",
       "      <th>...</th>\n",
       "      <td>...</td>\n",
       "      <td>...</td>\n",
       "    </tr>\n",
       "    <tr>\n",
       "      <th>1069056</th>\n",
       "      <td>I'm chillen at the airport waiting for my flight to San Francisco....  I'm excited</td>\n",
       "      <td>I am chilled at the airport waiting for my flight to San Francisco.  I am excited</td>\n",
       "    </tr>\n",
       "    <tr>\n",
       "      <th>1077861</th>\n",
       "      <td>Yay. Getting on the plane.  Its about time!</td>\n",
       "      <td>Yay. Getting on the plane.  It's about time!</td>\n",
       "    </tr>\n",
       "    <tr>\n",
       "      <th>1115041</th>\n",
       "      <td>On the plane now. I do quite like Easyjet. They get a bad ride cuz they are budget, but I find them to be pretty proffessional</td>\n",
       "      <td>On the plane now. I do quite like EasyJet. They get a bad ride because they are budget, but I find them to be pretty professional</td>\n",
       "    </tr>\n",
       "    <tr>\n",
       "      <th>1011270</th>\n",
       "      <td>at the airport waiting to go on my Indy 500 vacation...whoohoo!</td>\n",
       "      <td>At the airport waiting to go on my Indy 500 vacation.hoodoo!</td>\n",
       "    </tr>\n",
       "    <tr>\n",
       "      <th>1570686</th>\n",
       "      <td>On the plane (Lufthansa): &amp;quot;Boarding is completed.&amp;quot; und das ist alles. Now fly!! Gotta love the Germans.</td>\n",
       "      <td>On the plane (Lufthansa): \"Boarding is completed.\" UND was is allies. Now fly!! Got To love the Germans.</td>\n",
       "    </tr>\n",
       "  </tbody>\n",
       "</table>\n",
       "<p>6473 rows × 2 columns</p>\n",
       "</div>"
      ],
      "text/plain": [
       "                                                                                                                                                  text  \\\n",
       "364415   Bought a book to read on the plane. &quot;Smashed&quot;. So far, it sounds an awful lot like my childhood. I may not be able to get thru it.    \n",
       "61776                                                               Waiting at the airport with the hubby this morning. 1 hour till his flight leaves    \n",
       "307389                                                        OH WOW FAIL. My thoughts are with all those of the Air France flight and their families    \n",
       "764377                                                                                                        Off to the airport!  Dallas here I come!   \n",
       "337691      Broke my iPhone tonight from slipping pedals landing on the seat from a tailwhip. my phone was in my back pocket.  iPhones are shitty!!!!!   \n",
       "...                                                                                                                                                ...   \n",
       "1069056                                                           I'm chillen at the airport waiting for my flight to San Francisco....  I'm excited     \n",
       "1077861                                                                                                    Yay. Getting on the plane.  Its about time!   \n",
       "1115041                On the plane now. I do quite like Easyjet. They get a bad ride cuz they are budget, but I find them to be pretty proffessional    \n",
       "1011270                                                                               at the airport waiting to go on my Indy 500 vacation...whoohoo!    \n",
       "1570686                             On the plane (Lufthansa): &quot;Boarding is completed.&quot; und das ist alles. Now fly!! Gotta love the Germans.    \n",
       "\n",
       "                                                                                                                                     cleaned_text  \n",
       "364415     Bought a book to read on the plane. \"Smashed\". So far, it sounds an awful lot like my childhood. I may not be able to get through it.   \n",
       "61776                                                          Waiting at the airport with the hubby this morning. 1 hour till his flight leaves   \n",
       "307389                                                  OH, WOW FAIL. My thoughts are with all those of the Air France flight and their families   \n",
       "764377                                                                                                   Off to the airport!  Dallas here I come!  \n",
       "337691   Broke my iPhone tonight from slipping pedals landing on the seat from a tail whip. My phone was in my back pocket.  iPhones are shitty!!  \n",
       "...                                                                                                                                           ...  \n",
       "1069056                                                        I am chilled at the airport waiting for my flight to San Francisco.  I am excited   \n",
       "1077861                                                                                              Yay. Getting on the plane.  It's about time!  \n",
       "1115041        On the plane now. I do quite like EasyJet. They get a bad ride because they are budget, but I find them to be pretty professional   \n",
       "1011270                                                                             At the airport waiting to go on my Indy 500 vacation.hoodoo!   \n",
       "1570686                                 On the plane (Lufthansa): \"Boarding is completed.\" UND was is allies. Now fly!! Got To love the Germans.   \n",
       "\n",
       "[6473 rows x 2 columns]"
      ]
     },
     "metadata": {},
     "output_type": "display_data"
    }
   ],
   "source": [
    "display(data[['text', 'cleaned_text']])"
   ]
  },
  {
   "cell_type": "code",
   "execution_count": 58,
   "id": "1f3cb88e-2922-47c1-aa71-5c02db456892",
   "metadata": {},
   "outputs": [],
   "source": [
    "# Sauvegarder le DataFrame data\n",
    "data.to_csv('./data/data_cleaned.csv', index=True)\n",
    "import pandas as pd\n",
    "# data = pd.read_csv('./data/data_cleaned.csv', index_col=0)"
   ]
  },
  {
   "cell_type": "markdown",
   "id": "e5458b8b-33d0-418f-b5fa-57014dd2bf32",
   "metadata": {},
   "source": [
    "La colonne \"cleaned_text\" est le résultat d'un traitement fin, souvent manuel, adapté à la forme d'expression des tweets."
   ]
  },
  {
   "cell_type": "markdown",
   "id": "aa74d418-201f-42ed-a152-468cbfb42c3f",
   "metadata": {},
   "source": [
    "### Tokenisation et normalisation du vocabulaire"
   ]
  },
  {
   "cell_type": "markdown",
   "id": "a66434c4-2736-4d34-951f-271b2f665123",
   "metadata": {},
   "source": [
    "### Tokenisation"
   ]
  },
  {
   "cell_type": "code",
   "execution_count": 59,
   "id": "9b05b399-87e4-4d4e-ad3d-c98b84948f56",
   "metadata": {},
   "outputs": [],
   "source": [
    "# Tokenizing the tweet base texts.\n",
    "from nltk.tokenize import word_tokenize"
   ]
  },
  {
   "cell_type": "code",
   "execution_count": 60,
   "id": "7255e426-6dff-4035-a806-89c345e24c76",
   "metadata": {},
   "outputs": [],
   "source": [
    "import re\n",
    "import pandas as pd\n",
    "import nltk\n",
    "from nltk.tokenize import word_tokenize\n",
    "\n",
    "def protect_balises(text):\n",
    "    \"\"\"\n",
    "    Remplacer les séquences entre balises < > par des placeholders temporaires\n",
    "    pour protéger ces mots avant tokenisation.\n",
    "    \"\"\"\n",
    "    # Trouver toutes les séquences entre < >\n",
    "    balises = re.findall(r'<.*?>', text)\n",
    "    \n",
    "    # Remplacer chaque séquence par un placeholder unique [BALISE_X]\n",
    "    for i, balise in enumerate(balises):\n",
    "        text = text.replace(balise, f' BALISE_{i} ')\n",
    "    \n",
    "    return text, balises\n",
    "\n",
    "def restore_balises(tokens, balises):\n",
    "    \"\"\"\n",
    "    Restaurer les mots protégés par des placeholders après la tokenisation.\n",
    "    \"\"\"\n",
    "    # Remplacer les placeholders dans la liste de tokens par les balises originales\n",
    "    for i, token in enumerate(tokens):\n",
    "        if token.startswith(\"BALISE_\"):\n",
    "            # Extraire l'index et restaurer la balise correspondante\n",
    "            index = int(token.split('_')[1])\n",
    "            tokens[i] = balises[index]\n",
    "    \n",
    "    return tokens\n",
    "\n",
    "def tokenize_and_preserve(text):\n",
    "    \"\"\"\n",
    "    Tokeniser le texte tout en préservant les mots entre balises < >.\n",
    "    \"\"\"\n",
    "    # Protéger les balises et obtenir les placeholders\n",
    "    protected_text, balises = protect_balises(text)\n",
    "    \n",
    "    # Tokenisation classique avec nltk.word_tokenize\n",
    "    tokens = word_tokenize(protected_text)\n",
    "    \n",
    "    # Restaurer les balises après la tokenisation\n",
    "    final_tokens = restore_balises(tokens, balises)\n",
    "    \n",
    "    return final_tokens\n",
    "\n",
    "# Appliquer la fonction de tokenisation à la colonne 'cleaned_text'\n",
    "data['tokenized'] = data['cleaned_text'].apply(tokenize_and_preserve)"
   ]
  },
  {
   "cell_type": "code",
   "execution_count": 61,
   "id": "763d53e9-f00e-4f96-ab0b-a44e94f66262",
   "metadata": {},
   "outputs": [
    {
     "data": {
      "text/html": [
       "<div>\n",
       "<style scoped>\n",
       "    .dataframe tbody tr th:only-of-type {\n",
       "        vertical-align: middle;\n",
       "    }\n",
       "\n",
       "    .dataframe tbody tr th {\n",
       "        vertical-align: top;\n",
       "    }\n",
       "\n",
       "    .dataframe thead th {\n",
       "        text-align: right;\n",
       "    }\n",
       "</style>\n",
       "<table border=\"1\" class=\"dataframe\">\n",
       "  <thead>\n",
       "    <tr style=\"text-align: right;\">\n",
       "      <th></th>\n",
       "      <th>cleaned_text</th>\n",
       "      <th>tokenized</th>\n",
       "    </tr>\n",
       "  </thead>\n",
       "  <tbody>\n",
       "    <tr>\n",
       "      <th>1563199</th>\n",
       "      <td>My seat on my first plane better be next to &lt;mention&gt;</td>\n",
       "      <td>[My, seat, on, my, first, plane, better, be, next, to, &lt;mention&gt;]</td>\n",
       "    </tr>\n",
       "    <tr>\n",
       "      <th>1096069</th>\n",
       "      <td>Finally, the locksmith came and opened the gate - &lt;url&gt;</td>\n",
       "      <td>[Finally, ,, the, locksmith, came, and, opened, the, gate, -, &lt;url&gt;]</td>\n",
       "    </tr>\n",
       "    <tr>\n",
       "      <th>631103</th>\n",
       "      <td>&lt;mention&gt; It is in rain delay. They are about to call it, though. It is still pouring there.</td>\n",
       "      <td>[&lt;mention&gt;, It, is, in, rain, delay, ., They, are, about, to, call, it, ,, though, ., It, is, still, pouring, there, .]</td>\n",
       "    </tr>\n",
       "    <tr>\n",
       "      <th>255373</th>\n",
       "      <td>&lt;mention&gt; Dammit! My flight is at 3pm will it be on YouTube tomorrow morning??</td>\n",
       "      <td>[&lt;mention&gt;, Dammit, !, My, flight, is, at, 3pm, will, it, be, on, YouTube, tomorrow, morning, ?, ?]</td>\n",
       "    </tr>\n",
       "    <tr>\n",
       "      <th>413308</th>\n",
       "      <td>On my flight to la. I hate leaving my boo</td>\n",
       "      <td>[On, my, flight, to, la, ., I, hate, leaving, my, boo]</td>\n",
       "    </tr>\n",
       "    <tr>\n",
       "      <th>252374</th>\n",
       "      <td>Taking my sis to the airport</td>\n",
       "      <td>[Taking, my, sis, to, the, airport]</td>\n",
       "    </tr>\n",
       "    <tr>\n",
       "      <th>276904</th>\n",
       "      <td>The poor people in the Air France plane</td>\n",
       "      <td>[The, poor, people, in, the, Air, France, plane]</td>\n",
       "    </tr>\n",
       "    <tr>\n",
       "      <th>951126</th>\n",
       "      <td>&lt;mention&gt; haha, yeah,I was going for that....let us GOO!! Let us just take a plane &amp; go!</td>\n",
       "      <td>[&lt;mention&gt;, haha, ,, yeah, ,, I, was, going, for, that, ...., let, us, GOO, !, !, Let, us, just, take, a, plane, &amp;, go, !]</td>\n",
       "    </tr>\n",
       "    <tr>\n",
       "      <th>335069</th>\n",
       "      <td>&lt;mention&gt; I wanted to see Earth2100 too! But I was on a plane, and we do not have DVR</td>\n",
       "      <td>[&lt;mention&gt;, I, wanted, to, see, Earth2100, too, !, But, I, was, on, a, plane, ,, and, we, do, not, have, DVR]</td>\n",
       "    </tr>\n",
       "    <tr>\n",
       "      <th>843217</th>\n",
       "      <td>&lt;mention&gt; I am about to go grab a book for the next flight. What is the one you recommended?</td>\n",
       "      <td>[&lt;mention&gt;, I, am, about, to, go, grab, a, book, for, the, next, flight, ., What, is, the, one, you, recommended, ?]</td>\n",
       "    </tr>\n",
       "  </tbody>\n",
       "</table>\n",
       "</div>"
      ],
      "text/plain": [
       "                                                                                          cleaned_text  \\\n",
       "1563199                                         My seat on my first plane better be next to <mention>    \n",
       "1096069                                        Finally, the locksmith came and opened the gate - <url>   \n",
       "631103   <mention> It is in rain delay. They are about to call it, though. It is still pouring there.    \n",
       "255373                  <mention> Dammit! My flight is at 3pm will it be on YouTube tomorrow morning??   \n",
       "413308                                                      On my flight to la. I hate leaving my boo    \n",
       "252374                                                                   Taking my sis to the airport    \n",
       "276904                                                        The poor people in the Air France plane    \n",
       "951126       <mention> haha, yeah,I was going for that....let us GOO!! Let us just take a plane & go!    \n",
       "335069          <mention> I wanted to see Earth2100 too! But I was on a plane, and we do not have DVR    \n",
       "843217   <mention> I am about to go grab a book for the next flight. What is the one you recommended?    \n",
       "\n",
       "                                                                                                                          tokenized  \n",
       "1563199                                                           [My, seat, on, my, first, plane, better, be, next, to, <mention>]  \n",
       "1096069                                                        [Finally, ,, the, locksmith, came, and, opened, the, gate, -, <url>]  \n",
       "631103      [<mention>, It, is, in, rain, delay, ., They, are, about, to, call, it, ,, though, ., It, is, still, pouring, there, .]  \n",
       "255373                          [<mention>, Dammit, !, My, flight, is, at, 3pm, will, it, be, on, YouTube, tomorrow, morning, ?, ?]  \n",
       "413308                                                                       [On, my, flight, to, la, ., I, hate, leaving, my, boo]  \n",
       "252374                                                                                          [Taking, my, sis, to, the, airport]  \n",
       "276904                                                                             [The, poor, people, in, the, Air, France, plane]  \n",
       "951126   [<mention>, haha, ,, yeah, ,, I, was, going, for, that, ...., let, us, GOO, !, !, Let, us, just, take, a, plane, &, go, !]  \n",
       "335069                [<mention>, I, wanted, to, see, Earth2100, too, !, But, I, was, on, a, plane, ,, and, we, do, not, have, DVR]  \n",
       "843217         [<mention>, I, am, about, to, go, grab, a, book, for, the, next, flight, ., What, is, the, one, you, recommended, ?]  "
      ]
     },
     "metadata": {},
     "output_type": "display_data"
    }
   ],
   "source": [
    "display(data[['cleaned_text', 'tokenized']].sample(10))"
   ]
  },
  {
   "cell_type": "code",
   "execution_count": 62,
   "id": "d54cc76d-559e-4f1a-be4d-4054cc9271aa",
   "metadata": {},
   "outputs": [
    {
     "name": "stdout",
     "output_type": "stream",
     "text": [
      "Nombre total de tokens dans le vocabulaire : 12025\n"
     ]
    }
   ],
   "source": [
    "# Extraire les tokens uniques de la colonne 'tokenized'\n",
    "tokens_uniques = set(token for tokens in data[\"tokenized\"] for token in tokens)\n",
    "\n",
    "# Afficher le nombre total de tokens uniques\n",
    "nombre_total_tokens = len(tokens_uniques)\n",
    "print(f\"Nombre total de tokens dans le vocabulaire : {nombre_total_tokens}\")"
   ]
  },
  {
   "cell_type": "markdown",
   "id": "2e70fe19-b248-45d9-ae71-aad5ec35b51e",
   "metadata": {},
   "source": [
    "### Réduction du vocabulaire"
   ]
  },
  {
   "cell_type": "code",
   "execution_count": 63,
   "id": "65ed1758-e067-49f1-a366-7ea6c157bb47",
   "metadata": {},
   "outputs": [],
   "source": [
    "# nltk.download('stopwords')\n",
    "# nltk.download('wordnet')\n",
    "# nltk.download('omw-1.4')"
   ]
  },
  {
   "cell_type": "code",
   "execution_count": 64,
   "id": "c26241ae-5911-4a25-89e5-4706533cb547",
   "metadata": {},
   "outputs": [],
   "source": [
    "import re\n",
    "import pandas as pd\n",
    "import nltk\n",
    "from nltk.corpus import stopwords\n",
    "from nltk.stem import WordNetLemmatizer\n",
    "\n",
    "# Initialiser le lemmatizer et les stopwords\n",
    "lemmatizer = WordNetLemmatizer()\n",
    "stop_words = set(stopwords.words('english'))\n",
    "\n",
    "def preprocess_tokens(tokens):\n",
    "    # Transformer en minuscule, supprimer les stopwords et effectuer la lemmatisation\n",
    "    tokens = [lemmatizer.lemmatize(token.lower()) for token in tokens if token.lower() not in stop_words]\n",
    "    text = ' '.join(tokens)\n",
    "    \n",
    "    # Supprimer les ponctuations spécifiques\n",
    "    text = re.sub(r'(?<!\\.)\\.(?!\\.)', '', text)  # Supprime les points simples mais pas les doubles points\n",
    "    text = re.sub(r',', '', text)  # Supprime les virgules\n",
    "    text = re.sub(r'/', '', text)  # Supprime les slashs\n",
    "    text = re.sub(r\"\\(\", '', text)  # Supprime les parenthèses ouvrantes\n",
    "    text = re.sub(r\"\\)\", '', text)  # Supprime les parenthèses fermantes\n",
    "    text = re.sub(r':', '', text)  # Supprime les :\n",
    "    text = re.sub(r'\\+', '', text)  # Supprime les +\n",
    "    text = re.sub(r'\\-', '', text)  # Supprime les -\n",
    "    text = re.sub(r'`', '', text)  # Supprime les \n",
    "    text = re.sub(r\"''\", '', text) # Supprime les double guillemets\n",
    "    \n",
    "    \n",
    "    return text\n",
    "\n",
    "# Appliquer la fonction à la colonne 'tokenized' et créer une nouvelle colonne 'preprocessed_text'\n",
    "data['preprocessed_text'] = data['tokenized'].apply(preprocess_tokens)"
   ]
  },
  {
   "cell_type": "code",
   "execution_count": 65,
   "id": "9fe3e26e-b447-4a64-82a3-d8dae0156f67",
   "metadata": {},
   "outputs": [
    {
     "name": "stdout",
     "output_type": "stream",
     "text": [
      "Nombre total de tokens dans le vocabulaire : 8929\n"
     ]
    }
   ],
   "source": [
    "# Tokeniser les textes dans la colonne 'preprocessed_text'\n",
    "data['preprocessed_tokenized'] = data['preprocessed_text'].apply(tokenize_and_preserve)\n",
    "\n",
    "# Extraire les tokens uniques de la colonne 'preprocessed_text'\n",
    "tokens_uniques_final = set(token for tokens in data[\"preprocessed_tokenized\"] for token in tokens)\n",
    "\n",
    "# Afficher le nombre total de tokens uniques\n",
    "nombre_total_tokens_final = len(tokens_uniques_final)\n",
    "print(f\"Nombre total de tokens dans le vocabulaire : {nombre_total_tokens_final}\")"
   ]
  },
  {
   "cell_type": "code",
   "execution_count": 66,
   "id": "38cdc8fd-4d06-451b-9de6-12027302b7a9",
   "metadata": {
    "scrolled": true
   },
   "outputs": [
    {
     "data": {
      "text/html": [
       "<div>\n",
       "<style scoped>\n",
       "    .dataframe tbody tr th:only-of-type {\n",
       "        vertical-align: middle;\n",
       "    }\n",
       "\n",
       "    .dataframe tbody tr th {\n",
       "        vertical-align: top;\n",
       "    }\n",
       "\n",
       "    .dataframe thead th {\n",
       "        text-align: right;\n",
       "    }\n",
       "</style>\n",
       "<table border=\"1\" class=\"dataframe\">\n",
       "  <thead>\n",
       "    <tr style=\"text-align: right;\">\n",
       "      <th></th>\n",
       "      <th>text</th>\n",
       "      <th>cleaned_text</th>\n",
       "      <th>preprocessed_text</th>\n",
       "      <th>preprocessed_tokenized</th>\n",
       "    </tr>\n",
       "  </thead>\n",
       "  <tbody>\n",
       "    <tr>\n",
       "      <th>1359468</th>\n",
       "      <td>@GeertVeneklaas He, you the rocksteady crew  Wel een idee idd.</td>\n",
       "      <td>&lt;mention&gt; He, you are the rock steady crew We been idea did.</td>\n",
       "      <td>&lt;mention&gt;  rock steady crew idea</td>\n",
       "      <td>[&lt;mention&gt;, rock, steady, crew, idea]</td>\n",
       "    </tr>\n",
       "    <tr>\n",
       "      <th>180204</th>\n",
       "      <td>@Impala_Guy I didnï¿½t want to go like a bull at a gate-iï¿½m always a little uncertain when it comes to this topic</td>\n",
       "      <td>&lt;mention&gt; I did not want to go like a bull at a gate-i am always a little uncertain when it comes to this topic</td>\n",
       "      <td>&lt;mention&gt; want go like bull gatei always little uncertain come topic</td>\n",
       "      <td>[&lt;mention&gt;, want, go, like, bull, gatei, always, little, uncertain, come, topic]</td>\n",
       "    </tr>\n",
       "    <tr>\n",
       "      <th>1057856</th>\n",
       "      <td>On my way to the airport to pick up my daddy... wish I was flying somewhere...its definitely long overdue!</td>\n",
       "      <td>On my way to the airport to pick up my daddy. Wish I was flying somewhere.its definitely long overdue!</td>\n",
       "      <td>way airport pick daddy  wish flying somewhereits definitely long overdue !</td>\n",
       "      <td>[way, airport, pick, daddy, wish, flying, somewhereits, definitely, long, overdue, !]</td>\n",
       "    </tr>\n",
       "    <tr>\n",
       "      <th>300095</th>\n",
       "      <td>Passengers on Air France Flight 447 sent text messages to family before plane disappeared http://tinyurl.com/nuyuuq. Horrible way to die.</td>\n",
       "      <td>Passengers on Air France Flight 447 sent text messages to family before plane disappeared &lt;url&gt; Horrible way to die.</td>\n",
       "      <td>passenger air france flight 447 sent text message family plane disappeared &lt;url&gt; horrible way die</td>\n",
       "      <td>[passenger, air, france, flight, 447, sent, text, message, family, plane, disappeared, &lt;url&gt;, horrible, way, die]</td>\n",
       "    </tr>\n",
       "    <tr>\n",
       "      <th>857984</th>\n",
       "      <td>Dubai's new airport, expected to be the world's largest, delayed until June 2010. Sensible  http://viigo.im/lTR</td>\n",
       "      <td>Dubai's new airport, expected to be the world's largest, delayed until June 2010. Sensible &lt;url&gt;</td>\n",
       "      <td>dubai 's new airport  expected world 's largest  delayed june 2010  sensible &lt;url&gt;</td>\n",
       "      <td>[dubai, 's, new, airport, expected, world, 's, largest, delayed, june, 2010, sensible, &lt;url&gt;]</td>\n",
       "    </tr>\n",
       "    <tr>\n",
       "      <th>1471737</th>\n",
       "      <td>@dannygokey Have a safe flight to LA Danny. Can't wait to see you and the other Idols on tour.</td>\n",
       "      <td>&lt;mention&gt; Have a safe flight to LA Danny. Cannot wait to see you and the other Idols on tour.</td>\n",
       "      <td>&lt;mention&gt; safe flight la danny  wait see idol tour</td>\n",
       "      <td>[&lt;mention&gt;, safe, flight, la, danny, wait, see, idol, tour]</td>\n",
       "    </tr>\n",
       "    <tr>\n",
       "      <th>143351</th>\n",
       "      <td>6 hrs in heathrow airport - only another 3.5 to go</td>\n",
       "      <td>6 hrs in Heathrow Airport - only another 3.5 to go</td>\n",
       "      <td>6 hr heathrow airport  another 35 go</td>\n",
       "      <td>[6, hr, heathrow, airport, another, 35, go]</td>\n",
       "    </tr>\n",
       "    <tr>\n",
       "      <th>438895</th>\n",
       "      <td>not impressed with @justjudz and @Lopsi - the hungover crew ate all my Pringles. greedy pups.</td>\n",
       "      <td>Not impressed with &lt;mention&gt; and &lt;mention&gt; - the hungover crew ate all my Pringles. Greedy pups.</td>\n",
       "      <td>impressed &lt;mention&gt; &lt;mention&gt;  hungover crew ate pringles  greedy pup</td>\n",
       "      <td>[impressed, &lt;mention&gt;, &lt;mention&gt;, hungover, crew, ate, pringles, greedy, pup]</td>\n",
       "    </tr>\n",
       "    <tr>\n",
       "      <th>784447</th>\n",
       "      <td>@denyardhy hey boo, have a safe flight. Sorry couldn't accompany you.</td>\n",
       "      <td>&lt;mention&gt; hey boo, have a safe flight. Sorry could not accompany you.</td>\n",
       "      <td>&lt;mention&gt; hey boo  safe flight  sorry could accompany</td>\n",
       "      <td>[&lt;mention&gt;, hey, boo, safe, flight, sorry, could, accompany]</td>\n",
       "    </tr>\n",
       "    <tr>\n",
       "      <th>1330381</th>\n",
       "      <td>Wondering which train to take to Dusseldorf Airport for my flight to Jo'Burg!</td>\n",
       "      <td>Wondering which train to take to Düsseldorf Airport for my flight to Jo'Burg!</td>\n",
       "      <td>wondering train take düsseldorf airport flight jo'burg !</td>\n",
       "      <td>[wondering, train, take, düsseldorf, airport, flight, jo'burg, !]</td>\n",
       "    </tr>\n",
       "  </tbody>\n",
       "</table>\n",
       "</div>"
      ],
      "text/plain": [
       "                                                                                                                                               text  \\\n",
       "1359468                                                                              @GeertVeneklaas He, you the rocksteady crew  Wel een idee idd.   \n",
       "180204                         @Impala_Guy I didnï¿½t want to go like a bull at a gate-iï¿½m always a little uncertain when it comes to this topic    \n",
       "1057856                                 On my way to the airport to pick up my daddy... wish I was flying somewhere...its definitely long overdue!    \n",
       "300095   Passengers on Air France Flight 447 sent text messages to family before plane disappeared http://tinyurl.com/nuyuuq. Horrible way to die.    \n",
       "857984                              Dubai's new airport, expected to be the world's largest, delayed until June 2010. Sensible  http://viigo.im/lTR   \n",
       "1471737                                             @dannygokey Have a safe flight to LA Danny. Can't wait to see you and the other Idols on tour.    \n",
       "143351                                                                                          6 hrs in heathrow airport - only another 3.5 to go    \n",
       "438895                                               not impressed with @justjudz and @Lopsi - the hungover crew ate all my Pringles. greedy pups.    \n",
       "784447                                                                       @denyardhy hey boo, have a safe flight. Sorry couldn't accompany you.    \n",
       "1330381                                                              Wondering which train to take to Dusseldorf Airport for my flight to Jo'Burg!    \n",
       "\n",
       "                                                                                                                  cleaned_text  \\\n",
       "1359468                                                           <mention> He, you are the rock steady crew We been idea did.   \n",
       "180204        <mention> I did not want to go like a bull at a gate-i am always a little uncertain when it comes to this topic    \n",
       "1057856                On my way to the airport to pick up my daddy. Wish I was flying somewhere.its definitely long overdue!    \n",
       "300095   Passengers on Air France Flight 447 sent text messages to family before plane disappeared <url> Horrible way to die.    \n",
       "857984                        Dubai's new airport, expected to be the world's largest, delayed until June 2010. Sensible <url>   \n",
       "1471737                         <mention> Have a safe flight to LA Danny. Cannot wait to see you and the other Idols on tour.    \n",
       "143351                                                                     6 hrs in Heathrow Airport - only another 3.5 to go    \n",
       "438895                       Not impressed with <mention> and <mention> - the hungover crew ate all my Pringles. Greedy pups.    \n",
       "784447                                                  <mention> hey boo, have a safe flight. Sorry could not accompany you.    \n",
       "1330381                                         Wondering which train to take to Düsseldorf Airport for my flight to Jo'Burg!    \n",
       "\n",
       "                                                                                          preprocessed_text  \\\n",
       "1359468                                                                   <mention>  rock steady crew idea    \n",
       "180204                                 <mention> want go like bull gatei always little uncertain come topic   \n",
       "1057856                          way airport pick daddy  wish flying somewhereits definitely long overdue !   \n",
       "300095   passenger air france flight 447 sent text message family plane disappeared <url> horrible way die    \n",
       "857984                   dubai 's new airport  expected world 's largest  delayed june 2010  sensible <url>   \n",
       "1471737                                                 <mention> safe flight la danny  wait see idol tour    \n",
       "143351                                                                 6 hr heathrow airport  another 35 go   \n",
       "438895                               impressed <mention> <mention>  hungover crew ate pringles  greedy pup    \n",
       "784447                                               <mention> hey boo  safe flight  sorry could accompany    \n",
       "1330381                                            wondering train take düsseldorf airport flight jo'burg !   \n",
       "\n",
       "                                                                                                    preprocessed_tokenized  \n",
       "1359468                                                                              [<mention>, rock, steady, crew, idea]  \n",
       "180204                                    [<mention>, want, go, like, bull, gatei, always, little, uncertain, come, topic]  \n",
       "1057856                              [way, airport, pick, daddy, wish, flying, somewhereits, definitely, long, overdue, !]  \n",
       "300095   [passenger, air, france, flight, 447, sent, text, message, family, plane, disappeared, <url>, horrible, way, die]  \n",
       "857984                       [dubai, 's, new, airport, expected, world, 's, largest, delayed, june, 2010, sensible, <url>]  \n",
       "1471737                                                        [<mention>, safe, flight, la, danny, wait, see, idol, tour]  \n",
       "143351                                                                         [6, hr, heathrow, airport, another, 35, go]  \n",
       "438895                                       [impressed, <mention>, <mention>, hungover, crew, ate, pringles, greedy, pup]  \n",
       "784447                                                        [<mention>, hey, boo, safe, flight, sorry, could, accompany]  \n",
       "1330381                                                  [wondering, train, take, düsseldorf, airport, flight, jo'burg, !]  "
      ]
     },
     "metadata": {},
     "output_type": "display_data"
    }
   ],
   "source": [
    "display(data[['text', 'cleaned_text', 'preprocessed_text', 'preprocessed_tokenized']].sample(10))"
   ]
  },
  {
   "cell_type": "code",
   "execution_count": 67,
   "id": "48117998-ec92-487f-9259-5138b45871ed",
   "metadata": {},
   "outputs": [
    {
     "name": "stdout",
     "output_type": "stream",
     "text": [
      "Nombre de valeurs manquantes dans 'preprocessed_text': 0\n"
     ]
    }
   ],
   "source": [
    "# Vérifier les valeurs manquantes dans la colonne 'preprocessed_text'\n",
    "missing_values = data['preprocessed_text'].isnull().sum()\n",
    "\n",
    "# Afficher le nombre de valeurs manquantes\n",
    "print(f\"Nombre de valeurs manquantes dans 'preprocessed_text': {missing_values}\")\n"
   ]
  },
  {
   "cell_type": "markdown",
   "id": "460212ff-2ef3-48e2-a7a6-cfc3bc08d5b7",
   "metadata": {},
   "source": [
    "On a pu réduire de 25% le nombre de tokens et il s'avère que nous avons pu extraire des informations de toutes les lignes pré-sélectionnées."
   ]
  },
  {
   "cell_type": "code",
   "execution_count": 68,
   "id": "375d2f28-cbe0-4ba9-89a1-94a78d34a7eb",
   "metadata": {},
   "outputs": [
    {
     "name": "stdout",
     "output_type": "stream",
     "text": [
      "Max length text:  164\n",
      "Max length tokenized (from cleaned_text):  40\n",
      "Max length preprocessed_tokenized:  26\n"
     ]
    }
   ],
   "source": [
    "# Calculer la longueur des séquences (nombre mots ou tokens) dans les colonnes texte\n",
    "data['length_text'] = data['text'].apply(len)\n",
    "data['length_tokenized'] = data['tokenized'].apply(len)\n",
    "data['length_preprocessed_tokenized'] = data['preprocessed_tokenized'].apply(len)\n",
    "\n",
    "# Afficher la longueur maximale des colonnes\n",
    "print(\"Max length text: \", data['length_text'].max())\n",
    "print(\"Max length tokenized (from cleaned_text): \", data['length_tokenized'].max())\n",
    "print(\"Max length preprocessed_tokenized: \", data['length_preprocessed_tokenized'].max())\n"
   ]
  },
  {
   "cell_type": "markdown",
   "id": "cb34afe0-3337-43d5-b5e9-8a1b92cfe503",
   "metadata": {},
   "source": [
    "Le nombre de mots maximum dans les colonnes cleaned_text et preprocessed_text sera utile pour paramétrer les embeddings (Glove, Word2Vec, Bert)."
   ]
  },
  {
   "cell_type": "code",
   "execution_count": 69,
   "id": "4610c773-ee56-41ee-8b9b-8974951e3db8",
   "metadata": {},
   "outputs": [],
   "source": [
    "# Sauvegarder le DataFrame data\n",
    "data.to_csv('./data/data_preprocessed.csv', index=True)\n",
    "# import pandas as pd\n",
    "# data = pd.read_csv('./data/data_preprocessed.csv', index_col=0)"
   ]
  },
  {
   "cell_type": "code",
   "execution_count": 70,
   "id": "66f00f76-be17-496b-9881-18b723dec71e",
   "metadata": {},
   "outputs": [],
   "source": [
    "# Sauvegarde du dataframe simplifié pour AutoML\n",
    "data_simple = data[[\"text\", \"target\"]]\n",
    "data_simple.to_csv('./data/data_autoML.csv', index=False)"
   ]
  },
  {
   "cell_type": "code",
   "execution_count": 71,
   "id": "3f118769-d0de-4f25-940d-dac87ea0e961",
   "metadata": {},
   "outputs": [],
   "source": [
    "# Sauvegarde du dataframe simplifié pour AutoML\n",
    "data_simple_cleaned = data[[\"cleaned_text\", \"target\"]]\n",
    "data_simple_cleaned.to_csv('./data/data_cleaned_autoML.csv', index=False)"
   ]
  },
  {
   "cell_type": "markdown",
   "id": "3fc250de-6fdc-40d5-9da5-0b040995bae9",
   "metadata": {},
   "source": [
    "### Utilisation d'un embedding donnant la polarité d'une phrase\n",
    "Nous allons tester les bibliothèques d'analyse de sentiments sur étagère, pour le texte brut et pour le texte prétraité.<br>\n",
    "Un benchmark nous a fourni une liste de ressources, nous avons choisi celles qui sont implémentées dans des bibliothèques connues plutôt que des projets isolés (comme tweets_preprocessor ou Afinn)."
   ]
  },
  {
   "cell_type": "markdown",
   "id": "24bcf020-d715-4d76-8d33-d69fdb45bdfd",
   "metadata": {},
   "source": [
    "#### NLTK SentimentIntensityAnalyser\n",
    "source: https://www.kaggle.com/code/ashagutlapalli/nlp-101-with-nltk-and-spacy-text-analysis"
   ]
  },
  {
   "cell_type": "code",
   "execution_count": 72,
   "id": "2f0dbf5b-79d7-4228-b384-14b5acfb8213",
   "metadata": {},
   "outputs": [],
   "source": [
    "# nltk.download('vader_lexicon')"
   ]
  },
  {
   "cell_type": "code",
   "execution_count": 73,
   "id": "55221b9d-5b39-408a-865b-c8c84151a126",
   "metadata": {},
   "outputs": [
    {
     "data": {
      "image/png": "[encoded data removed]",
      "text/plain": [
       "<Figure size 2500x300 with 2 Axes>"
      ]
     },
     "metadata": {},
     "output_type": "display_data"
    },
    {
     "data": {
      "image/png": "[encoded data removed]",
      "text/plain": [
       "<Figure size 2500x300 with 2 Axes>"
      ]
     },
     "metadata": {},
     "output_type": "display_data"
    },
    {
     "data": {
      "image/png": "[encoded data removed]",
      "text/plain": [
       "<Figure size 2500x300 with 2 Axes>"
      ]
     },
     "metadata": {},
     "output_type": "display_data"
    }
   ],
   "source": [
    "import numpy as np\n",
    "import matplotlib.pyplot as plt\n",
    "from nltk.sentiment import SentimentIntensityAnalyzer\n",
    "from nltk.tokenize import word_tokenize\n",
    "\n",
    "# Sélectionner une ligne au hasard\n",
    "index = data.sample(1).index[0]\n",
    "text_original = data.loc[index, 'text']\n",
    "text_cleaned = data.loc[index, 'cleaned_text']\n",
    "tokenized_cleaned = data.loc[index, 'tokenized']\n",
    "text_preprocessed = data.loc[index, 'preprocessed_text']\n",
    "tokenized_preprocessed = data.loc[index, 'preprocessed_tokenized']\n",
    "real_sentiment = data.loc[index, 'sentiment_score']  # Sentiment réel\n",
    "\n",
    "# Initialiser SentimentIntensityAnalyzer\n",
    "sia = SentimentIntensityAnalyzer()\n",
    "\n",
    "def generate_heatmap(text, words, title, real_sentiment):\n",
    "    \"\"\" Pour un texte d'origine et sa version tokenisée\n",
    "        fournit une carte de chaleur de chaque token\n",
    "        et la polarité du texte par moyennage\n",
    "        (0: sentiment négatif, 1: sentiment positif)\n",
    "    \"\"\"\n",
    "    # Obtenir les scores de polarité pour chaque mot dans la phrase\n",
    "    scores = [sia.polarity_scores(word)['compound'] for word in words]\n",
    "    \n",
    "    # Convertir les scores en tableau numpy\n",
    "    x = np.array([scores])\n",
    "    \n",
    "    # Calculer le score global avec un arrondi\n",
    "    polarity_scores = sia.polarity_scores(text)\n",
    "    compound_score = round((polarity_scores['compound'] + 1) / 2)\n",
    "    \n",
    "    # Créer la heatmap\n",
    "    fig, ax = plt.subplots(figsize=(25, 3))\n",
    "    cax = ax.matshow(x, cmap=\"Pastel2\")\n",
    "    \n",
    "    # Ajouter les annotations\n",
    "    for (i, j), val in np.ndenumerate(x):\n",
    "        ax.text(j, i, f\"{words[j]}\\n{val:.2f}\", ha='center', va='center')\n",
    "    \n",
    "    # Ajouter une barre de couleur\n",
    "    fig.colorbar(cax)\n",
    "    \n",
    "    # Ajouter un titre incluant le sentiment réel\n",
    "    plt.title(f'{title} (Compound Score: {compound_score}, Real Sentiment: {real_sentiment})')\n",
    "    plt.show()\n",
    "\n",
    "# Générer les heatmaps pour chaque colonne\n",
    "# Pour le texte original, on utilise word_tokenize\n",
    "words_original = word_tokenize(text_original)\n",
    "generate_heatmap(text_original, words_original, \"Heatmap for Original Text\", int(real_sentiment / 4))\n",
    "\n",
    "# Pour cleaned_text, on utilise la colonne tokenized\n",
    "generate_heatmap(text_cleaned, tokenized_cleaned, \"Heatmap for Cleaned Text\", int(real_sentiment / 4))\n",
    "\n",
    "# Pour preprocessed_text, on utilise la colonne preprocessed_tokenized\n",
    "generate_heatmap(text_preprocessed, tokenized_preprocessed, \"Heatmap for Preprocessed Text\", int(real_sentiment / 4))\n"
   ]
  },
  {
   "cell_type": "markdown",
   "id": "6596593c-9fcd-458c-b5e7-4fa93faefde5",
   "metadata": {},
   "source": [
    "##### Fonction donnant le score sia depuis une colonne de dataframe"
   ]
  },
  {
   "cell_type": "code",
   "execution_count": 74,
   "id": "e9ea389a-afa9-4329-a111-d854c239224d",
   "metadata": {},
   "outputs": [],
   "source": [
    "import numpy as np\n",
    "import pandas as pd\n",
    "from nltk.sentiment import SentimentIntensityAnalyzer\n",
    "from nltk.tokenize import word_tokenize\n",
    "\n",
    "def sentiment_scores(df, column_name):\n",
    "    \"\"\"Pour une colonne d'un dataframe\n",
    "       fournit le score de sentiment du texte\n",
    "       (1: sentiment négatif, 0: sentiment positif)\n",
    "    \"\"\"    \n",
    "    \n",
    "    # Initialiser SentimentIntensityAnalyzer\n",
    "    sia = SentimentIntensityAnalyzer()\n",
    "    \n",
    "    # Fonction pour obtenir le score de polarité inversé (1 pour négatif, 0 pour positif)\n",
    "    def get_inverted_compound_score(text):\n",
    "        polarity_scores = sia.polarity_scores(text)\n",
    "        compound_score = (1 - ((polarity_scores['compound'] + 1) / 2))  # Inversion de l'échelle\n",
    "        return compound_score\n",
    "\n",
    "    # Appliquer la fonction à la colonne spécifiée du DataFrame et retourner les scores\n",
    "    scores = df[column_name].apply(get_inverted_compound_score)\n",
    "    return scores"
   ]
  },
  {
   "cell_type": "code",
   "execution_count": 75,
   "id": "fadc6db6-e958-4832-b732-d24b6c7ba8e3",
   "metadata": {},
   "outputs": [
    {
     "name": "stdout",
     "output_type": "stream",
     "text": [
      "Temps de calcul pour scores_raw_text: 0.8427 secondes\n"
     ]
    }
   ],
   "source": [
    "import time\n",
    "\n",
    "# Mesurer le temps de début\n",
    "start_time = time.time()\n",
    "\n",
    "# Obtenir les scores de sentiment\n",
    "scores_raw_text = sentiment_scores(data, \"text\")\n",
    "\n",
    "# Mesurer le temps de fin et calculer la durée\n",
    "end_time = time.time()\n",
    "elapsed_time = end_time - start_time\n",
    "\n",
    "print(f\"Temps de calcul pour scores_raw_text: {elapsed_time:.4f} secondes\")"
   ]
  },
  {
   "cell_type": "code",
   "execution_count": 76,
   "id": "97ba9507-6e8d-482d-b67a-15488c1893a9",
   "metadata": {},
   "outputs": [
    {
     "data": {
      "image/png": "[encoded data removed]",
      "text/plain": [
       "<Figure size 640x480 with 2 Axes>"
      ]
     },
     "metadata": {},
     "output_type": "display_data"
    },
    {
     "name": "stdout",
     "output_type": "stream",
     "text": [
      "Classification Report:\n",
      "               precision    recall  f1-score   support\n",
      "\n",
      "           0       0.61      0.87      0.72      3229\n",
      "           1       0.77      0.44      0.56      3244\n",
      "\n",
      "    accuracy                           0.66      6473\n",
      "   macro avg       0.69      0.66      0.64      6473\n",
      "weighted avg       0.69      0.66      0.64      6473\n",
      "\n"
     ]
    }
   ],
   "source": [
    "from sklearn.metrics import confusion_matrix, ConfusionMatrixDisplay, classification_report\n",
    "import matplotlib.pyplot as plt\n",
    "import numpy as np\n",
    "\n",
    "# Arrondi des scores pour comparer avec target\n",
    "sentiment_raw_text = round(scores_raw_text)\n",
    "\n",
    "# Calculer la matrice de confusion\n",
    "cm = confusion_matrix(data['target'], sentiment_raw_text)\n",
    "\n",
    "# Afficher la matrice de confusion avec des couleurs pastel et des annotations en pourcentage\n",
    "fig, ax = plt.subplots()\n",
    "cax = ax.matshow(cm, cmap=\"Pastel2\")\n",
    "\n",
    "# Ajouter les annotations en pourcentage\n",
    "for (i, j), val in np.ndenumerate(cm):\n",
    "    ax.text(j, i, f\"{val / cm.sum():.2%}\", ha='center', va='center')\n",
    "\n",
    "# Ajouter une barre de couleur\n",
    "fig.colorbar(cax)\n",
    "\n",
    "# Ajouter un titre\n",
    "plt.title('Confusion Matrix')\n",
    "plt.xlabel('Predicted')\n",
    "plt.ylabel('Actual')\n",
    "plt.show()\n",
    "\n",
    "# Afficher le rapport de classification\n",
    "report = classification_report(data['target'], sentiment_raw_text)\n",
    "print(\"Classification Report:\\n\", report)\n"
   ]
  },
  {
   "cell_type": "code",
   "execution_count": 77,
   "id": "8463f9c7-a5e9-450c-b1a6-8e0bdca8a7c0",
   "metadata": {},
   "outputs": [],
   "source": [
    "scores_preprocessed_text = sentiment_scores(data, \"preprocessed_text\")\n",
    "# Arrondi des scores pour comparer avec target\n",
    "sentiment_preprocessed_text = round(scores_preprocessed_text)"
   ]
  },
  {
   "cell_type": "code",
   "execution_count": 78,
   "id": "e963baf2-c7f1-4397-b7f9-f93090c4a84e",
   "metadata": {},
   "outputs": [
    {
     "data": {
      "image/png": "[encoded data removed]",
      "text/plain": [
       "<Figure size 640x480 with 2 Axes>"
      ]
     },
     "metadata": {},
     "output_type": "display_data"
    },
    {
     "name": "stdout",
     "output_type": "stream",
     "text": [
      "Classification Report:\n",
      "               precision    recall  f1-score   support\n",
      "\n",
      "           0       0.60      0.88      0.71      3229\n",
      "           1       0.77      0.41      0.54      3244\n",
      "\n",
      "    accuracy                           0.64      6473\n",
      "   macro avg       0.68      0.64      0.62      6473\n",
      "weighted avg       0.68      0.64      0.62      6473\n",
      "\n"
     ]
    }
   ],
   "source": [
    "from sklearn.metrics import confusion_matrix, ConfusionMatrixDisplay, classification_report\n",
    "import matplotlib.pyplot as plt\n",
    "import numpy as np\n",
    "\n",
    "# Calculer la matrice de confusion\n",
    "cm = confusion_matrix(data['target'], sentiment_preprocessed_text)\n",
    "\n",
    "# Afficher la matrice de confusion avec des couleurs pastel et des annotations en pourcentage\n",
    "fig, ax = plt.subplots()\n",
    "cax = ax.matshow(cm, cmap=\"Pastel1\")\n",
    "\n",
    "# Ajouter les annotations en pourcentage\n",
    "for (i, j), val in np.ndenumerate(cm):\n",
    "    ax.text(j, i, f\"{val / cm.sum():.2%}\", ha='center', va='center')\n",
    "\n",
    "# Ajouter une barre de couleur\n",
    "fig.colorbar(cax)\n",
    "\n",
    "# Ajouter un titre\n",
    "plt.title('Confusion Matrix')\n",
    "plt.xlabel('Predicted')\n",
    "plt.ylabel('Actual')\n",
    "plt.show()\n",
    "\n",
    "# Afficher le rapport de classification\n",
    "report = classification_report(data['target'], sentiment_preprocessed_text)\n",
    "print(\"Classification Report:\\n\", report)\n"
   ]
  },
  {
   "cell_type": "markdown",
   "id": "68a7b34e-0238-4631-b580-fd12950f8b71",
   "metadata": {},
   "source": [
    "Avec un seuil du score à 0.5 (round) il est beaucoup plus difficile de détecter un sentiment négatif qu'un sentiment positif. L'accuracy moyenne est légèrement meilleur pour le texte brut par rapport au texte pré-traité."
   ]
  },
  {
   "cell_type": "markdown",
   "id": "fd9377f8-fb1d-4a6f-b361-10db5f04cd4e",
   "metadata": {},
   "source": [
    "#### Spacy TextBlob\n",
    "TextBlob fonctionne avec un dictionnaire où les mots sont enregistrés avec leur connotation positive/négative."
   ]
  },
  {
   "cell_type": "code",
   "execution_count": 79,
   "id": "e47d975f-435b-4716-a346-d06ffcdac887",
   "metadata": {},
   "outputs": [],
   "source": [
    "import pandas as pd\n",
    "from textblob import TextBlob\n",
    "\n",
    "def analyse_sentiments_textblob(df, column_name):\n",
    "    \"\"\"Calcule les scores de sentiment en inversant l'échelle de TextBlob \n",
    "       (1 : sentiment négatif, 0 : sentiment positif)\n",
    "    \"\"\"\n",
    "    \n",
    "    # Fonction pour obtenir le score de sentiment avec l'échelle inversée\n",
    "    def get_inverted_sentiment_score(text):\n",
    "        blob = TextBlob(text)\n",
    "        polarity = blob.sentiment.polarity\n",
    "        score = 1 - ((polarity + 1) / 2)  # Inversion de l'échelle\n",
    "        return score\n",
    "    \n",
    "    # Appliquer la fonction à la colonne spécifiée du DataFrame\n",
    "    sentiment_score = df[column_name].apply(get_inverted_sentiment_score)\n",
    "    \n",
    "    return sentiment_score"
   ]
  },
  {
   "cell_type": "code",
   "execution_count": 80,
   "id": "53863f28-f26d-491a-8c34-c4e1f1f52d5c",
   "metadata": {},
   "outputs": [
    {
     "name": "stdout",
     "output_type": "stream",
     "text": [
      "Temps de calcul pour scores_raw_textblob: 1.0782 secondes\n"
     ]
    }
   ],
   "source": [
    "# Mesurer le temps de début\n",
    "start_time = time.time()\n",
    "\n",
    "# Obtenir les scores de sentiment\n",
    "scores_raw_textblob = analyse_sentiments_textblob(data, 'text')\n",
    "\n",
    "# Mesurer le temps de fin et calculer la durée\n",
    "end_time = time.time()\n",
    "elapsed_time = end_time - start_time\n",
    "\n",
    "print(f\"Temps de calcul pour scores_raw_textblob: {elapsed_time:.4f} secondes\")"
   ]
  },
  {
   "cell_type": "code",
   "execution_count": 81,
   "id": "eadd6e36-d8b6-4d13-8db6-a48343fdab45",
   "metadata": {},
   "outputs": [
    {
     "data": {
      "image/png": "[encoded data removed]",
      "text/plain": [
       "<Figure size 640x480 with 2 Axes>"
      ]
     },
     "metadata": {},
     "output_type": "display_data"
    },
    {
     "name": "stdout",
     "output_type": "stream",
     "text": [
      "Classification Report:\n",
      "               precision    recall  f1-score   support\n",
      "\n",
      "           0       0.56      0.88      0.69      3229\n",
      "           1       0.73      0.32      0.44      3244\n",
      "\n",
      "    accuracy                           0.60      6473\n",
      "   macro avg       0.64      0.60      0.56      6473\n",
      "weighted avg       0.64      0.60      0.56      6473\n",
      "\n"
     ]
    }
   ],
   "source": [
    "# Arrondi pour comparer avec target\n",
    "sentiment_raw_textblob = round(scores_raw_textblob)\n",
    "\n",
    "# Calculer la matrice de confusion\n",
    "cm = confusion_matrix(data['target'], sentiment_raw_textblob)\n",
    "\n",
    "# Afficher la matrice de confusion avec des couleurs pastel et des annotations en pourcentage\n",
    "fig, ax = plt.subplots()\n",
    "cax = ax.matshow(cm, cmap=\"Pastel2\")\n",
    "\n",
    "# Ajouter les annotations en pourcentage\n",
    "for (i, j), val in np.ndenumerate(cm):\n",
    "    ax.text(j, i, f\"{val / cm.sum():.2%}\", ha='center', va='center')\n",
    "\n",
    "# Ajouter une barre de couleur\n",
    "fig.colorbar(cax)\n",
    "\n",
    "# Ajouter un titre\n",
    "plt.title('Confusion Matrix')\n",
    "plt.xlabel('Predicted')\n",
    "plt.ylabel('Actual')\n",
    "plt.show()\n",
    "\n",
    "# Afficher le rapport de classification\n",
    "report = classification_report(data['target'], sentiment_raw_textblob)\n",
    "print(\"Classification Report:\\n\", report)"
   ]
  },
  {
   "cell_type": "markdown",
   "id": "bee2f940-3166-4742-a8c1-2c41eb159b92",
   "metadata": {},
   "source": [
    "<div class=\"alert alert-block alert-danger\">\n",
    "    <b>Le calcul de NLTK (utilisant VADER, outil spécifiquement élaboré pour l'analyse de tweets) est plus rapide que TextBlob avec un meilleur taux de faux négatifs. On peut bien sûr ajuster le seuil de détection pour les minimiser mais l'exactitude de prédiction restera au même niveau. Considérons plutôt qu'il s'agit d'une baseline. A noter également que VADER n'a pas besoin de l'ensemble des pré-traitements que nous avons effectués ; au contraire ils dégradent légèrement le résultat. Nous allons ajouter la colonne des scores sia qui pourra éventuellement être utilisée en complément de modèles plus avancés.</b>\n",
    "</div>"
   ]
  },
  {
   "cell_type": "code",
   "execution_count": 82,
   "id": "283587a8-3e0f-4a17-a38a-8379b3d2407d",
   "metadata": {},
   "outputs": [],
   "source": [
    "data[\"sia_sentiment\"] = scores_raw_text"
   ]
  },
  {
   "cell_type": "markdown",
   "id": "b4872df2-1515-4f1f-88cd-e4d58f509c2c",
   "metadata": {},
   "source": [
    "### Sauvegarde de la baseline dans MLFlow (approche classique)"
   ]
  },
  {
   "cell_type": "code",
   "execution_count": 89,
   "id": "98f07270-fa32-40ba-af77-6404e140fefd",
   "metadata": {},
   "outputs": [],
   "source": [
    "# Enregistrement de la baseline dans l'approche classique\n",
    "import mlflow"
   ]
  },
  {
   "cell_type": "code",
   "execution_count": 90,
   "id": "df5dde87-df66-4ab6-82f9-93de7b5c605f",
   "metadata": {},
   "outputs": [
    {
     "data": {
      "text/plain": [
       "<Experiment: artifact_location='mlflow-artifacts:/374735653194037029', creation_time=1729108772155, experiment_id='374735653194037029', last_update_time=1729108772155, lifecycle_stage='active', name='approche_classique', tags={}>"
      ]
     },
     "execution_count": 90,
     "metadata": {},
     "output_type": "execute_result"
    }
   ],
   "source": [
    "# Asignation du serveur de tracking MLFlow\n",
    "mlflow.set_tracking_uri(\"http://localhost:5000\")\n",
    "# Création de l'expérimentation \"approche classique\"\n",
    "mlflow.set_experiment(\"approche_classique\")"
   ]
  },
  {
   "cell_type": "code",
   "execution_count": 92,
   "id": "e3cb62dd-f7fa-4b0c-99b6-6dc4490ca78b",
   "metadata": {},
   "outputs": [
    {
     "name": "stderr",
     "output_type": "stream",
     "text": [
      "2024/11/03 15:25:16 INFO mlflow.tracking._tracking_service.client: 🏃 View run Baseline (SentimentIntensityAnalysis) at: http://localhost:5000/#/experiments/374735653194037029/runs/3cb18eb6ec6a47c68cd4507978e3fe15.\n",
      "2024/11/03 15:25:16 INFO mlflow.tracking._tracking_service.client: 🧪 View experiment at: http://localhost:5000/#/experiments/374735653194037029.\n"
     ]
    },
    {
     "name": "stdout",
     "output_type": "stream",
     "text": [
      "Matrice de confusion et rapport de classification enregistrés dans MLflow.\n"
     ]
    }
   ],
   "source": [
    "import mlflow\n",
    "from sklearn.metrics import confusion_matrix, classification_report\n",
    "import matplotlib.pyplot as plt\n",
    "import numpy as np\n",
    "\n",
    "# Arrondi des scores pour comparer avec target\n",
    "sentiment_raw_text = round(scores_raw_text)\n",
    "\n",
    "# Calculer la matrice de confusion\n",
    "cm = confusion_matrix(data['target'], sentiment_raw_text)\n",
    "\n",
    "# Démarrer un run MLflow\n",
    "with mlflow.start_run(run_name=\"Baseline (SentimentIntensityAnalysis)\"):\n",
    "\n",
    "    # Enregistrer la matrice de confusion sous forme d'image dans MLflow\n",
    "    fig, ax = plt.subplots()\n",
    "    cax = ax.matshow(cm, cmap=\"Pastel2\")\n",
    "    \n",
    "    # Ajouter les annotations pour chaque cellule avec le nombre d'individus\n",
    "    for (i, j), val in np.ndenumerate(cm):\n",
    "        ax.text(j, i, f\"{val}\", ha='center', va='center')  # Affiche le nombre au lieu du pourcentage\n",
    "    \n",
    "    # Ajouter une barre de couleur et des titres\n",
    "    fig.colorbar(cax)\n",
    "    plt.title('Confusion Matrix')\n",
    "    plt.xlabel('Predicted')\n",
    "    plt.ylabel('Actual')\n",
    "    \n",
    "    # Sauvegarder la figure temporairement\n",
    "    fig.savefig(\"confusion_matrix.png\")\n",
    "    \n",
    "    # Logger l'image dans MLflow\n",
    "    mlflow.log_artifact(\"confusion_matrix.png\")\n",
    "    \n",
    "    # Fermer la figure pour libérer la mémoire\n",
    "    plt.close(fig)\n",
    "    \n",
    "    # Générer et enregistrer le rapport de classification\n",
    "    report = classification_report(data['target'], sentiment_raw_text)\n",
    "    \n",
    "    # Sauvegarder le rapport de classification dans MLflow en tant que texte\n",
    "    with open(\"classification_report.txt\", \"w\") as f:\n",
    "        f.write(report)\n",
    "    \n",
    "    mlflow.log_artifact(\"classification_report.txt\")\n",
    "    \n",
    "    # Vous pouvez également logger les métriques principales si besoin\n",
    "    # (par exemple, F1-score, précision, rappel pour chaque classe)\n",
    "    metrics = classification_report(data['target'], sentiment_raw_text, output_dict=True)\n",
    "    for label, metric_dict in metrics.items():\n",
    "        if isinstance(metric_dict, dict):  # éviter les 'accuracy', etc.\n",
    "            for metric, score in metric_dict.items():\n",
    "                mlflow.log_metric(f\"{label}_{metric}\", score)\n",
    "    \n",
    "    # Indiquer la fin du run\n",
    "    print(\"Matrice de confusion et rapport de classification enregistrés dans MLflow.\")\n"
   ]
  },
  {
   "cell_type": "markdown",
   "id": "9298be94-d638-4616-899f-8b7fede3bfb0",
   "metadata": {},
   "source": [
    "### Préparation des données à la modélisation"
   ]
  },
  {
   "cell_type": "markdown",
   "id": "08e7ce8d-e460-42c5-ac0a-4eec5f96c114",
   "metadata": {},
   "source": [
    "Nous allons comparer les performances des modèles sur un échantillon que nous allons séparer en train/test et garder également 25 % des données pour un éventuel test complémentaire."
   ]
  },
  {
   "cell_type": "code",
   "execution_count": 83,
   "id": "cad3f077-100e-4978-bd2e-e5e279a02f13",
   "metadata": {},
   "outputs": [],
   "source": [
    "import pandas as pd\n",
    "from sklearn.model_selection import train_test_split\n",
    "\n",
    "# Echantillonage\n",
    "df_sample, test_df = train_test_split(data, test_size=0.25, stratify=data[\"target\"])"
   ]
  },
  {
   "cell_type": "code",
   "execution_count": 84,
   "id": "0aa43a2a-839f-4d99-93f1-200b7d6e13e0",
   "metadata": {},
   "outputs": [
    {
     "data": {
      "text/plain": [
       "(4854, 15)"
      ]
     },
     "execution_count": 84,
     "metadata": {},
     "output_type": "execute_result"
    }
   ],
   "source": [
    "df_sample.shape"
   ]
  },
  {
   "cell_type": "code",
   "execution_count": 85,
   "id": "590f97ce-1811-40d3-b4df-de55c3e1f473",
   "metadata": {},
   "outputs": [
    {
     "name": "stdout",
     "output_type": "stream",
     "text": [
      "Taille de l'ensemble d'entraînement : 3397\n",
      "Taille de l'ensemble de test : 1619\n"
     ]
    }
   ],
   "source": [
    "# Séparation en train/test\n",
    "train_df, val_df = train_test_split(df_sample, test_size=0.3, stratify=df_sample['target'])\n",
    "\n",
    "print(\"Taille de l'ensemble d'entraînement :\", len(train_df))\n",
    "print(\"Taille de l'ensemble de test :\", len(test_df))"
   ]
  },
  {
   "cell_type": "code",
   "execution_count": 86,
   "id": "af589d1a-d737-4816-8416-c8edd5467edd",
   "metadata": {},
   "outputs": [
    {
     "data": {
      "text/html": [
       "<div>\n",
       "<style scoped>\n",
       "    .dataframe tbody tr th:only-of-type {\n",
       "        vertical-align: middle;\n",
       "    }\n",
       "\n",
       "    .dataframe tbody tr th {\n",
       "        vertical-align: top;\n",
       "    }\n",
       "\n",
       "    .dataframe thead th {\n",
       "        text-align: right;\n",
       "    }\n",
       "</style>\n",
       "<table border=\"1\" class=\"dataframe\">\n",
       "  <thead>\n",
       "    <tr style=\"text-align: right;\">\n",
       "      <th></th>\n",
       "      <th>target</th>\n",
       "      <th>ids</th>\n",
       "      <th>date</th>\n",
       "      <th>flag</th>\n",
       "      <th>user</th>\n",
       "      <th>text</th>\n",
       "      <th>sentiment_score</th>\n",
       "      <th>cleaned_text</th>\n",
       "      <th>tokenized</th>\n",
       "      <th>preprocessed_text</th>\n",
       "      <th>preprocessed_tokenized</th>\n",
       "      <th>length_text</th>\n",
       "      <th>length_tokenized</th>\n",
       "      <th>length_preprocessed_tokenized</th>\n",
       "      <th>sia_sentiment</th>\n",
       "    </tr>\n",
       "  </thead>\n",
       "  <tbody>\n",
       "    <tr>\n",
       "      <th>432425</th>\n",
       "      <td>1</td>\n",
       "      <td>2064746331</td>\n",
       "      <td>Sun Jun 07 07:04:14 PDT 2009</td>\n",
       "      <td>NO_QUERY</td>\n",
       "      <td>sadiefoster</td>\n",
       "      <td>more bodies found from air france flight. now its at 5</td>\n",
       "      <td>0</td>\n",
       "      <td>More bodies found from Air France flight. Now its at 5</td>\n",
       "      <td>[More, bodies, found, from, Air, France, flight, ., Now, its, at, 5]</td>\n",
       "      <td>body found air france flight  5</td>\n",
       "      <td>[body, found, air, france, flight, 5]</td>\n",
       "      <td>55</td>\n",
       "      <td>12</td>\n",
       "      <td>6</td>\n",
       "      <td>0.5000</td>\n",
       "    </tr>\n",
       "    <tr>\n",
       "      <th>1318745</th>\n",
       "      <td>0</td>\n",
       "      <td>2014408402</td>\n",
       "      <td>Wed Jun 03 01:25:54 PDT 2009</td>\n",
       "      <td>NO_QUERY</td>\n",
       "      <td>blak4ever</td>\n",
       "      <td>@ChrisTFT yes it is insaaannnee over there! @ least that's what i'm told.  have a safe flight</td>\n",
       "      <td>4</td>\n",
       "      <td>&lt;mention&gt; yes it is instance over there! Least that is what I am told.  Have a safe flight</td>\n",
       "      <td>[&lt;mention&gt;, yes, it, is, instance, over, there, !, Least, that, is, what, I, am, told, ., Have, a, safe, flight]</td>\n",
       "      <td>&lt;mention&gt; yes instance ! least told  safe flight</td>\n",
       "      <td>[&lt;mention&gt;, yes, instance, !, least, told, safe, flight]</td>\n",
       "      <td>93</td>\n",
       "      <td>20</td>\n",
       "      <td>8</td>\n",
       "      <td>0.1456</td>\n",
       "    </tr>\n",
       "    <tr>\n",
       "      <th>1205856</th>\n",
       "      <td>0</td>\n",
       "      <td>1986642901</td>\n",
       "      <td>Sun May 31 19:07:19 PDT 2009</td>\n",
       "      <td>NO_QUERY</td>\n",
       "      <td>christy80</td>\n",
       "      <td>@ebassman Dang! Wish I was there! Hop a flight to chattanooga!</td>\n",
       "      <td>4</td>\n",
       "      <td>&lt;mention&gt; Dang! Wish I was there! Hop a flight to Chattanooga!</td>\n",
       "      <td>[&lt;mention&gt;, Dang, !, Wish, I, was, there, !, Hop, a, flight, to, Chattanooga, !]</td>\n",
       "      <td>&lt;mention&gt; dang ! wish ! hop flight chattanooga !</td>\n",
       "      <td>[&lt;mention&gt;, dang, !, wish, !, hop, flight, chattanooga, !]</td>\n",
       "      <td>63</td>\n",
       "      <td>14</td>\n",
       "      <td>9</td>\n",
       "      <td>0.2231</td>\n",
       "    </tr>\n",
       "    <tr>\n",
       "      <th>949863</th>\n",
       "      <td>0</td>\n",
       "      <td>1823846037</td>\n",
       "      <td>Sat May 16 23:10:24 PDT 2009</td>\n",
       "      <td>NO_QUERY</td>\n",
       "      <td>anakbrunei</td>\n",
       "      <td>Off to the airport for Maria's album launch</td>\n",
       "      <td>4</td>\n",
       "      <td>Off to the airport for Maria's album launch</td>\n",
       "      <td>[Off, to, the, airport, for, Maria, 's, album, launch]</td>\n",
       "      <td>airport maria 's album launch</td>\n",
       "      <td>[airport, maria, 's, album, launch]</td>\n",
       "      <td>44</td>\n",
       "      <td>9</td>\n",
       "      <td>5</td>\n",
       "      <td>0.5000</td>\n",
       "    </tr>\n",
       "    <tr>\n",
       "      <th>574933</th>\n",
       "      <td>1</td>\n",
       "      <td>2210741071</td>\n",
       "      <td>Wed Jun 17 11:57:51 PDT 2009</td>\n",
       "      <td>NO_QUERY</td>\n",
       "      <td>HollyInSD</td>\n",
       "      <td>@iamsmartalek Man, that is such a bummer to hear.  I never even did the last software upgrade in anticipation of this one.</td>\n",
       "      <td>0</td>\n",
       "      <td>&lt;mention&gt; Man, that is such a bummer to hear.  I never even did the last software upgrade in anticipation of this one.</td>\n",
       "      <td>[&lt;mention&gt;, Man, ,, that, is, such, a, bummer, to, hear, ., I, never, even, did, the, last, software, upgrade, in, anticipation, of, this, one, .]</td>\n",
       "      <td>&lt;mention&gt; man  bummer hear  never even last software upgrade anticipation one</td>\n",
       "      <td>[&lt;mention&gt;, man, bummer, hear, never, even, last, software, upgrade, anticipation, one]</td>\n",
       "      <td>124</td>\n",
       "      <td>25</td>\n",
       "      <td>11</td>\n",
       "      <td>0.6480</td>\n",
       "    </tr>\n",
       "  </tbody>\n",
       "</table>\n",
       "</div>"
      ],
      "text/plain": [
       "         target         ids                          date      flag  \\\n",
       "432425        1  2064746331  Sun Jun 07 07:04:14 PDT 2009  NO_QUERY   \n",
       "1318745       0  2014408402  Wed Jun 03 01:25:54 PDT 2009  NO_QUERY   \n",
       "1205856       0  1986642901  Sun May 31 19:07:19 PDT 2009  NO_QUERY   \n",
       "949863        0  1823846037  Sat May 16 23:10:24 PDT 2009  NO_QUERY   \n",
       "574933        1  2210741071  Wed Jun 17 11:57:51 PDT 2009  NO_QUERY   \n",
       "\n",
       "                user  \\\n",
       "432425   sadiefoster   \n",
       "1318745    blak4ever   \n",
       "1205856    christy80   \n",
       "949863    anakbrunei   \n",
       "574933     HollyInSD   \n",
       "\n",
       "                                                                                                                                 text  \\\n",
       "432425                                                                        more bodies found from air france flight. now its at 5    \n",
       "1318745                                 @ChrisTFT yes it is insaaannnee over there! @ least that's what i'm told.  have a safe flight   \n",
       "1205856                                                               @ebassman Dang! Wish I was there! Hop a flight to chattanooga!    \n",
       "949863                                                                                   Off to the airport for Maria's album launch    \n",
       "574933   @iamsmartalek Man, that is such a bummer to hear.  I never even did the last software upgrade in anticipation of this one.     \n",
       "\n",
       "         sentiment_score  \\\n",
       "432425                 0   \n",
       "1318745                4   \n",
       "1205856                4   \n",
       "949863                 4   \n",
       "574933                 0   \n",
       "\n",
       "                                                                                                                     cleaned_text  \\\n",
       "432425                                                                    More bodies found from Air France flight. Now its at 5    \n",
       "1318745                                <mention> yes it is instance over there! Least that is what I am told.  Have a safe flight   \n",
       "1205856                                                           <mention> Dang! Wish I was there! Hop a flight to Chattanooga!    \n",
       "949863                                                                               Off to the airport for Maria's album launch    \n",
       "574933   <mention> Man, that is such a bummer to hear.  I never even did the last software upgrade in anticipation of this one.     \n",
       "\n",
       "                                                                                                                                                  tokenized  \\\n",
       "432425                                                                                 [More, bodies, found, from, Air, France, flight, ., Now, its, at, 5]   \n",
       "1318745                                    [<mention>, yes, it, is, instance, over, there, !, Least, that, is, what, I, am, told, ., Have, a, safe, flight]   \n",
       "1205856                                                                    [<mention>, Dang, !, Wish, I, was, there, !, Hop, a, flight, to, Chattanooga, !]   \n",
       "949863                                                                                               [Off, to, the, airport, for, Maria, 's, album, launch]   \n",
       "574933   [<mention>, Man, ,, that, is, such, a, bummer, to, hear, ., I, never, even, did, the, last, software, upgrade, in, anticipation, of, this, one, .]   \n",
       "\n",
       "                                                                      preprocessed_text  \\\n",
       "432425                                                  body found air france flight  5   \n",
       "1318745                                <mention> yes instance ! least told  safe flight   \n",
       "1205856                                <mention> dang ! wish ! hop flight chattanooga !   \n",
       "949863                                                    airport maria 's album launch   \n",
       "574933   <mention> man  bummer hear  never even last software upgrade anticipation one    \n",
       "\n",
       "                                                                          preprocessed_tokenized  \\\n",
       "432425                                                     [body, found, air, france, flight, 5]   \n",
       "1318745                                 [<mention>, yes, instance, !, least, told, safe, flight]   \n",
       "1205856                               [<mention>, dang, !, wish, !, hop, flight, chattanooga, !]   \n",
       "949863                                                       [airport, maria, 's, album, launch]   \n",
       "574933   [<mention>, man, bummer, hear, never, even, last, software, upgrade, anticipation, one]   \n",
       "\n",
       "         length_text  length_tokenized  length_preprocessed_tokenized  \\\n",
       "432425            55                12                              6   \n",
       "1318745           93                20                              8   \n",
       "1205856           63                14                              9   \n",
       "949863            44                 9                              5   \n",
       "574933           124                25                             11   \n",
       "\n",
       "         sia_sentiment  \n",
       "432425          0.5000  \n",
       "1318745         0.1456  \n",
       "1205856         0.2231  \n",
       "949863          0.5000  \n",
       "574933          0.6480  "
      ]
     },
     "execution_count": 86,
     "metadata": {},
     "output_type": "execute_result"
    }
   ],
   "source": [
    "train_df.head(5)"
   ]
  },
  {
   "cell_type": "code",
   "execution_count": 87,
   "id": "6ff586e1-2213-4812-a34e-a9184c1518c5",
   "metadata": {},
   "outputs": [],
   "source": [
    "# Sauvegarde des dataframe train et test\n",
    "train_df.to_csv('./data/train_df.csv', index=False)\n",
    "test_df.to_csv('./data/test_df.csv', index=False)\n",
    "val_df.to_csv('./data/val_df.csv', index=False)"
   ]
  },
  {
   "cell_type": "code",
   "execution_count": 88,
   "id": "2cb48794-76d4-4a32-9461-583467724609",
   "metadata": {},
   "outputs": [],
   "source": [
    "# Sauvegarde des dataframes simplifiés pour AutoML (analyse du langage naturel)\n",
    "train_df_simple = train_df[[\"text\", \"target\"]]\n",
    "train_df_simple.to_csv('./data/train_data_autoML.csv', index=False)\n",
    "test_df_simple = test_df[[\"text\", \"target\"]]\n",
    "test_df_simple.to_csv('./data/test_data_autoML.csv', index=False)\n",
    "val_df_simple = val_df[[\"text\", \"target\"]]\n",
    "val_df_simple.to_csv('./data/val_data_autoML.csv', index=False)"
   ]
  }
 ],
 "metadata": {
  "kernelspec": {
   "display_name": "AIEP7",
   "language": "python",
   "name": "aiep7"
  },
  "language_info": {
   "codemirror_mode": {
    "name": "ipython",
    "version": 3
   },
   "file_extension": ".py",
   "mimetype": "text/x-python",
   "name": "python",
   "nbconvert_exporter": "python",
   "pygments_lexer": "ipython3",
   "version": "3.12.5"
  }
 },
 "nbformat": 4,
 "nbformat_minor": 5
}
